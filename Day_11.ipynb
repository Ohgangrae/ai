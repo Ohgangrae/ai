{
  "nbformat": 4,
  "nbformat_minor": 0,
  "metadata": {
    "colab": {
      "name": "Day 11.ipynb",
      "provenance": [],
      "collapsed_sections": [],
      "authorship_tag": "ABX9TyNahIS+ngYFKH7t+58RVlGm",
      "include_colab_link": true
    },
    "kernelspec": {
      "name": "python3",
      "display_name": "Python 3"
    },
    "language_info": {
      "name": "python"
    }
  },
  "cells": [
    {
      "cell_type": "markdown",
      "metadata": {
        "id": "view-in-github",
        "colab_type": "text"
      },
      "source": [
        "<a href=\"https://colab.research.google.com/github/Ohgangrae/ai/blob/main/Day_11.ipynb\" target=\"_parent\"><img src=\"https://colab.research.google.com/assets/colab-badge.svg\" alt=\"Open In Colab\"/></a>"
      ]
    },
    {
      "cell_type": "code",
      "execution_count": null,
      "metadata": {
        "id": "tSeuJpdEjaHV"
      },
      "outputs": [],
      "source": [
        "# 001 Ask for the user's first name and display the output message\n",
        "# Hello [First Name]\n"
      ]
    },
    {
      "cell_type": "code",
      "source": [
        "name = input('First Name : ')\n",
        "print('Hello',name)"
      ],
      "metadata": {
        "colab": {
          "base_uri": "https://localhost:8080/"
        },
        "id": "1TWv0tnjjsbj",
        "outputId": "aad1f681-acfa-42b9-91ab-33d53ec75d94"
      },
      "execution_count": 7,
      "outputs": [
        {
          "output_type": "stream",
          "name": "stdout",
          "text": [
            "First Name : peter\n",
            "Hello peter\n"
          ]
        }
      ]
    },
    {
      "cell_type": "code",
      "source": [
        "# 002 Ask for the user's first name and then as for their surname and display the output message\n",
        "# (output) Hello [First Name][Surname]\n",
        "# (input) 'Please enter your surname:'\n",
        "# (input) 'Please enter your firstname:'"
      ],
      "metadata": {
        "id": "RmAJ2_dJksxz"
      },
      "execution_count": null,
      "outputs": []
    },
    {
      "cell_type": "code",
      "source": [
        "fname = input('Please enter your surname:')\n",
        "sname = input('Please enter your firstname:')\n",
        "print(f'Hello {fname} {sname}')\n",
        "print('Hello',fname, sname)"
      ],
      "metadata": {
        "colab": {
          "base_uri": "https://localhost:8080/"
        },
        "id": "JAG_Me9slJVy",
        "outputId": "d9f6ed81-ebc7-4219-9286-e2293a993fd1"
      },
      "execution_count": 14,
      "outputs": [
        {
          "output_type": "stream",
          "name": "stdout",
          "text": [
            "Please enter your surname:oh\n",
            "Please enter your firstname:gangrae\n",
            "Hello oh gangrae\n",
            "Hello oh gangrae\n"
          ]
        }
      ]
    },
    {
      "cell_type": "code",
      "source": [
        "# 003 Ask the user to enter two numbers. Add them together and display the answer as \n",
        "#(output) The total is [answer]\n",
        "#(input) 'Please enter your first number : '\n",
        "#(input) 'Please enter your second number : '\n",
        "fnum = int(input('Please enter your first number : '))\n",
        "snum = int(input('Please enter your second number : '))\n",
        "answer = fnum+snum\n",
        "print(f'The total is {answer}')"
      ],
      "metadata": {
        "colab": {
          "base_uri": "https://localhost:8080/"
        },
        "id": "KMkHI_dymPUT",
        "outputId": "f76a2910-682b-41c0-dae0-9af0a1975a74"
      },
      "execution_count": 15,
      "outputs": [
        {
          "output_type": "stream",
          "name": "stdout",
          "text": [
            "Please enter your first number : 1\n",
            "Please enter your second number : 2\n",
            "The total is 3\n"
          ]
        }
      ]
    },
    {
      "cell_type": "code",
      "source": [
        "# 004 Ask how many slices of pizza the user started with and ask how many slices they have eaten.\n",
        "# Work out how many slices they have left and display the answer in a user friendly format.\n",
        "\n",
        "# (input) 'Enter the number of slices of pizza you started with : '\n",
        "# (input) 'How many slices have you eaten? '\n",
        "# (output) 'The answer is [answer]'\n",
        "\n",
        "sl = int(input('Enter the number of slices of pizza you started with : '))\n",
        "eat = int(input('How many slices have you eaten? '))\n",
        "\n",
        "print(f'The answer is {sl-eat}')\n"
      ],
      "metadata": {
        "colab": {
          "base_uri": "https://localhost:8080/"
        },
        "id": "lYMh-AZCm4R0",
        "outputId": "64b9acba-33e0-404d-cb72-4f4f52aff6c3"
      },
      "execution_count": 17,
      "outputs": [
        {
          "output_type": "stream",
          "name": "stdout",
          "text": [
            "Enter the number of slices of pizza you started with : 6\n",
            "How many slices have you eaten? 4\n",
            "The answer is 2\n"
          ]
        }
      ]
    },
    {
      "cell_type": "code",
      "source": [
        "# 005 Write a program that will ask for a number of days and then will show \n",
        "# how many hours, minutes and seconds are in that number of days.\n",
        "# 일수, 날짜수를 입력 받아서 그 일수 까지의 몇시간 몇분 몇초 가 남았는지를 계산하여 출력하시오\n",
        "#(input) 'Enter the number of days :'\n",
        "\n",
        "#(output) 'In [days], days there are...'\n",
        "#      [hours] hours,\n",
        "#      [minutes] minutes,\n",
        "#      [seconds] seconds\n",
        "\n",
        "days = int(input('Enter the number of days : '))\n",
        "print(f'In {days}, days there are...\\n\\t\\t{days * 24} hours,\\n\\t\\t{days * 24 * 60} minutes,\\n\\t\\t{days * 24 * 60 * 60} seconds.')"
      ],
      "metadata": {
        "colab": {
          "base_uri": "https://localhost:8080/"
        },
        "id": "CuDBaMGjpCWU",
        "outputId": "2d976e8a-b01a-4686-9312-bfab2e37130c"
      },
      "execution_count": 22,
      "outputs": [
        {
          "output_type": "stream",
          "name": "stdout",
          "text": [
            "Enter the number of days : 5\n",
            "In 5, days there are...\n",
            "\t\t120 hours,\n",
            "\t\t7200 minutes,\n",
            "\t\t432000 seconds.\n"
          ]
        }
      ]
    },
    {
      "cell_type": "code",
      "source": [
        "# 006 Task the user to enter a number over 100 and then enter a number \n",
        "# under 10 and tell them how many times the smaller number goes into the larger\n",
        "# number in a user-friendly format.\n",
        "\n",
        "# (input) 'Enter the number over 100 : '\n",
        "# (input) 'Enter the number under 10 : '\n",
        "# (output) '[smaller] goes into [larger] answer [times]' \n",
        "\n",
        "# 사용자로 부터 100이 넘는 숫자를 입력받고 10미만의 숫자 하나를 입력받아\n",
        "# 작은 숫자가 큰 숫자안에 몇 번 들어가는지 사용자 친화적으로 출력하시오.\n",
        "\n",
        "larger = int(input('Enter the number over 100 : '))\n",
        "smaller = int(input('Enter the number under 10 : '))\n",
        "value = larger//smaller\n",
        "print(f'{smaller} goes into {larger} answer {value}times')"
      ],
      "metadata": {
        "colab": {
          "base_uri": "https://localhost:8080/"
        },
        "id": "9snqykDzsdG2",
        "outputId": "21bbb405-3e37-4e31-ecb5-10282befc3a3"
      },
      "execution_count": 28,
      "outputs": [
        {
          "output_type": "stream",
          "name": "stdout",
          "text": [
            "Enter the number over 100 : 100\n",
            "Enter the number under 10 : 8\n",
            "8 goes into 100 answer 12times\n"
          ]
        }
      ]
    },
    {
      "cell_type": "code",
      "source": [
        "#######################################################\n",
        "# IF Statement\n",
        "#######################################################\n",
        "# Ask for two numbers. If the first one is larger than the second, display the second number first and\n",
        "# then the first number, otherwise show the first number first and then the second.\n",
        "\n",
        "# (input)'Enter first number : ' 3 \n",
        "# (input)'Enter second number : '2\n",
        "# (output) 2 3 \n",
        "\n",
        "\n",
        "num1 = int(input('Enter first number : '))\n",
        "num2 = int(input('Enter second number : '))\n",
        "\n",
        "if num1 > num2:\n",
        "  print(num2,num1)\n",
        "else:\n",
        "  print(num1,num2)\n",
        "\n"
      ],
      "metadata": {
        "colab": {
          "base_uri": "https://localhost:8080/"
        },
        "id": "XBw1AhBkse69",
        "outputId": "d610bd4f-ed3a-4cb9-f964-dd565c121a4a"
      },
      "execution_count": 36,
      "outputs": [
        {
          "output_type": "stream",
          "name": "stdout",
          "text": [
            "Enter first number : 2\n",
            "Enter second number : 3\n",
            "2 3\n"
          ]
        }
      ]
    },
    {
      "cell_type": "code",
      "source": [
        "# Ask the user to enter a number between 10 and 20 If they enter a number within this range,\n",
        "# display the message 'Thank you' otherwise display the message 'incorrect number'\n",
        "\n",
        "# 10에서 20 사이의 숫자입력을 요청한다. 만약 입력된 값이 이 범위안의 숫자이면 'Thank you' 아니면 \n",
        "# 'Incorrect number'를 입력하라\n",
        "\n",
        "\n",
        "a = int(input())\n",
        "\n",
        "if 10 <= a <= 20:\n",
        "  print('Thank you')\n",
        "else:\n",
        "  print('incorrect number')"
      ],
      "metadata": {
        "colab": {
          "base_uri": "https://localhost:8080/"
        },
        "id": "q8svMrO81w2B",
        "outputId": "ce2a8f3d-f373-4e4b-b180-b9a1a9d7a4d2"
      },
      "execution_count": 43,
      "outputs": [
        {
          "output_type": "stream",
          "name": "stdout",
          "text": [
            "11\n",
            "Thank you\n"
          ]
        }
      ]
    },
    {
      "cell_type": "code",
      "source": [
        "# Ask the user to enter their favorite color. If they enter 'red', 'RED' or 'Red'\n",
        "# display the message ' I like red too', otherwise display the message \n",
        "# 'I dont like [color], I prefer red'.\n",
        "\n",
        "\n",
        "fc = input('favorite color : ')\n",
        "if fc in ['red','RED','Red']:\n",
        "  print(' I like red too')\n",
        "else:\n",
        "  print(f'I dont like {fc}, I prefer red')"
      ],
      "metadata": {
        "colab": {
          "base_uri": "https://localhost:8080/"
        },
        "id": "4P44-34b3dSD",
        "outputId": "dc0ede6f-fe75-42a7-b151-47b531c0e7fc"
      },
      "execution_count": 49,
      "outputs": [
        {
          "output_type": "stream",
          "name": "stdout",
          "text": [
            "favorite color : red\n",
            " I like red too\n"
          ]
        }
      ]
    },
    {
      "cell_type": "code",
      "source": [
        "# Ask the user if it is raining and convert their answer to lower case \n",
        "# 사용자에게 지금 비가오고 있는지 묻고 그 대답을 소문자로 변환하여\n",
        "# so it doesnt matter what case they type it in. If they answer 'yes',\n",
        "# 대소문자 입력한 값에 상관없도록한다. 만약 'yes'를 입력하면 \n",
        "# ask if it is windy. If they answer 'yes' to this second question,\n",
        "# 바람이 부는지 다시 묻는다. 두번째 질문도 'yes'입력하면 \n",
        "# display the answer 'It is too windy for an umbrella', otherwise\n",
        "#  'It is too windy for an umbrella' 출력한다. 그렇지 않으면 \n",
        "# display the message 'Take an umbrella'. If they did not answer yes to the first question,\n",
        "# 'Take an umbrella'. 출력한다. 첫번째 질문에 'yes'가 아니면 \n",
        "# display the answer 'Enjoy your day'.\n",
        "# 'Enjoy your day'.를 출력한다. \n",
        "\n",
        "# (input) Is it raining ?\n",
        "# (input) Is it windy ?\n",
        "\n",
        "# (output) 'It is too windy for an umbrella'\n",
        "# (output) 'Take an umbrella'\n",
        "# (output) 'Enjoy your day'.\n",
        "\n",
        "\n",
        "raining = input('Is it raining ?')\n",
        "raining = str.lower(raining)\n",
        "\n",
        "\n",
        "if raining == 'yes':\n",
        "  windy = input('Is it windy ?')\n",
        "  windy = str.lower(windy)\n",
        "  if windy == 'yes':\n",
        "    print('It is too windy for an umbrella')\n",
        "  else:\n",
        "    print('Take an umbrella')\n",
        "else:\n",
        "  print('Enjoy your day')\n",
        "\n",
        "\n"
      ],
      "metadata": {
        "colab": {
          "base_uri": "https://localhost:8080/"
        },
        "id": "FKKh4IdF55o5",
        "outputId": "4ffb9ed7-81fe-4883-8704-e5e2089eec01"
      },
      "execution_count": 71,
      "outputs": [
        {
          "output_type": "stream",
          "name": "stdout",
          "text": [
            "Is it raining ?yEs\n",
            "Is it windy ?yEs\n",
            "It is too windy for an umbrella\n"
          ]
        }
      ]
    },
    {
      "cell_type": "code",
      "source": [
        "# Ask the user's age. If they are 18 or over, display the message 'You can vote',\n",
        "# if they are aged 17, display the message 'You can learn to drive', \n",
        "# if they are 16, display the message 'You can by a lottery ticket', \n",
        "# if they are under 16, display the message 'You can go Trick or Treating'\n",
        "\n",
        "# (input) What is your age ?\n",
        "\n",
        "# (output) 'You can vote',\n",
        "              # 'You can learn to drive',\n",
        "              # 'You can by a lottery ticket', \n",
        "              # 'You can go Trick or Treating'\n",
        "\n",
        "\n",
        "age = int(input('What is your age ?'))\n",
        "\n",
        "if age>=18:\n",
        "  print('You can vote')\n",
        "elif age==17:\n",
        "  print('You can learn to drive')\n",
        "elif age==16:\n",
        "  print('You can by a lottery ticket')\n",
        "else:\n",
        "  print('You can go Trick or Treating')"
      ],
      "metadata": {
        "colab": {
          "base_uri": "https://localhost:8080/"
        },
        "id": "3r5YgEFWCCwN",
        "outputId": "37789cab-72f8-406e-a598-d727eb718f41"
      },
      "execution_count": 88,
      "outputs": [
        {
          "output_type": "stream",
          "name": "stdout",
          "text": [
            "What is your age ?15\n",
            "You can go Trick or Treating\n"
          ]
        }
      ]
    },
    {
      "cell_type": "code",
      "source": [
        "###################################\n",
        "# String\n",
        "###################################\n",
        "\n",
        "# Ask the user to enter their name and then display the length of their name !\n",
        "\n",
        "name = input('What your name?')\n",
        "print(len(name))"
      ],
      "metadata": {
        "colab": {
          "base_uri": "https://localhost:8080/"
        },
        "id": "q7gIQwNlErCu",
        "outputId": "a880c58c-9159-4967-b6c3-a4543635f043"
      },
      "execution_count": 93,
      "outputs": [
        {
          "output_type": "stream",
          "name": "stdout",
          "text": [
            "What your name?peter\n",
            "5\n"
          ]
        }
      ]
    },
    {
      "cell_type": "code",
      "source": [
        "# Ask the user to enter their first name and lastname in lower case.\n",
        "# Change the case to title case and join them together.\n",
        "# Display the finished result.\n",
        "\n",
        "fn = input('Enter your first name in lowercase : ')\n",
        "ln = input('Enter your last name in lowercase : ')\n",
        "\n",
        "fn = fn.title()\n",
        "ln = ln.title()\n",
        "\n",
        "name = fn + \" \" + ln\n",
        "print(name)\n"
      ],
      "metadata": {
        "colab": {
          "base_uri": "https://localhost:8080/"
        },
        "id": "cFMz7OiPFiXW",
        "outputId": "221154f5-a58f-487b-88ad-a7fba5307016"
      },
      "execution_count": 102,
      "outputs": [
        {
          "output_type": "stream",
          "name": "stdout",
          "text": [
            "Enter your first name in lowercase : oh\n",
            "Enter your last name in lowercase : gangrae\n",
            "Oh Gangrae\n"
          ]
        }
      ]
    },
    {
      "cell_type": "code",
      "source": [
        "# Ask the user to enter their first name . If the length of their first name is under five characters,\n",
        "# ask them to enter their last name and join them together (without a space) and \n",
        "# display the name in upper case. If the length of the first name is five or more characters,\n",
        "# display their first name in lower case.\n",
        "\n",
        "\n",
        "fname = input('First name?')\n",
        "a = len(fname)\n",
        "\n",
        "if a < 5:\n",
        "  lname = input('Last name?')\n",
        "  name = fname + lname\n",
        "  print(name.upper())\n",
        "else:\n",
        "  print(name.lower())"
      ],
      "metadata": {
        "colab": {
          "base_uri": "https://localhost:8080/"
        },
        "id": "BGvh7okyNMgg",
        "outputId": "22313573-c393-473f-ba23-69cb1b7233a6"
      },
      "execution_count": 105,
      "outputs": [
        {
          "output_type": "stream",
          "name": "stdout",
          "text": [
            "First name?ohgangrae\n",
            "ohgangrae\n"
          ]
        }
      ]
    },
    {
      "cell_type": "code",
      "source": [
        "# Pig Latin takes the f irst character of a word,\n",
        "# moves it to the end of the word and adds on an 'ay'.\n",
        "# If a word begins with a vowel you just add 'way' to the end.\n",
        "#                           ['a','e','i','o','u'] 모음\n",
        "\n",
        "# 피그 라틴은 단어의 첫 글자를 가져와서 단어의 끝으로 이동하고 마지막에 'ay'를 추가한다. \n",
        "# 만약 단어가 모음으로 시작하면 단어의 끝에 그냥 'way'를 붙인다. \n",
        "\n",
        "# For example, pig becomes igpay, banana becomes ananabay, and aadvark becomes\n",
        "# aadvarkway. Create a program that will ask the user to enter a word and \n",
        "# change it into Pig Latin. Make suer the new word is displayed in lower case.\n",
        "\n",
        "word = input('Please enter a word : ')\n",
        "first = word[0]\n",
        "length = len(word)\n",
        "rest = word[1:length]\n",
        "\n",
        "if first not in ['a','e','i','o','u']:  #모음 vowel\n",
        "  newword = rest + first + 'ay'\n",
        "else:\n",
        "  newword = word + 'way'\n",
        "\n",
        "print(newword.lower())"
      ],
      "metadata": {
        "colab": {
          "base_uri": "https://localhost:8080/"
        },
        "id": "gyf5oS4nPdmJ",
        "outputId": "68fb7024-7417-4428-ae97-d4aa37cf6e06"
      },
      "execution_count": 124,
      "outputs": [
        {
          "output_type": "stream",
          "name": "stdout",
          "text": [
            "Please enter a word : pig\n",
            "igpay\n"
          ]
        }
      ]
    }
  ]
}