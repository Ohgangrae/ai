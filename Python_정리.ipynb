{
  "nbformat": 4,
  "nbformat_minor": 0,
  "metadata": {
    "colab": {
      "name": "Python 정리.ipynb",
      "provenance": [],
      "collapsed_sections": [],
      "authorship_tag": "ABX9TyP6qszbNQ7CmHhDoKNv9OWp",
      "include_colab_link": true
    },
    "kernelspec": {
      "name": "python3",
      "display_name": "Python 3"
    },
    "language_info": {
      "name": "python"
    }
  },
  "cells": [
    {
      "cell_type": "markdown",
      "metadata": {
        "id": "view-in-github",
        "colab_type": "text"
      },
      "source": [
        "<a href=\"https://colab.research.google.com/github/Ohgangrae/ai/blob/main/Python_%EC%A0%95%EB%A6%AC.ipynb\" target=\"_parent\"><img src=\"https://colab.research.google.com/assets/colab-badge.svg\" alt=\"Open In Colab\"/></a>"
      ]
    },
    {
      "cell_type": "code",
      "execution_count": null,
      "metadata": {
        "colab": {
          "base_uri": "https://localhost:8080/"
        },
        "id": "Udinwo5zXeKu",
        "outputId": "cb857a90-74aa-4c73-a818-8075816944a8"
      },
      "outputs": [
        {
          "output_type": "execute_result",
          "data": {
            "text/plain": [
              "81"
            ]
          },
          "metadata": {},
          "execution_count": 2
        }
      ],
      "source": [
        "# x의 y제곱을 나타내는 ** 연산자\n",
        "\n",
        "a = 3\n",
        "b = 4\n",
        "a ** b"
      ]
    },
    {
      "cell_type": "code",
      "source": [
        "# 나눗셈 후 나머지를 반환하는 % 연산자\n",
        "print(7 % 3)\n",
        "print(3 % 7)"
      ],
      "metadata": {
        "colab": {
          "base_uri": "https://localhost:8080/"
        },
        "id": "JQ8ckKJfffUE",
        "outputId": "5a614824-21ec-41df-c166-0bd514a7feb9"
      },
      "execution_count": null,
      "outputs": [
        {
          "output_type": "stream",
          "name": "stdout",
          "text": [
            "1\n",
            "3\n"
          ]
        }
      ]
    },
    {
      "cell_type": "code",
      "source": [
        "# 나눗셈 후 몫을 반환하는 // 연산자\n",
        "7 / 4"
      ],
      "metadata": {
        "colab": {
          "base_uri": "https://localhost:8080/"
        },
        "id": "3_Ccx3B-gyhv",
        "outputId": "b7d3212f-1ddc-4d23-8f48-16a79647f45c"
      },
      "execution_count": null,
      "outputs": [
        {
          "output_type": "execute_result",
          "data": {
            "text/plain": [
              "1.75"
            ]
          },
          "metadata": {},
          "execution_count": 5
        }
      ]
    },
    {
      "cell_type": "code",
      "source": [
        "# 이번에는 나눗셈 후 몫을 반환하는 // 연산자를 사용한 경우를 보자.\n",
        "print(7 // 4)\n",
        "print(8 // 3)"
      ],
      "metadata": {
        "colab": {
          "base_uri": "https://localhost:8080/"
        },
        "id": "48bWuUX6g6KD",
        "outputId": "9d125ffc-0011-40ae-c87e-9c7382bd6198"
      },
      "execution_count": null,
      "outputs": [
        {
          "output_type": "stream",
          "name": "stdout",
          "text": [
            "1\n",
            "2\n"
          ]
        }
      ]
    },
    {
      "cell_type": "code",
      "source": [
        "# 활용빈도가 높은 이스케이프 코드\n",
        "# \\n\t문자열 안에서 줄을 바꿀 때 사용\n",
        "# \\t\t문자열 사이에 탭 간격을 줄 때 사용\n",
        "# \\\\\t문자 \\를 그대로 표현할 때 사용\n",
        "# \\'\t작은따옴표(')를 그대로 표현할 때 사용\n",
        "# \\\"\t큰따옴표(\")를 그대로 표현할 때 사용\n",
        "\n",
        "print(\"hi\\n\\t\\\"my name is\\t\\'oh\\\\gang\\\\rae\\'\\\"\")"
      ],
      "metadata": {
        "colab": {
          "base_uri": "https://localhost:8080/"
        },
        "id": "FF7JyfqrhN6v",
        "outputId": "94fb1e63-d4b9-4bde-d391-aaed0a93888e"
      },
      "execution_count": null,
      "outputs": [
        {
          "output_type": "stream",
          "name": "stdout",
          "text": [
            "hi\n",
            "\t\"my name is\t'oh\\gang\\rae'\"\n"
          ]
        }
      ]
    },
    {
      "cell_type": "code",
      "source": [
        "# 문자열 길이 구하기\n",
        "\n",
        "a = \"Life is too short\"\n",
        "len(a)"
      ],
      "metadata": {
        "colab": {
          "base_uri": "https://localhost:8080/"
        },
        "id": "GhPj1M3hjUw8",
        "outputId": "591a2c4b-9384-4ec9-f0ac-92d4e891fac5"
      },
      "execution_count": null,
      "outputs": [
        {
          "output_type": "execute_result",
          "data": {
            "text/plain": [
              "17"
            ]
          },
          "metadata": {},
          "execution_count": 13
        }
      ]
    },
    {
      "cell_type": "code",
      "source": [
        "# sep: print문 안에 있는 인자들 사이에 특정한 구분값으로 분리해 출력.\n",
        "\n",
        "print('a','b','c','d','e',sep='!!')\n",
        "\n",
        "print('국어','영어','수학')\n",
        "print('국어','영어','수학', sep = '/')\n",
        "print('국어','영어','수학', sep = ', ')\n",
        "print('국어','영어','수학', sep = '\\n')"
      ],
      "metadata": {
        "colab": {
          "base_uri": "https://localhost:8080/"
        },
        "id": "TdizNgOCpCaq",
        "outputId": "86bf3be0-23fa-4edf-9f36-deb5b321f356"
      },
      "execution_count": null,
      "outputs": [
        {
          "output_type": "stream",
          "name": "stdout",
          "text": [
            "a!!b!!c!!d!!e\n",
            "국어 영어 수학\n",
            "국어/영어/수학\n",
            "국어, 영어, 수학\n",
            "국어\n",
            "영어\n",
            "수학\n"
          ]
        }
      ]
    },
    {
      "cell_type": "code",
      "source": [
        "# end: print문 끝에 end에서 정의한 것을 출력 후 다음 줄이 연이어 출력\n",
        "\n",
        "print(\"first\",end='')\n",
        "print(\"second\")"
      ],
      "metadata": {
        "colab": {
          "base_uri": "https://localhost:8080/"
        },
        "id": "llA85aCNn7p3",
        "outputId": "dad8f360-a7ae-416a-b8a9-126a9c01154e"
      },
      "execution_count": null,
      "outputs": [
        {
          "output_type": "stream",
          "name": "stdout",
          "text": [
            "firstsecond\n"
          ]
        }
      ]
    },
    {
      "cell_type": "code",
      "source": [
        "print(\"first\",end='!!!!!')\n",
        "print(\"second\")"
      ],
      "metadata": {
        "colab": {
          "base_uri": "https://localhost:8080/"
        },
        "id": "gRbbw3yNo0il",
        "outputId": "1dbc9d18-27a0-4d09-cdc6-2a6525509252"
      },
      "execution_count": null,
      "outputs": [
        {
          "output_type": "stream",
          "name": "stdout",
          "text": [
            "first!!!!!second\n"
          ]
        }
      ]
    },
    {
      "cell_type": "code",
      "source": [
        "# f - string\n",
        "f'{변수}'\n",
        "\n",
        "s = \"hello\"\n",
        "t = \"python\"\n",
        "print(f'{s}! {t}')"
      ],
      "metadata": {
        "colab": {
          "base_uri": "https://localhost:8080/"
        },
        "id": "PiNoQlvJpoxW",
        "outputId": "b575223b-4b48-480f-d394-2bfd5a1d025c"
      },
      "execution_count": null,
      "outputs": [
        {
          "output_type": "stream",
          "name": "stdout",
          "text": [
            "hello! python\n"
          ]
        }
      ]
    },
    {
      "cell_type": "code",
      "source": [
        "d = {'name':'홍길동', 'age':30}\n",
        "f'나의 이름은 {d[\"name\"]}입니다. 나이는 {d[\"age\"]}입니다.'"
      ],
      "metadata": {
        "colab": {
          "base_uri": "https://localhost:8080/",
          "height": 35
        },
        "id": "ajcDod1112CX",
        "outputId": "624ca0af-4df2-4203-e427-f94a34e5c0fe"
      },
      "execution_count": null,
      "outputs": [
        {
          "output_type": "execute_result",
          "data": {
            "application/vnd.google.colaboratory.intrinsic+json": {
              "type": "string"
            },
            "text/plain": [
              "'나의 이름은 홍길동입니다. 나이는 30입니다.'"
            ]
          },
          "metadata": {},
          "execution_count": 62
        }
      ]
    },
    {
      "cell_type": "code",
      "source": [
        "# type\n",
        "\n",
        "a = \"132\"\n",
        "print(type(a))"
      ],
      "metadata": {
        "colab": {
          "base_uri": "https://localhost:8080/"
        },
        "id": "-WNVunXDqYns",
        "outputId": "648ba4ba-efc6-4400-9d4d-db2e6fae2849"
      },
      "execution_count": null,
      "outputs": [
        {
          "output_type": "stream",
          "name": "stdout",
          "text": [
            "<class 'str'>\n"
          ]
        }
      ]
    },
    {
      "cell_type": "code",
      "source": [
        "a = \"720\"\n",
        "b = (int(a))\n",
        "print(type(b))"
      ],
      "metadata": {
        "colab": {
          "base_uri": "https://localhost:8080/"
        },
        "id": "kDOBjtA_qYjA",
        "outputId": "e8863a6b-fc21-40b3-b651-883d101298fe"
      },
      "execution_count": null,
      "outputs": [
        {
          "output_type": "stream",
          "name": "stdout",
          "text": [
            "<class 'int'>\n"
          ]
        }
      ]
    },
    {
      "cell_type": "code",
      "source": [
        "# format 함수를 사용한 포매팅\n",
        "\n",
        "# 숫자 바로 대입하기\n",
        "\n",
        "\"I eat {0} apples\".format(3)"
      ],
      "metadata": {
        "colab": {
          "base_uri": "https://localhost:8080/",
          "height": 35
        },
        "id": "fiiITgM_qYdY",
        "outputId": "108399c6-6c22-4d58-919c-4792e42ea26a"
      },
      "execution_count": null,
      "outputs": [
        {
          "output_type": "execute_result",
          "data": {
            "application/vnd.google.colaboratory.intrinsic+json": {
              "type": "string"
            },
            "text/plain": [
              "'I eat 3 apples'"
            ]
          },
          "metadata": {},
          "execution_count": 45
        }
      ]
    },
    {
      "cell_type": "code",
      "source": [
        "# 문자열 바로 대입하기\n",
        "\n",
        "\"I eat {0} apples\".format(\"five\")"
      ],
      "metadata": {
        "colab": {
          "base_uri": "https://localhost:8080/",
          "height": 35
        },
        "id": "p3HKyRgrs5rt",
        "outputId": "7f7ac894-dba7-45b4-9021-e669e2991122"
      },
      "execution_count": null,
      "outputs": [
        {
          "output_type": "execute_result",
          "data": {
            "application/vnd.google.colaboratory.intrinsic+json": {
              "type": "string"
            },
            "text/plain": [
              "'I eat five apples'"
            ]
          },
          "metadata": {},
          "execution_count": 46
        }
      ]
    },
    {
      "cell_type": "code",
      "source": [
        "# 숫자 값을 가진 변수로 대입하기\n",
        "\n",
        "number = 3\n",
        "\"I eat {0} apples\".format(number)"
      ],
      "metadata": {
        "colab": {
          "base_uri": "https://localhost:8080/",
          "height": 35
        },
        "id": "RZ1EH8JVs5pQ",
        "outputId": "28d9046e-a16b-4ef1-f5d1-59b984a4996a"
      },
      "execution_count": null,
      "outputs": [
        {
          "output_type": "execute_result",
          "data": {
            "application/vnd.google.colaboratory.intrinsic+json": {
              "type": "string"
            },
            "text/plain": [
              "'I eat 3 apples'"
            ]
          },
          "metadata": {},
          "execution_count": 48
        }
      ]
    },
    {
      "cell_type": "code",
      "source": [
        "# 2개 이상의 값 넣기\n",
        "\n",
        "number = 10\n",
        "day = \"three\"\n",
        "\"I ate {0} apples. so I was sick for {1} days.\".format(number, day)"
      ],
      "metadata": {
        "colab": {
          "base_uri": "https://localhost:8080/",
          "height": 35
        },
        "id": "2CwmRojJs5nD",
        "outputId": "9d163110-7e6d-4eda-d388-95bfae0ac94a"
      },
      "execution_count": null,
      "outputs": [
        {
          "output_type": "execute_result",
          "data": {
            "application/vnd.google.colaboratory.intrinsic+json": {
              "type": "string"
            },
            "text/plain": [
              "'I ate 10 apples. so I was sick for three days.'"
            ]
          },
          "metadata": {},
          "execution_count": 50
        }
      ]
    },
    {
      "cell_type": "code",
      "source": [
        "# 이름으로 넣기\n",
        "\n",
        "\"I ate {number} apples. so I was sick for {day} days.\".format(number=10, day=3)"
      ],
      "metadata": {
        "colab": {
          "base_uri": "https://localhost:8080/",
          "height": 35
        },
        "id": "pmkwawRDs5kg",
        "outputId": "8dcd456c-a9fa-4278-86fa-43b6e6f3c1e4"
      },
      "execution_count": null,
      "outputs": [
        {
          "output_type": "execute_result",
          "data": {
            "application/vnd.google.colaboratory.intrinsic+json": {
              "type": "string"
            },
            "text/plain": [
              "'I ate 10 apples. so I was sick for 3 days.'"
            ]
          },
          "metadata": {},
          "execution_count": 51
        }
      ]
    },
    {
      "cell_type": "code",
      "source": [
        "print('\"{0:<10}\"'.format(\"hi\")) #왼쪽 정렬\n",
        "print('\"{0:>10}\"'.format(\"hi\")) #오른쪽 정렬\n",
        "print('\"{0:^10}\"'.format(\"hi\")) #가운데 정렬\n",
        "print(\"{0:=^10}\".format(\"hi\")) #공백 채우기\n",
        "print(\"{0:!<10}\".format(\"hi\")) #공백 채우기"
      ],
      "metadata": {
        "colab": {
          "base_uri": "https://localhost:8080/"
        },
        "id": "oFEjCX1zs5hO",
        "outputId": "0cb69c49-3a0c-4c9a-91b4-b976b7dd77d6"
      },
      "execution_count": null,
      "outputs": [
        {
          "output_type": "stream",
          "name": "stdout",
          "text": [
            "\"hi        \"\n",
            "\"        hi\"\n",
            "\"    hi    \"\n",
            "====hi====\n",
            "hi!!!!!!!!\n"
          ]
        }
      ]
    },
    {
      "cell_type": "code",
      "source": [
        "# \"파이썬은 0부터 숫자를 센다.\""
      ],
      "metadata": {
        "id": "CaVdDo5Xj-LT"
      },
      "execution_count": null,
      "outputs": []
    },
    {
      "cell_type": "code",
      "source": [
        "# 문자열 인덱싱이란?\n",
        "\n",
        "a = \"Life is too short, You need Python\"\n",
        "print(a[3])\n",
        "print(a[-1])\n",
        "\n",
        "# a[번호]는 문자열 안의 특정한 값을 뽑아내는 역할을 한다.\n",
        "# 이러한 작업을 인덱싱이라고 한다."
      ],
      "metadata": {
        "colab": {
          "base_uri": "https://localhost:8080/"
        },
        "id": "y2XeEMBSjxaE",
        "outputId": "27e879c3-06b8-44f0-cbd0-ed1bad88f120"
      },
      "execution_count": null,
      "outputs": [
        {
          "output_type": "stream",
          "name": "stdout",
          "text": [
            "e\n",
            "n\n"
          ]
        }
      ]
    },
    {
      "cell_type": "code",
      "source": [
        "# 문자열 슬라이싱이란?\n",
        "\n",
        "a = \"Life is too short, You need Python\"\n",
        "print(a[0:4])\n",
        "print(a[12:17])\n",
        "print(a[:17])\n",
        "print(a[:])\n",
        "print(a[19:-7])\n",
        "\n",
        "b = \"20010331Rainy\"\n",
        "date = b[:8]\n",
        "weather = b[8:]\n",
        "print(date)\n",
        "print(weather)\n",
        "\n",
        "# ※ 인덱싱 기법과 슬라이싱 기법은 뒤에서 배울 자료형인\n",
        "# 리스트나 튜플에서도 사용할 수 있다.\n"
      ],
      "metadata": {
        "colab": {
          "base_uri": "https://localhost:8080/"
        },
        "id": "E4HDRjeZkX0g",
        "outputId": "9925ed5e-a76b-4fb5-fb24-b35e2d0ef75f"
      },
      "execution_count": null,
      "outputs": [
        {
          "output_type": "stream",
          "name": "stdout",
          "text": [
            "Life\n",
            "short\n",
            "Life is too short\n",
            "Life is too short, You need Python\n",
            "You need\n",
            "20010331\n",
            "Rainy\n"
          ]
        }
      ]
    },
    {
      "cell_type": "code",
      "source": [
        "# 문자열 포매팅 따라 하기\n",
        "\n",
        "# 1. 숫자 바로 대입\n",
        "\n",
        "\"I eat %d apples.\" % 3"
      ],
      "metadata": {
        "colab": {
          "base_uri": "https://localhost:8080/",
          "height": 35
        },
        "id": "3g3sfX1JldwA",
        "outputId": "9a50f232-a148-41f4-9d97-5abee8606e1d"
      },
      "execution_count": null,
      "outputs": [
        {
          "output_type": "execute_result",
          "data": {
            "application/vnd.google.colaboratory.intrinsic+json": {
              "type": "string"
            },
            "text/plain": [
              "'I eat 3 apples.'"
            ]
          },
          "metadata": {},
          "execution_count": 23
        }
      ]
    },
    {
      "cell_type": "code",
      "source": [
        "# 2. 문자열 바로 대입\n",
        "\n",
        "\"I eat %s apples.\" % \"five\""
      ],
      "metadata": {
        "colab": {
          "base_uri": "https://localhost:8080/",
          "height": 35
        },
        "id": "j15YMurQlkaJ",
        "outputId": "7607760c-7dd0-4947-9d12-d6a6235c5840"
      },
      "execution_count": null,
      "outputs": [
        {
          "output_type": "execute_result",
          "data": {
            "application/vnd.google.colaboratory.intrinsic+json": {
              "type": "string"
            },
            "text/plain": [
              "'I eat five apples.'"
            ]
          },
          "metadata": {},
          "execution_count": 24
        }
      ]
    },
    {
      "cell_type": "code",
      "source": [
        "# 3. 숫자 값을 나타내는 변수로 대입\n",
        "\n",
        "number = 3\n",
        "\"I eat %d apples.\" % number"
      ],
      "metadata": {
        "colab": {
          "base_uri": "https://localhost:8080/",
          "height": 35
        },
        "id": "nR9TpKxDls5i",
        "outputId": "b9b48a87-5812-4754-ce33-3d19bfa0c44a"
      },
      "execution_count": null,
      "outputs": [
        {
          "output_type": "execute_result",
          "data": {
            "application/vnd.google.colaboratory.intrinsic+json": {
              "type": "string"
            },
            "text/plain": [
              "'I eat 3 apples.'"
            ]
          },
          "metadata": {},
          "execution_count": 25
        }
      ]
    },
    {
      "cell_type": "code",
      "source": [
        "# 4. 2개 이상의 값 넣기\n",
        "\n",
        "number = 10\n",
        "day = \"three\"\n",
        "\"I ate %d apples. so I was sick for %s days.\" % (number, day)"
      ],
      "metadata": {
        "colab": {
          "base_uri": "https://localhost:8080/",
          "height": 35
        },
        "id": "S8InnGTTlz7U",
        "outputId": "06b25770-a4e6-4703-daa4-da601086aa02"
      },
      "execution_count": null,
      "outputs": [
        {
          "output_type": "execute_result",
          "data": {
            "application/vnd.google.colaboratory.intrinsic+json": {
              "type": "string"
            },
            "text/plain": [
              "'I ate 10 apples. so I was sick for three days.'"
            ]
          },
          "metadata": {},
          "execution_count": 26
        }
      ]
    },
    {
      "cell_type": "code",
      "source": [
        "# 문자열 포맷 코드\n",
        "\n",
        "# %s\t문자열(String)\n",
        "# %c\t문자 1개(character)\n",
        "# %d\t정수(Integer)\n",
        "# %f\t부동소수(floating-point)\n",
        "# %o\t8진수\n",
        "# %x\t16진수\n",
        "# %%\tLiteral % (문자 % 자체)"
      ],
      "metadata": {
        "id": "EA0VsXCqmEvx"
      },
      "execution_count": null,
      "outputs": []
    },
    {
      "cell_type": "code",
      "source": [
        "# 포맷 코드와 숫자 함께 사용하기\n",
        "\n",
        "# 1. 정렬과 공백\n",
        "\n",
        "\"%10s\" % \"hi\"\n",
        "# %10s는 전체 길이가 10개인 문자열 공간에서 대입되는 값을\n",
        "# 오른쪽으로 정렬하고 그 앞의 나머지는 공백으로 남겨 두라는 의미이다."
      ],
      "metadata": {
        "colab": {
          "base_uri": "https://localhost:8080/",
          "height": 35
        },
        "id": "awmHEoqvmdbK",
        "outputId": "ca74e5da-53b6-4d70-aa3e-7a1341e03c30"
      },
      "execution_count": null,
      "outputs": [
        {
          "output_type": "execute_result",
          "data": {
            "application/vnd.google.colaboratory.intrinsic+json": {
              "type": "string"
            },
            "text/plain": [
              "'        hi'"
            ]
          },
          "metadata": {},
          "execution_count": 27
        }
      ]
    },
    {
      "cell_type": "code",
      "source": [
        "# 2. 소수점 표현하기\n",
        "\n",
        "\"%0.4f\" % 3.42134234\n",
        "# 소수점 네 번째 자리까지만 나타내고 싶은 경우에는 위와 같이 사용한다"
      ],
      "metadata": {
        "colab": {
          "base_uri": "https://localhost:8080/",
          "height": 35
        },
        "id": "YCVOC-ClnOjy",
        "outputId": "db183ac7-5288-44e7-9c4e-20d72c194dea"
      },
      "execution_count": null,
      "outputs": [
        {
          "output_type": "execute_result",
          "data": {
            "application/vnd.google.colaboratory.intrinsic+json": {
              "type": "string"
            },
            "text/plain": [
              "'3.4213'"
            ]
          },
          "metadata": {},
          "execution_count": 28
        }
      ]
    },
    {
      "cell_type": "code",
      "source": [
        "\"%10.4f\" % 3.42134234\n",
        "# 소수점 네 번째 자리까지만 표시하고 전체 길이가 10개인\n",
        "# 문자열 공간에서 오른쪽으로 정렬하는 예를 보여 준다."
      ],
      "metadata": {
        "colab": {
          "base_uri": "https://localhost:8080/",
          "height": 35
        },
        "id": "GtdLIjSXnqkM",
        "outputId": "2966f26f-baf3-4e5b-d0a3-4ac3ac61681f"
      },
      "execution_count": null,
      "outputs": [
        {
          "output_type": "execute_result",
          "data": {
            "application/vnd.google.colaboratory.intrinsic+json": {
              "type": "string"
            },
            "text/plain": [
              "'    3.4213'"
            ]
          },
          "metadata": {},
          "execution_count": 29
        }
      ]
    },
    {
      "cell_type": "code",
      "source": [
        "# 문자 개수 세기(count)\n",
        "\n",
        "a = \"hobby\"\n",
        "a.count('b')"
      ],
      "metadata": {
        "colab": {
          "base_uri": "https://localhost:8080/"
        },
        "id": "da0AoqQt2Ahs",
        "outputId": "d06d7c5c-d6f3-4ac7-efbd-d81e9b9d9e03"
      },
      "execution_count": null,
      "outputs": [
        {
          "output_type": "execute_result",
          "data": {
            "text/plain": [
              "2"
            ]
          },
          "metadata": {},
          "execution_count": 64
        }
      ]
    },
    {
      "cell_type": "code",
      "source": [
        "# 위치 알려주기1(find)\n",
        "\n",
        "a = \"Python is the best choice\"\n",
        "print(a.find('b'))\n",
        "print(a.find('k'))\n",
        "\n",
        "# 존재하지 않는다면 -1을 반환"
      ],
      "metadata": {
        "colab": {
          "base_uri": "https://localhost:8080/"
        },
        "id": "yKKR3s-J3SOL",
        "outputId": "4cc9afec-45b3-4b2d-c38d-f4c936ff48d6"
      },
      "execution_count": null,
      "outputs": [
        {
          "output_type": "stream",
          "name": "stdout",
          "text": [
            "14\n",
            "-1\n"
          ]
        }
      ]
    },
    {
      "cell_type": "code",
      "source": [
        "# 위치 알려주기2(index)\n",
        "\n",
        "a = \"Life is too short\"\n",
        "a.index('t')"
      ],
      "metadata": {
        "colab": {
          "base_uri": "https://localhost:8080/"
        },
        "id": "AykqvGXm3SL-",
        "outputId": "bae6c781-26a4-4454-b153-24c66b8e731c"
      },
      "execution_count": null,
      "outputs": [
        {
          "output_type": "execute_result",
          "data": {
            "text/plain": [
              "8"
            ]
          },
          "metadata": {},
          "execution_count": 70
        }
      ]
    },
    {
      "cell_type": "code",
      "source": [
        "# 문자열 삽입(join)\n",
        "\n",
        "\",\".join('abcd')"
      ],
      "metadata": {
        "colab": {
          "base_uri": "https://localhost:8080/",
          "height": 35
        },
        "id": "Igpiqql73SJK",
        "outputId": "95989047-e2ac-4ffc-8935-e0e78e5f74e9"
      },
      "execution_count": null,
      "outputs": [
        {
          "output_type": "execute_result",
          "data": {
            "application/vnd.google.colaboratory.intrinsic+json": {
              "type": "string"
            },
            "text/plain": [
              "'a,b,c,d'"
            ]
          },
          "metadata": {},
          "execution_count": 71
        }
      ]
    },
    {
      "cell_type": "code",
      "source": [
        "# 소문자를 대문자로 바꾸기(upper)\n",
        "\n",
        "a = 'hi'\n",
        "a.upper()"
      ],
      "metadata": {
        "colab": {
          "base_uri": "https://localhost:8080/",
          "height": 35
        },
        "id": "TFSCF_G93SE_",
        "outputId": "98bf09b7-3e5d-49f6-d7f6-ab5f86e77fb9"
      },
      "execution_count": null,
      "outputs": [
        {
          "output_type": "execute_result",
          "data": {
            "application/vnd.google.colaboratory.intrinsic+json": {
              "type": "string"
            },
            "text/plain": [
              "'HI'"
            ]
          },
          "metadata": {},
          "execution_count": 72
        }
      ]
    },
    {
      "cell_type": "code",
      "source": [
        "# 대문자를 소문자로 바꾸기(lower)\n",
        "\n",
        "a = \"HI\"\n",
        "a.lower()"
      ],
      "metadata": {
        "colab": {
          "base_uri": "https://localhost:8080/",
          "height": 35
        },
        "id": "s05T3Oqm3SCe",
        "outputId": "a1061f99-e760-4272-d657-1071a9f432e9"
      },
      "execution_count": null,
      "outputs": [
        {
          "output_type": "execute_result",
          "data": {
            "application/vnd.google.colaboratory.intrinsic+json": {
              "type": "string"
            },
            "text/plain": [
              "'hi'"
            ]
          },
          "metadata": {},
          "execution_count": 73
        }
      ]
    },
    {
      "cell_type": "code",
      "source": [
        "# 문자열 바꾸기(replace)\n",
        "\n",
        "a = \"Life is too short\"\n",
        "a.replace(\"Life\", \"Your leg\")"
      ],
      "metadata": {
        "colab": {
          "base_uri": "https://localhost:8080/",
          "height": 35
        },
        "id": "5SqAa8OV4mAQ",
        "outputId": "8b285791-e86a-4b24-beb9-bb79a8dced65"
      },
      "execution_count": null,
      "outputs": [
        {
          "output_type": "execute_result",
          "data": {
            "application/vnd.google.colaboratory.intrinsic+json": {
              "type": "string"
            },
            "text/plain": [
              "'Your leg is too short'"
            ]
          },
          "metadata": {},
          "execution_count": 74
        }
      ]
    },
    {
      "cell_type": "code",
      "source": [
        "# 입력 input()\n",
        "\n",
        "age = input('당신의 나이를 입력하세요 :')\n",
        "print(f'당신의 나이는 {age} 입니다.') #f-string은 {}\n",
        "print('당신의 나이는',age,'입니다.')"
      ],
      "metadata": {
        "colab": {
          "base_uri": "https://localhost:8080/"
        },
        "id": "_LtUJjWL41Az",
        "outputId": "0652e922-028a-40ac-9d93-904f2f408436"
      },
      "execution_count": null,
      "outputs": [
        {
          "output_type": "stream",
          "name": "stdout",
          "text": [
            "당신의 나이를 입력하세요 :26\n",
            "당신의 나이는 26 입니다.\n",
            "당신의 나이는 26 입니다.\n"
          ]
        }
      ]
    },
    {
      "cell_type": "code",
      "source": [
        "name = input('당신의 이름을 입력하세요')\n",
        "age = input('당신의 나이를 입력하세요')\n",
        "\n",
        "# 1 기본\n",
        "print('당신의 이름은', name, '이고 나이는', age, '입니다.')\n",
        "# 2 f-string\n",
        "print(f'당신의 이름은 {name} 이고 나이는 {age} 입니다.')\n",
        "# 3 format()\n",
        "print('당신의 이름은 {} 이고 나이는 {} 입니다.'.format(name, age))\n",
        "# 4 % 연산자\n",
        "print('당신의 이름은 %s 이고 나이는 %s 입니다.' % (name, age))"
      ],
      "metadata": {
        "colab": {
          "base_uri": "https://localhost:8080/"
        },
        "id": "KgqTISnN5aeh",
        "outputId": "f905ba4b-946b-4758-d5e7-a28a0d641c31"
      },
      "execution_count": null,
      "outputs": [
        {
          "output_type": "stream",
          "name": "stdout",
          "text": [
            "당신의 이름을 입력하세요d\n",
            "당신의 나이를 입력하세요3\n",
            "당신의 이름은 d 이고 나이는 3 입니다.\n",
            "당신의 이름은 d 이고 나이는 3 입니다.\n",
            "당신의 이름은 d 이고 나이는 3 입니다.\n",
            "당신의 이름은 d 이고 나이는 3 입니다.\n"
          ]
        }
      ]
    }
  ]
}