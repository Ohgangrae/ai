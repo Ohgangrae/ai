{
 "cells": [
  {
   "cell_type": "code",
   "execution_count": 2,
   "metadata": {
    "scrolled": true
   },
   "outputs": [
    {
     "name": "stdout",
     "output_type": "stream",
     "text": [
      "hello world\n"
     ]
    }
   ],
   "source": [
    "\n",
    "\n",
    "print('hello world')"
   ]
  },
  {
   "cell_type": "code",
   "execution_count": 3,
   "metadata": {},
   "outputs": [
    {
     "name": "stdout",
     "output_type": "stream",
     "text": [
      "hello world\n"
     ]
    }
   ],
   "source": [
    "print('hello world')"
   ]
  },
  {
   "cell_type": "code",
   "execution_count": 4,
   "metadata": {},
   "outputs": [
    {
     "name": "stdout",
     "output_type": "stream",
     "text": [
      "hello world\n"
     ]
    }
   ],
   "source": [
    "print('hello world')"
   ]
  },
  {
   "cell_type": "code",
   "execution_count": 17,
   "metadata": {},
   "outputs": [
    {
     "name": "stdout",
     "output_type": "stream",
     "text": [
      "현재시간은 14시 41분 오후입니다.\n"
     ]
    }
   ],
   "source": [
    "import datetime\n",
    "now = datetime.datetime.now()\n",
    "\n",
    "if now.hour < 12:\n",
    "  print(f'현재시간은 {now.hour}시 {now.minute}분 오전입니다.')\n",
    "if now.hour > 12:\n",
    "  print(f'현재시간은 {now.hour}시 {now.minute}분 오후입니다.')"
   ]
  },
  {
   "cell_type": "code",
   "execution_count": 25,
   "metadata": {},
   "outputs": [
    {
     "name": "stdout",
     "output_type": "stream",
     "text": [
      "이번달은 1월로 겨울입니다.\n"
     ]
    }
   ],
   "source": [
    "# 12,1,2 겨울 3,4,5 봄 6,7,8, 여름 9,10,11 가을\n",
    "# 이번달은 1월로 겨울입니다.\n",
    "\n",
    "import datetime\n",
    "now = datetime.datetime.now()\n",
    "if 3<= now.month<=5:\n",
    "    season = '봄'\n",
    "if 6<= now.month<=8:\n",
    "    season = '여름'\n",
    "if 9<= now.month<=11:\n",
    "    season = '가을'\n",
    "if now.month == 12 or 1<= now.month<=2:\n",
    "    season = '겨울'\n",
    "    \n",
    "    \n",
    "    \n",
    "    \n",
    "print(f'이번달은 {now.month}월로 {season}입니다.')\n"
   ]
  },
  {
   "cell_type": "code",
   "execution_count": 31,
   "metadata": {},
   "outputs": [
    {
     "ename": "SyntaxError",
     "evalue": "invalid syntax (<ipython-input-31-29f8a1a5403d>, line 8)",
     "output_type": "error",
     "traceback": [
      "\u001b[1;36m  File \u001b[1;32m\"<ipython-input-31-29f8a1a5403d>\"\u001b[1;36m, line \u001b[1;32m8\u001b[0m\n\u001b[1;33m    if num%2=0:\u001b[0m\n\u001b[1;37m            ^\u001b[0m\n\u001b[1;31mSyntaxError\u001b[0m\u001b[1;31m:\u001b[0m invalid syntax\n"
     ]
    }
   ],
   "source": [
    "# % 연산자를 사용하지 않고\n",
    "# 정수를 입력 받아 그 수가 짝수 인지 홀수 인지를 알려주는 프로그램을 작성하세요\n",
    "\n",
    "# (입력) 정수를 입력하세요>>> 52\n",
    "# (출력) 짝수입니다.\n",
    "\n",
    "num = int(input('정수를 입력하세요'))\n",
    "if num%2=0:\n",
    "print('짝수입니다.')\n",
    "\n",
    "if num%2!=0:\n",
    "print('홀수입니다.')"
   ]
  },
  {
   "cell_type": "code",
   "execution_count": 33,
   "metadata": {},
   "outputs": [
    {
     "name": "stdout",
     "output_type": "stream",
     "text": [
      "0번째 반복입니다.\n",
      "종료할까요(y)>>y\n",
      "반복을 종료합니다.\n"
     ]
    }
   ],
   "source": [
    "# break / continue\n",
    "\n",
    "# break 반복문 종료\n",
    "\n",
    "i = 0\n",
    "\n",
    "while True:\n",
    "    print(f'{i}번째 반복입니다.')\n",
    "    i += 1\n",
    "    \n",
    "    inp=input('종료할까요(y)>>')\n",
    "    if inp in ['y','Y']:\n",
    "        print('반복을 종료합니다.')\n",
    "        break\n",
    "\n",
    "\n",
    "\n"
   ]
  },
  {
   "cell_type": "code",
   "execution_count": 35,
   "metadata": {},
   "outputs": [
    {
     "name": "stdout",
     "output_type": "stream",
     "text": [
      "0번 진구\n",
      "1번 철수\n",
      "2번 미야\n",
      "3번 형구\n",
      "4번 진수\n"
     ]
    }
   ],
   "source": [
    "# enumerate()\n",
    "\n",
    "student = ['진구','철수','미야','형구','진수']\n",
    "\n",
    "no = 0\n",
    "for i in student:\n",
    "    \n",
    "    print(f'{no}번 {i}')\n",
    "    no +=1"
   ]
  },
  {
   "cell_type": "code",
   "execution_count": 36,
   "metadata": {},
   "outputs": [
    {
     "name": "stdout",
     "output_type": "stream",
     "text": [
      "1번 진구\n",
      "2번 철수\n",
      "3번 미야\n",
      "4번 형구\n",
      "5번 진수\n"
     ]
    }
   ],
   "source": [
    "for no, name in enumerate(student):\n",
    "    print(f'{no+1}번 {name}')"
   ]
  },
  {
   "cell_type": "code",
   "execution_count": null,
   "metadata": {},
   "outputs": [],
   "source": [
    "# items() 딕셔너리는 items() 함수를 사용하여 key와 value 값을\n",
    "# 한번 추출할 수 있다.\n",
    "\n",
    "dict = {\n",
    "    '홍길동':185,\n",
    "    '이몽룡':189,\n",
    "    '성춘향':168\n",
    "}\n",
    "#for i in dict:\n",
    "# print(f'{i}의 키는 {dict[i]}입니다.')\n",
    "\n",
    "for name, height in enumerate(student):\n",
    "    print"
   ]
  },
  {
   "cell_type": "code",
   "execution_count": 1,
   "metadata": {},
   "outputs": [
    {
     "name": "stdout",
     "output_type": "stream",
     "text": [
      "hello world\n"
     ]
    }
   ],
   "source": [
    "print('hello world')"
   ]
  },
  {
   "cell_type": "code",
   "execution_count": 2,
   "metadata": {},
   "outputs": [
    {
     "name": "stdout",
     "output_type": "stream",
     "text": [
      "test\n"
     ]
    }
   ],
   "source": [
    "print('test')"
   ]
  }
 ],
 "metadata": {
  "kernelspec": {
   "display_name": "Python 3",
   "language": "python",
   "name": "python3"
  },
  "language_info": {
   "codemirror_mode": {
    "name": "ipython",
    "version": 3
   },
   "file_extension": ".py",
   "mimetype": "text/x-python",
   "name": "python",
   "nbconvert_exporter": "python",
   "pygments_lexer": "ipython3",
   "version": "3.8.5"
  }
 },
 "nbformat": 4,
 "nbformat_minor": 4
}
