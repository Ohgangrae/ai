{
  "nbformat": 4,
  "nbformat_minor": 0,
  "metadata": {
    "colab": {
      "name": "Day3.ipynb",
      "provenance": [],
      "collapsed_sections": [],
      "authorship_tag": "ABX9TyPd8zwyd6yBJsnMGlD5u41T",
      "include_colab_link": true
    },
    "kernelspec": {
      "name": "python3",
      "display_name": "Python 3"
    },
    "language_info": {
      "name": "python"
    }
  },
  "cells": [
    {
      "cell_type": "markdown",
      "metadata": {
        "id": "view-in-github",
        "colab_type": "text"
      },
      "source": [
        "<a href=\"https://colab.research.google.com/github/Ohgangrae/ai/blob/main/Day3.ipynb\" target=\"_parent\"><img src=\"https://colab.research.google.com/assets/colab-badge.svg\" alt=\"Open In Colab\"/></a>"
      ]
    },
    {
      "cell_type": "code",
      "execution_count": 1,
      "metadata": {
        "id": "W3Bl67nL4YXu",
        "colab": {
          "base_uri": "https://localhost:8080/"
        },
        "outputId": "c20139d3-c665-4780-c7d5-f374ce269532"
      },
      "outputs": [
        {
          "output_type": "stream",
          "name": "stdout",
          "text": [
            "1\n",
            "['하나', '둘']\n",
            "[9, 2, 3, 4, 5]\n",
            "[9, 2, 3, 4, 5, 9, 2, 3, 4, 5, 9, 2, 3, 4, 5]\n",
            "[9, 2, 3, 4, 5, 8]\n"
          ]
        }
      ],
      "source": [
        "####################################################\n",
        "# Review\n",
        "####################################################\n",
        "\n",
        "# Collection : 많은 데이터(elements)를 저장하고 관리한다. \n",
        "\n",
        "# 리스트list        튜플 tuple        딕셔너리 dict         셋 set\n",
        "\n",
        "# []                ()                {}                    {}\n",
        "# mutable           immutable         mutable               mutable\n",
        "# indexing/slicing  indexing/slicing  Nope                  Nope\n",
        "#                   (1,)             {key:value}            중복데이터 미허용\n",
        "#                                    자바의 map, JS json    중복제거\n",
        "\n",
        "# List\n",
        "list1 = [1,2,3,4,5]\n",
        "list2 = [2,3,'하나','둘',True,False]\n",
        "\n",
        "print(list1[0])  # indexing\n",
        "print(list2[2:4])# slicing [시작:끝(미만)]\n",
        "\n",
        "list1[0] = 9\n",
        "print(list1)\n",
        "\n",
        "print(list1*3)\n",
        "\n",
        "list1.append(8) # append()는 마지막에 넣는다\n",
        "print(list1)\n",
        "\n",
        "list1.insert(0, 10) # 특정 위치를 지정하여 삽입"
      ]
    },
    {
      "cell_type": "code",
      "source": [
        "list3 = list1\n",
        "print(list1)\n",
        "print(list3)\n",
        "print(id(list1))\n",
        "print(id(list3))\n",
        "del list3[0]\n",
        "\n",
        "print(list1)\n",
        "print(list3)\n",
        "\n",
        "# list1  -------> [9, 2, 3, 4, 5, 8] <------- list3\n",
        "\n",
        "print()\n",
        "print()\n",
        "\n",
        "list4 = list1.copy()\n",
        "\n",
        "print(list1)\n",
        "print(list4)\n",
        "print(id(list1))\n",
        "print(id(list4))\n",
        "del list4[0]\n",
        "\n",
        "print(list1)\n",
        "print(list4)"
      ],
      "metadata": {
        "colab": {
          "base_uri": "https://localhost:8080/"
        },
        "id": "RaoS-IDeBUhz",
        "outputId": "2a29558c-99a3-4c34-87f7-0bb213458a62"
      },
      "execution_count": 7,
      "outputs": [
        {
          "output_type": "stream",
          "name": "stdout",
          "text": [
            "[9, 2, 3, 4, 5, 8]\n",
            "[9, 2, 3, 4, 5, 8]\n",
            "139856803315296\n",
            "139856803315296\n",
            "[2, 3, 4, 5, 8]\n",
            "[2, 3, 4, 5, 8]\n",
            "\n",
            "\n",
            "[2, 3, 4, 5, 8]\n",
            "[2, 3, 4, 5, 8]\n",
            "139856803315296\n",
            "139856803343648\n",
            "[2, 3, 4, 5, 8]\n",
            "[3, 4, 5, 8]\n"
          ]
        }
      ]
    },
    {
      "cell_type": "code",
      "source": [
        "t1 = ('대한','민국')\n",
        "print(type(t1))\n",
        "\n",
        "t2 = (1,)\n",
        "print(type(t2))"
      ],
      "metadata": {
        "colab": {
          "base_uri": "https://localhost:8080/"
        },
        "id": "CJ28J2IjBXKp",
        "outputId": "fcfa7747-9b84-4dba-896c-248762534661"
      },
      "execution_count": 3,
      "outputs": [
        {
          "output_type": "stream",
          "name": "stdout",
          "text": [
            "<class 'tuple'>\n",
            "<class 'tuple'>\n"
          ]
        }
      ]
    },
    {
      "cell_type": "code",
      "source": [
        "# t1[0] = '만세'\n",
        "t1[0]\n",
        "# t1.pop()"
      ],
      "metadata": {
        "colab": {
          "base_uri": "https://localhost:8080/",
          "height": 35
        },
        "id": "wV5nckV_BZNR",
        "outputId": "35ea6f72-fcc9-4541-d1eb-79543fc7e252"
      },
      "execution_count": 4,
      "outputs": [
        {
          "output_type": "execute_result",
          "data": {
            "application/vnd.google.colaboratory.intrinsic+json": {
              "type": "string"
            },
            "text/plain": [
              "'대한'"
            ]
          },
          "metadata": {},
          "execution_count": 4
        }
      ]
    },
    {
      "cell_type": "code",
      "source": [
        "# Dict \n",
        "\n",
        "dict = {\n",
        "    'key':'value'\n",
        "}\n",
        "\n",
        "print(dict)\n",
        "print(dict['key'])\n",
        "\n",
        "dict['newkey'] = 'ai'\n",
        "print(dict)\n",
        "\n",
        "del dict['key']\n",
        "print(dict)\n"
      ],
      "metadata": {
        "colab": {
          "base_uri": "https://localhost:8080/"
        },
        "id": "5ZDGA47tBc5t",
        "outputId": "ae941476-d464-40e9-87b0-12ceb409009b"
      },
      "execution_count": 5,
      "outputs": [
        {
          "output_type": "stream",
          "name": "stdout",
          "text": [
            "{'key': 'value'}\n",
            "value\n",
            "{'key': 'value', 'newkey': 'ai'}\n",
            "{'newkey': 'ai'}\n"
          ]
        }
      ]
    },
    {
      "cell_type": "code",
      "source": [
        "# Set\n",
        "\n",
        "set = {1,1,2,2,2,3}\n",
        "print(set)\n",
        "\n",
        "print(set[0])"
      ],
      "metadata": {
        "colab": {
          "base_uri": "https://localhost:8080/",
          "height": 229
        },
        "id": "OK65HUVDBeCT",
        "outputId": "a6863e34-d76b-431a-97e0-9dffef32bd18"
      },
      "execution_count": 6,
      "outputs": [
        {
          "output_type": "stream",
          "name": "stdout",
          "text": [
            "{1, 2, 3}\n"
          ]
        },
        {
          "output_type": "error",
          "ename": "TypeError",
          "evalue": "ignored",
          "traceback": [
            "\u001b[0;31m---------------------------------------------------------------------------\u001b[0m",
            "\u001b[0;31mTypeError\u001b[0m                                 Traceback (most recent call last)",
            "\u001b[0;32m<ipython-input-6-c9dff2e5597c>\u001b[0m in \u001b[0;36m<module>\u001b[0;34m()\u001b[0m\n\u001b[1;32m      4\u001b[0m \u001b[0mprint\u001b[0m\u001b[0;34m(\u001b[0m\u001b[0mset\u001b[0m\u001b[0;34m)\u001b[0m\u001b[0;34m\u001b[0m\u001b[0;34m\u001b[0m\u001b[0m\n\u001b[1;32m      5\u001b[0m \u001b[0;34m\u001b[0m\u001b[0m\n\u001b[0;32m----> 6\u001b[0;31m \u001b[0mprint\u001b[0m\u001b[0;34m(\u001b[0m\u001b[0mset\u001b[0m\u001b[0;34m[\u001b[0m\u001b[0;36m0\u001b[0m\u001b[0;34m]\u001b[0m\u001b[0;34m)\u001b[0m\u001b[0;34m\u001b[0m\u001b[0;34m\u001b[0m\u001b[0m\n\u001b[0m",
            "\u001b[0;31mTypeError\u001b[0m: 'set' object is not subscriptable"
          ]
        }
      ]
    },
    {
      "cell_type": "code",
      "source": [
        "#########################################\n",
        "# if 조건문\n",
        "#########################################\n",
        "\n",
        "# if 조건식(True or False):\n",
        "#   True일 경우 실행\n",
        "# else:\n",
        "#   False일 경우 실행\n",
        "\n",
        "if False:\n",
        "  print('True')\n",
        "else:\n",
        "  print('False')\n",
        "\n",
        "\n",
        "if False:\n",
        "  print('1st')\n",
        "elif False:\n",
        "  print('2nd')\n",
        "elif False:\n",
        "  print('3rd')\n",
        "else:\n",
        "  print('etc')  \n",
        "\n",
        "score  = 80\n",
        "if score >= 100:\n",
        "  print('상')\n",
        "else:\n",
        "  if score >= 50:\n",
        "    print('중')\n",
        "  else:\n",
        "    print('하')\n",
        "\n",
        "\n",
        "if score >= 100:\n",
        "  print('상')\n",
        "elif score >= 50:\n",
        "    print('중')\n",
        "else:\n",
        "    print('하')"
      ],
      "metadata": {
        "colab": {
          "base_uri": "https://localhost:8080/"
        },
        "id": "5GDlHpX5HJf-",
        "outputId": "a7e9b077-3738-4769-927d-68c6bc52d641"
      },
      "execution_count": 9,
      "outputs": [
        {
          "output_type": "stream",
          "name": "stdout",
          "text": [
            "False\n",
            "etc\n",
            "중\n",
            "중\n"
          ]
        }
      ]
    },
    {
      "cell_type": "code",
      "source": [
        "  # 입력) 당신의 점수를 입력하세요 >>> 95\n",
        "  # 출력) 당신의 점수는 95 점이고 학점은 AO학점입니다.  \n",
        "  #                     --               --\n",
        "  # 조건)100 점 초과인 점수는 없다. 0점 미만인 점수도 절대 없음\n",
        "  # 100~ 90 A \n",
        "  #  89~ 80 B\n",
        "  #  79~ 70 C\n",
        "  #  69~ 60 D \n",
        "  #  나머지 F\n",
        "\n",
        "  # 0 ~ 3 -\n",
        "  # 4 ~ 6 O\n",
        "  # 7 ~ 9 +\n",
        "\n",
        "score = int(input(\"당신의 점수를 입력하세요\"))\n",
        "a = \"\"\n",
        "r = \"\"\n",
        "if 90 <= score <= 100 :\n",
        "   r = \"A\" \n",
        "elif 80 <= score <90 :\n",
        "   r = \"B\"\n",
        "elif 70 <= score <80 :\n",
        "   r=\"C\"\n",
        "elif 60 <= score <70 :\n",
        "   r=\"D\"\n",
        "elif 0 < score < 60:\n",
        "   r=\"F\"\n",
        "\n",
        "if 0 or 1 or 2 or 3 in str(score)[2]:\n",
        "   a = \"-\"\n",
        "elif 4 or 5 or 6 in str(score)[2]:\n",
        "   a=\"0\"\n",
        "else:\n",
        "   a=\"+\"    \n",
        "print(f\"당신의 점수는 {score}점 이고 학점은 {r}{a}학점입니다 \")\n"
      ],
      "metadata": {
        "colab": {
          "base_uri": "https://localhost:8080/"
        },
        "id": "qUYyQDe5JXdP",
        "outputId": "77b9504b-3699-4294-f38b-e833779ba886"
      },
      "execution_count": 8,
      "outputs": [
        {
          "output_type": "stream",
          "name": "stdout",
          "text": [
            "당신의 점수를 입력하세요78\n",
            "당신의 점수는 78점 이고 학점은 C-학점입니다 \n"
          ]
        }
      ]
    },
    {
      "cell_type": "code",
      "source": [
        ""
      ],
      "metadata": {
        "id": "jQt7_1_iLjpL"
      },
      "execution_count": null,
      "outputs": []
    },
    {
      "cell_type": "code",
      "source": [
        "sc = int(input('당신의 점수를 입력하세요 >>'))\n",
        "gr=\"\"\n",
        "\n",
        "if sc >=97:\n",
        "  gr=\"A+\"\n",
        "elif sc >=94:\n",
        "  gr=\"AO\"\n",
        "elif sc >=90:\n",
        "  gr=\"A-\"\n",
        "elif sc >=87:\n",
        "  gr=\"B+\"\n",
        "elif sc >=84:\n",
        "  gr=\"BO\"\n",
        "elif sc >=80:\n",
        "  gr=\"B-\"\n",
        "elif sc >=77:\n",
        "  gr=\"C+\"\n",
        "elif sc >=74:\n",
        "  gr=\"CO\"\n",
        "elif sc >=70:\n",
        "  gr=\"C-\"\n",
        "elif sc >=67:\n",
        "  gr=\"D+\"\n",
        "elif sc >=64:\n",
        "  gr=\"DO\"\n",
        "elif sc >=60:\n",
        "  gr=\"D-\"\n",
        "else:\n",
        "  gr=\"F\"      \n",
        "\n",
        "print(f'당신의 점수는 {sc}점이고 학점은 {gr}학점입니다.')\n"
      ],
      "metadata": {
        "colab": {
          "base_uri": "https://localhost:8080/"
        },
        "id": "XHsM58JdOZ2e",
        "outputId": "223bddc4-05a9-41f4-aa2f-62420db9a4d2"
      },
      "execution_count": 2,
      "outputs": [
        {
          "output_type": "stream",
          "name": "stdout",
          "text": [
            "당신의 점수를 입력하세요 >>98\n",
            "당신의 점수는 98점이고 학점은 A+학점입니다.\n"
          ]
        }
      ]
    },
    {
      "cell_type": "code",
      "source": [
        "score = int(input(\"점수를 입력하세요 >>>\"))\n",
        "\n",
        "if score >= 90:\n",
        "  gr = \"A\"\n",
        "elif score >= 80:\n",
        "  gr = \"B\"\n",
        "elif score >= 70:\n",
        "  gr = \"C\"\n",
        "elif score >= 60:\n",
        "  gr = \"D\"\n",
        "else:\n",
        "  gr = \"F\"\n",
        "\n",
        "\n",
        "if int(score%10) >= 7:\n",
        "  de = '+'\n",
        "elif int(score%10) >= 4:\n",
        "  de = 'O'\n",
        "else:\n",
        "  de = '-'\n",
        "\n",
        "print(f'당신의 점수는 {score}이며 학점은 {gr}{de}입니다. ')"
      ],
      "metadata": {
        "colab": {
          "base_uri": "https://localhost:8080/"
        },
        "id": "1x_gZFzDOc5b",
        "outputId": "b41a6123-b81c-40ec-c10d-db57f927192c"
      },
      "execution_count": 9,
      "outputs": [
        {
          "output_type": "stream",
          "name": "stdout",
          "text": [
            "점수를 입력하세요 >>>56\n",
            "당신의 점수는 56이며 학점은 FO입니다. \n"
          ]
        }
      ]
    },
    {
      "cell_type": "code",
      "source": [
        "#####################################\n",
        "# While\n",
        "#####################################\n",
        "\n",
        "# 반복문은 작업 수행을 한 번이 아니라 계속해서 수행해야 할때 사용한다. \n",
        "# while 반복 작업을 몇 번 수행할지 확실하지 않을 때 주로 사용한다. \n",
        "# '운동장을 해가 질때까지 반복해서 돌자'\n",
        "\n",
        "# while 조건식:\n",
        "#   실행구문\n",
        "\n",
        "# while True:\n",
        "#   print('운동장 돌기')"
      ],
      "metadata": {
        "id": "WZ9p7DbHSNBz"
      },
      "execution_count": null,
      "outputs": []
    },
    {
      "cell_type": "code",
      "source": [
        "n = 1\n",
        "while n <= 10:\n",
        "  print(n)\n",
        "  n = n + 1\n",
        "\n",
        "print('-------------')\n",
        "print(n)"
      ],
      "metadata": {
        "colab": {
          "base_uri": "https://localhost:8080/"
        },
        "id": "Rkd_0qQ0UFR9",
        "outputId": "7ef873a5-c6b3-4c88-dfd2-695025274a22"
      },
      "execution_count": 10,
      "outputs": [
        {
          "output_type": "stream",
          "name": "stdout",
          "text": [
            "1\n",
            "2\n",
            "3\n",
            "4\n",
            "5\n",
            "6\n",
            "7\n",
            "8\n",
            "9\n",
            "10\n",
            "-------------\n",
            "11\n"
          ]
        }
      ]
    },
    {
      "cell_type": "code",
      "source": [
        "n = 1\n",
        "while n <= 10:\n",
        "  print(n)\n",
        "  n += 1   # n = n + 1   (자바 n++)\n",
        "\n",
        "print('-------------')\n",
        "print(n)"
      ],
      "metadata": {
        "colab": {
          "base_uri": "https://localhost:8080/"
        },
        "id": "T5gLDoUpUKLq",
        "outputId": "11a74613-7123-4d81-f271-6f5669c6f151"
      },
      "execution_count": 11,
      "outputs": [
        {
          "output_type": "stream",
          "name": "stdout",
          "text": [
            "1\n",
            "2\n",
            "3\n",
            "4\n",
            "5\n",
            "6\n",
            "7\n",
            "8\n",
            "9\n",
            "10\n",
            "-------------\n",
            "11\n"
          ]
        }
      ]
    },
    {
      "cell_type": "code",
      "source": [
        "# 10 부터 1까지 짝수만(꺼꾸로) 출력\n",
        "\n",
        "n = 10\n",
        "while n >=1:\n",
        "  print(n)\n",
        "  n -= 2      #  n = n - 2\n",
        "\n",
        "n = 10\n",
        "while n>=1:\n",
        "  if n%2 ==0:\n",
        "    print(n)\n",
        "  n -=1\n"
      ],
      "metadata": {
        "colab": {
          "base_uri": "https://localhost:8080/"
        },
        "id": "CJe-85wSUZiP",
        "outputId": "101354de-b914-4192-ac4b-4c057fdf8a8c"
      },
      "execution_count": 13,
      "outputs": [
        {
          "output_type": "stream",
          "name": "stdout",
          "text": [
            "10\n",
            "8\n",
            "6\n",
            "4\n",
            "2\n",
            "10\n",
            "8\n",
            "6\n",
            "4\n",
            "2\n"
          ]
        }
      ]
    },
    {
      "cell_type": "code",
      "source": [
        "# 사용자로 부터 임의의 정수를 입력 받아 모두 리스트에 보관합니다.\n",
        "# 단, 0을 입력하면 프로그램을 종료합니다. (0은 리스트에 저장 안함)\n",
        "# 최종 저장된 리스트를 출력합니다. \n",
        "\n",
        "arr = []\n",
        "no = 1\n",
        "\n",
        "while no != 0:\n",
        "  no = int(input('정수입력 >>> '))\n",
        "\n",
        "  if no != 0:\n",
        "    arr.append(no)\n",
        "\n",
        "print(arr)\n",
        "\n",
        "\n",
        "# d2 = []\n",
        "# d =1\n",
        "# while d != 0 :\n",
        "#   d = int(input('번호입력'))\n",
        "#   d2.append(d)\n",
        "\n",
        "# del d2[-1]\n",
        "# print(d2)\n"
      ],
      "metadata": {
        "colab": {
          "base_uri": "https://localhost:8080/"
        },
        "id": "k2QqlhljVPwm",
        "outputId": "5a14e5c5-0d8f-4ca4-b383-4409c15b70fa"
      },
      "execution_count": 16,
      "outputs": [
        {
          "output_type": "stream",
          "name": "stdout",
          "text": [
            "정수입력 >>> 1\n",
            "정수입력 >>> 3\n",
            "정수입력 >>> 2\n",
            "정수입력 >>> 0\n",
            "[1, 3, 2]\n"
          ]
        }
      ]
    },
    {
      "cell_type": "code",
      "source": [
        "# while 중첩\n",
        "# while  내부에 또 다른  while 을 사용하는 것을 중첩이라고 한다.\n",
        "\n",
        "# 3일 동안 1~3교시 수업을 한다.\n",
        "\n",
        "# 1일차 1교시입니다.\n",
        "# 1일차 2교시입니다\n",
        "# 1일차 3교시입니다.\n",
        "# 2일차 1교시입니다.\n",
        "# 2일차 2교시입니다.\n",
        "# 2일차 3교시입니다.\n",
        "# 3일차 1교시입니다.\n",
        "# 3일차 2교시입니다.\n",
        "# 3일차 3교시입니다.\n"
      ],
      "metadata": {
        "id": "88oqLuEGYk1I"
      },
      "execution_count": null,
      "outputs": []
    },
    {
      "cell_type": "code",
      "source": [
        "day = 1\n",
        "while day <= 3:\n",
        "  hour = 1\n",
        "  while hour <= 3:\n",
        "    print(f'{day}일차 {hour}교시입니다.')\n",
        "    hour += 1\n",
        "  day += 1"
      ],
      "metadata": {
        "colab": {
          "base_uri": "https://localhost:8080/"
        },
        "id": "vMVF_nXRtMSs",
        "outputId": "1fb4cfe4-b340-41d2-e574-59c48955b85d"
      },
      "execution_count": 17,
      "outputs": [
        {
          "output_type": "stream",
          "name": "stdout",
          "text": [
            "1일차 1교시입니다.\n",
            "1일차 2교시입니다.\n",
            "1일차 3교시입니다.\n",
            "2일차 1교시입니다.\n",
            "2일차 2교시입니다.\n",
            "2일차 3교시입니다.\n",
            "3일차 1교시입니다.\n",
            "3일차 2교시입니다.\n",
            "3일차 3교시입니다.\n"
          ]
        }
      ]
    },
    {
      "cell_type": "code",
      "source": [
        "a = 2\n",
        "while a <= 9:\n",
        "  b = 1\n",
        "  while b <= 9:\n",
        "    print(f'{a}*{b}={a*b}')\n",
        "    b += 1\n",
        "  a += 1\n"
      ],
      "metadata": {
        "colab": {
          "base_uri": "https://localhost:8080/"
        },
        "id": "x3WnrrTMuTE6",
        "outputId": "76672957-c2fa-4ab2-a922-2554bd945b5f"
      },
      "execution_count": 21,
      "outputs": [
        {
          "output_type": "stream",
          "name": "stdout",
          "text": [
            "2*1=2\n",
            "2*2=4\n",
            "2*3=6\n",
            "2*4=8\n",
            "2*5=10\n",
            "2*6=12\n",
            "2*7=14\n",
            "2*8=16\n",
            "2*9=18\n",
            "3*1=3\n",
            "3*2=6\n",
            "3*3=9\n",
            "3*4=12\n",
            "3*5=15\n",
            "3*6=18\n",
            "3*7=21\n",
            "3*8=24\n",
            "3*9=27\n",
            "4*1=4\n",
            "4*2=8\n",
            "4*3=12\n",
            "4*4=16\n",
            "4*5=20\n",
            "4*6=24\n",
            "4*7=28\n",
            "4*8=32\n",
            "4*9=36\n",
            "5*1=5\n",
            "5*2=10\n",
            "5*3=15\n",
            "5*4=20\n",
            "5*5=25\n",
            "5*6=30\n",
            "5*7=35\n",
            "5*8=40\n",
            "5*9=45\n",
            "6*1=6\n",
            "6*2=12\n",
            "6*3=18\n",
            "6*4=24\n",
            "6*5=30\n",
            "6*6=36\n",
            "6*7=42\n",
            "6*8=48\n",
            "6*9=54\n",
            "7*1=7\n",
            "7*2=14\n",
            "7*3=21\n",
            "7*4=28\n",
            "7*5=35\n",
            "7*6=42\n",
            "7*7=49\n",
            "7*8=56\n",
            "7*9=63\n",
            "8*1=8\n",
            "8*2=16\n",
            "8*3=24\n",
            "8*4=32\n",
            "8*5=40\n",
            "8*6=48\n",
            "8*7=56\n",
            "8*8=64\n",
            "8*9=72\n",
            "9*1=9\n",
            "9*2=18\n",
            "9*3=27\n",
            "9*4=36\n",
            "9*5=45\n",
            "9*6=54\n",
            "9*7=63\n",
            "9*8=72\n",
            "9*9=81\n"
          ]
        }
      ]
    },
    {
      "cell_type": "code",
      "source": [
        "\n",
        "q = int(input('정수를 입력하세요'))\n",
        "n = 1\n",
        "if q > 0:\n",
        "  while q > 0:\n",
        "    print(f'{n}번째 Hello')\n",
        "    n += 1\n",
        "    q -= 1\n",
        "else:\n",
        "    print('잘못된 입력입니다.')\n",
        "\n"
      ],
      "metadata": {
        "colab": {
          "base_uri": "https://localhost:8080/"
        },
        "id": "D7PWg8pxwSvL",
        "outputId": "ab9675b9-9d6f-4cb2-807e-25e3cc270108"
      },
      "execution_count": 32,
      "outputs": [
        {
          "output_type": "stream",
          "name": "stdout",
          "text": [
            "정수를 입력하세요0\n",
            "잘못된 입력입니다.\n"
          ]
        }
      ]
    },
    {
      "cell_type": "code",
      "source": [
        "# q2  1 부터 100사이의 모든 정수 중에서 7의 배수만 출력하세요\n",
        "n = 7\n",
        "while n <= 100:\n",
        "  print(n)\n",
        "  n += 7\n",
        "\n",
        "\n"
      ],
      "metadata": {
        "colab": {
          "base_uri": "https://localhost:8080/"
        },
        "id": "z2LN62nj1jdr",
        "outputId": "0934cba8-2e74-4daa-b6c5-d55c9f780ae1"
      },
      "execution_count": 35,
      "outputs": [
        {
          "output_type": "stream",
          "name": "stdout",
          "text": [
            "7\n",
            "14\n",
            "21\n",
            "28\n",
            "35\n",
            "42\n",
            "49\n",
            "56\n",
            "63\n",
            "70\n",
            "77\n",
            "84\n",
            "91\n",
            "98\n"
          ]
        }
      ]
    },
    {
      "cell_type": "code",
      "source": [
        "# 커피 1잔을 300원에 판매하는 자판기가 있다 \n",
        "# 자판기에 돈을 넣었을때 자팜기에서 뽑을 수 있는 커피가 몇잔이고\n",
        "# 잔돈이 얼마인지 함께 출력하세요\n",
        "\n",
        "# 자판기에 얼마를 넣을까요 >>> 1400\n",
        "# 커피 1잔, 잔돈 1100원\n",
        "# 커피 2잔, 잔돈 800원\n",
        "# 커피 3잔, 잔돈 500원\n",
        "# 커피 4잔, 잔돈 200원\n"
      ],
      "metadata": {
        "id": "ZqcF-6BT3I8p"
      },
      "execution_count": null,
      "outputs": []
    },
    {
      "cell_type": "code",
      "source": [
        "a = int(input('자판기에 얼마를 넣을까요'))\n",
        "cof = 300\n",
        "num = 1\n",
        "while cof<=a:\n",
        "  print(f'커피 {num}잔, 잔돈 {a-cof}원')\n",
        "  num+=1\n",
        "  cof+=300\n"
      ],
      "metadata": {
        "colab": {
          "base_uri": "https://localhost:8080/"
        },
        "id": "CIZ247El7a6_",
        "outputId": "dedd0a7c-1ca2-450b-d2c4-7531ff6ee328"
      },
      "execution_count": 36,
      "outputs": [
        {
          "output_type": "stream",
          "name": "stdout",
          "text": [
            "자판기에 얼마를 넣을까요5000\n",
            "커피 1잔, 잔돈 4700원\n",
            "커피 2잔, 잔돈 4400원\n",
            "커피 3잔, 잔돈 4100원\n",
            "커피 4잔, 잔돈 3800원\n",
            "커피 5잔, 잔돈 3500원\n",
            "커피 6잔, 잔돈 3200원\n",
            "커피 7잔, 잔돈 2900원\n",
            "커피 8잔, 잔돈 2600원\n",
            "커피 9잔, 잔돈 2300원\n",
            "커피 10잔, 잔돈 2000원\n",
            "커피 11잔, 잔돈 1700원\n",
            "커피 12잔, 잔돈 1400원\n",
            "커피 13잔, 잔돈 1100원\n",
            "커피 14잔, 잔돈 800원\n",
            "커피 15잔, 잔돈 500원\n",
            "커피 16잔, 잔돈 200원\n"
          ]
        }
      ]
    },
    {
      "cell_type": "code",
      "source": [
        "# 사용자로 부터 0부터 9까지 의 정수를 입력받아 입력된 정수가 5개가 \n",
        "# 될때까지 입력 받는 프로그램을 구현하세요 , \n",
        "# 중복된 값이 입력되면 해당입력은 무시합니다.\n",
        "# set, while 사용할 것\n",
        "\n",
        "0 ~ 9 사이 정수를 입력하세요 >>> 0\n",
        "0 ~ 9 사이 정수를 입력하세요 >>> 0 # 무시\n",
        "0 ~ 9 사이 정수를 입력하세요 >>> 1 \n",
        "0 ~ 9 사이 정수를 입력하세요 >>> 1 # 무시\n",
        "0 ~ 9 사이 정수를 입력하세요 >>> 2\n",
        "0 ~ 9 사이 정수를 입력하세요 >>> 3 \n",
        "0 ~ 9 사이 정수를 입력하세요 >>> 4 "
      ],
      "metadata": {
        "id": "fxn7twUM9eDN"
      },
      "execution_count": null,
      "outputs": []
    },
    {
      "cell_type": "code",
      "source": [
        "num = set([])\n",
        "\n",
        "while len(num) <= 4:\n",
        "  no = int(input('0 ~ 9 사이 정수를 입력하세요 >>>'))\n",
        "  num.add(no)\n",
        "  print(num)\n",
        "\n",
        "print(num)"
      ],
      "metadata": {
        "colab": {
          "base_uri": "https://localhost:8080/"
        },
        "id": "RBM5CH5s99N7",
        "outputId": "c5797a9c-eff2-418d-955b-d149df96f7b2"
      },
      "execution_count": 43,
      "outputs": [
        {
          "output_type": "stream",
          "name": "stdout",
          "text": [
            "0 ~ 9 사이 정수를 입력하세요 >>>1\n",
            "{1}\n",
            "0 ~ 9 사이 정수를 입력하세요 >>>1\n",
            "{1}\n",
            "0 ~ 9 사이 정수를 입력하세요 >>>2\n",
            "{1, 2}\n",
            "0 ~ 9 사이 정수를 입력하세요 >>>3\n",
            "{1, 2, 3}\n",
            "0 ~ 9 사이 정수를 입력하세요 >>>3\n",
            "{1, 2, 3}\n",
            "0 ~ 9 사이 정수를 입력하세요 >>>3\n",
            "{1, 2, 3}\n",
            "0 ~ 9 사이 정수를 입력하세요 >>>4\n",
            "{1, 2, 3, 4}\n",
            "0 ~ 9 사이 정수를 입력하세요 >>>5\n",
            "{1, 2, 3, 4, 5}\n",
            "{1, 2, 3, 4, 5}\n"
          ]
        }
      ]
    },
    {
      "cell_type": "code",
      "source": [
        "# 1부터 100사이의 모든 정수를 한줄에 10개씩 출력하시오\n",
        "# while 2번 사용할 것\n",
        "1     2     3     4     5     6     7     8     9     10\n",
        "11\n",
        "12\n",
        "13\n",
        ".\n",
        ".\n",
        "91    92    93                    ...                 100"
      ],
      "metadata": {
        "id": "dhJlcpxlKcdA"
      },
      "execution_count": null,
      "outputs": []
    },
    {
      "cell_type": "code",
      "source": [
        "# n = 1\n",
        "# while n <= 100:\n",
        "#   if n % 10 != 0:\n",
        "#     print(n, end='\\t')\n",
        "#   else:\n",
        "#     print(n)\n",
        "#   n += 1\n",
        "\n"
      ],
      "metadata": {
        "colab": {
          "base_uri": "https://localhost:8080/"
        },
        "id": "Co0HHas8KdKE",
        "outputId": "de55a559-53a0-4184-9b8f-0a90f4e31264"
      },
      "execution_count": 4,
      "outputs": [
        {
          "output_type": "stream",
          "name": "stdout",
          "text": [
            "1\t2\t3\t4\t5\t6\t7\t8\t9\t10\n",
            "11\t12\t13\t14\t15\t16\t17\t18\t19\t20\n",
            "21\t22\t23\t24\t25\t26\t27\t28\t29\t30\n",
            "31\t32\t33\t34\t35\t36\t37\t38\t39\t40\n",
            "41\t42\t43\t44\t45\t46\t47\t48\t49\t50\n",
            "51\t52\t53\t54\t55\t56\t57\t58\t59\t60\n",
            "61\t62\t63\t64\t65\t66\t67\t68\t69\t70\n",
            "71\t72\t73\t74\t75\t76\t77\t78\t79\t80\n",
            "81\t82\t83\t84\t85\t86\t87\t88\t89\t90\n",
            "91\t92\t93\t94\t95\t96\t97\t98\t99\t100\n"
          ]
        }
      ]
    },
    {
      "cell_type": "code",
      "source": [
        "n = 1\n",
        "while n <= 100:\n",
        "  t = 0\n",
        "  while t < 10:\n",
        "    print(n, end='\\t')\n",
        "    t += 1\n",
        "    n += 1\n",
        "  print(\"\")"
      ],
      "metadata": {
        "colab": {
          "base_uri": "https://localhost:8080/"
        },
        "id": "ai8cJ9EQKfVy",
        "outputId": "86af723f-49ed-4b1f-9fe6-c7132281bd73"
      },
      "execution_count": 5,
      "outputs": [
        {
          "output_type": "stream",
          "name": "stdout",
          "text": [
            "1\t2\t3\t4\t5\t6\t7\t8\t9\t10\t\n",
            "11\t12\t13\t14\t15\t16\t17\t18\t19\t20\t\n",
            "21\t22\t23\t24\t25\t26\t27\t28\t29\t30\t\n",
            "31\t32\t33\t34\t35\t36\t37\t38\t39\t40\t\n",
            "41\t42\t43\t44\t45\t46\t47\t48\t49\t50\t\n",
            "51\t52\t53\t54\t55\t56\t57\t58\t59\t60\t\n",
            "61\t62\t63\t64\t65\t66\t67\t68\t69\t70\t\n",
            "71\t72\t73\t74\t75\t76\t77\t78\t79\t80\t\n",
            "81\t82\t83\t84\t85\t86\t87\t88\t89\t90\t\n",
            "91\t92\t93\t94\t95\t96\t97\t98\t99\t100\t\n"
          ]
        }
      ]
    },
    {
      "cell_type": "code",
      "source": [
        "#########\n",
        "# for\n",
        "#########\n",
        "\n",
        "# 몇 번 반복 시킬지 그 횟수가 명확할 때 주로 사용한다. \n",
        "\n",
        "# for 변수 in 반복시킬값들:\n",
        "#   반복실행문\n",
        "\n",
        "# 리스트\n",
        "# for i in [1,2,3]:\n",
        "#   print(i)\n",
        "\n",
        "# 문자열\n",
        "# for i in 'hello':\n",
        "#   print(i)\n",
        "\n",
        "# 튜플\n",
        "# for i in (1,2,3):\n",
        "#   print(i)  \n",
        "\n",
        "# range()\n",
        "for i in range(1,4,2):  #range(시작(생략가능), 끝(미만), 스탭(생략가능))\n",
        "  print(i)\n",
        "\n",
        "# set, dict 는 순서와 상관 없이는 사용 가능"
      ],
      "metadata": {
        "colab": {
          "base_uri": "https://localhost:8080/"
        },
        "id": "073VPagcLav_",
        "outputId": "58afa3a1-0dda-40fd-a90c-b3104e43c6a6"
      },
      "execution_count": 8,
      "outputs": [
        {
          "output_type": "stream",
          "name": "stdout",
          "text": [
            "1\n",
            "3\n"
          ]
        }
      ]
    },
    {
      "cell_type": "code",
      "source": [
        "# 비밀 번호(str)를 입력 받아서 숫자와 문자가 모두 반드시 하나이상 \n",
        "# 포함된 경우만 '사용 가능한 비번입니다.'\n",
        "# '불가능한 비번입니다'\n",
        "# ch.isalpha() - 알파벳이면 구성되면 True \n",
        "# ch.isnumeric() - 숫자면  True\n",
        "\n",
        "# (입력) 비밀 번호를 입력하세요 >>>\n",
        "# (출력) 사용 가능한 비번입니다."
      ],
      "metadata": {
        "id": "h766d7OEOHKf"
      },
      "execution_count": null,
      "outputs": []
    },
    {
      "cell_type": "code",
      "source": [
        "pw = input('비밀 번호를 입력하세요 >>>')\n",
        "\n",
        "\n",
        "ch_count = 0\n",
        "no_count = 0\n",
        "\n",
        "for ch in pw:\n",
        "  if ch.isalpha():\n",
        "    ch_count += 1\n",
        "  elif ch.isnumeric():\n",
        "    no_count += 1\n",
        "\n",
        "if ch_count > 0 and no_count > 0:\n",
        "  print('사용 가능한 비번입니다.')\n",
        "else:\n",
        "  print('사용 불가한 비번입니다.')"
      ],
      "metadata": {
        "colab": {
          "base_uri": "https://localhost:8080/"
        },
        "id": "E3GtQVeXO6ud",
        "outputId": "1151e89c-4f86-45fe-c761-df117a4b5ca8"
      },
      "execution_count": 21,
      "outputs": [
        {
          "output_type": "stream",
          "name": "stdout",
          "text": [
            "비밀 번호를 입력하세요 >>>sdf324\n",
            "사용 가능한 비번입니다.\n"
          ]
        }
      ]
    },
    {
      "cell_type": "code",
      "source": [
        "# range([start], stop, [step])\n",
        "\n",
        "# 1 숫자들을 컬렉션으로 만든다. \n",
        "# 2 start를 생략하면 0부터 시작한다. \n",
        "# 3 stop은 생략할수 없다. \n",
        "# 4 step을 생략하면 1씩 증가한다. \n",
        "\n"
      ],
      "metadata": {
        "id": "bH3HGVQfWmUU"
      },
      "execution_count": null,
      "outputs": []
    },
    {
      "cell_type": "code",
      "source": [
        "# quiz . range와 for 문을 사용하여 구구단을 출력하세요\n",
        "#(입력) 출력할 구구단을 입력하세요 >>> 5\n",
        "\n",
        "5 x 1 = 5\n",
        "5 x 2 = 10\n",
        ".\n",
        ".\n",
        ".\n",
        "5 x 9 = 45"
      ],
      "metadata": {
        "id": "ptt1SwDRW8JH"
      },
      "execution_count": null,
      "outputs": []
    },
    {
      "cell_type": "code",
      "source": [
        "\n",
        "num = int(input('출력할 구구단을 입력하세요 >>>'))\n",
        "\n",
        "for i in range(1,10,1):\n",
        "  print(f'{num}*{i} = {num*i}')\n",
        "\n"
      ],
      "metadata": {
        "colab": {
          "base_uri": "https://localhost:8080/"
        },
        "id": "0qH1DIrJXByF",
        "outputId": "c6f0f695-f5fc-4506-c7de-e8b25c43ffca"
      },
      "execution_count": 22,
      "outputs": [
        {
          "output_type": "stream",
          "name": "stdout",
          "text": [
            "출력할 구구단을 입력하세요 >>>2\n",
            "2*1 = 2\n",
            "2*2 = 4\n",
            "2*3 = 6\n",
            "2*4 = 8\n",
            "2*5 = 10\n",
            "2*6 = 12\n",
            "2*7 = 14\n",
            "2*8 = 16\n",
            "2*9 = 18\n"
          ]
        }
      ]
    },
    {
      "cell_type": "code",
      "source": [
        "# set, dict 도 for문으로 사용은 가능하나 순서는 보장하지 않는다. \n",
        "\n",
        "for i in {'가위','바위','보'}:\n",
        "  print(i)"
      ],
      "metadata": {
        "colab": {
          "base_uri": "https://localhost:8080/"
        },
        "id": "NcSVTLf8YIhL",
        "outputId": "94cca806-e74a-4b22-df6c-9eb5a1c20265"
      },
      "execution_count": 25,
      "outputs": [
        {
          "output_type": "stream",
          "name": "stdout",
          "text": [
            "가위\n",
            "보\n",
            "바위\n"
          ]
        }
      ]
    },
    {
      "cell_type": "code",
      "source": [
        "person = {\n",
        "    'name':'에밀리',\n",
        "    'age':'20'\n",
        "}\n",
        "\n",
        "for i in person:\n",
        "  print(i)\n",
        "\n",
        "for i in person:\n",
        "  print(person[i])"
      ],
      "metadata": {
        "colab": {
          "base_uri": "https://localhost:8080/"
        },
        "id": "OcyAru6rY4i-",
        "outputId": "75083c7c-efe0-4733-d056-61f933ae2740"
      },
      "execution_count": 27,
      "outputs": [
        {
          "output_type": "stream",
          "name": "stdout",
          "text": [
            "name\n",
            "age\n",
            "에밀리\n",
            "20\n"
          ]
        }
      ]
    },
    {
      "cell_type": "code",
      "source": [
        "# 사용자로부터 양의 정수를 하나 입력 받아서 1부터 입력 받은 정수 까지의\n",
        "# 모든 정수의 합계를 구하는 프로그램을 작성하세요\n",
        "#(입력) 임의의 양수를 입력하세요 >>> 5\n",
        "#(출력) 1부터 5사이의 모든 정수의 합계는 15입니다.\n",
        "\n",
        "num = int(input('임의의 양수를 입력하세요 >>>'))\n",
        "\n",
        "sum = 0\n",
        "\n",
        "for i in range(1,num+1):\n",
        "  sum = sum + i # sum += i\n",
        "\n",
        "print(f'1부터 {num}사이의 모든 정수의 합계는 {sum}입니다.')"
      ],
      "metadata": {
        "colab": {
          "base_uri": "https://localhost:8080/"
        },
        "id": "uZgNWE51Zb6P",
        "outputId": "aef9cda7-2cee-48e0-c3fd-0657e0517a13"
      },
      "execution_count": 32,
      "outputs": [
        {
          "output_type": "stream",
          "name": "stdout",
          "text": [
            "임의의 양수를 입력하세요 >>>5\n",
            "1부터 5사이의 모든 정수의 합계는 15입니다.\n"
          ]
        }
      ]
    },
    {
      "cell_type": "code",
      "source": [
        "# 사용자로부터 임의의 정수를 하나 입력 받아서 그 숫자 만큼의 \n",
        "# '과일이름'입력 받아서'basket' 리스트에 저장하는 프로그램을 작성하세요\n",
        "\n",
        "# 몇 개의 과일을 보관할까요 ? >>> 3\n",
        "# 1번째 과일을 입력하세요 >>> 사과\n",
        "# 2번째 과일을 입력하세요 >>> 바나나\n",
        "# 3번째 과일을 입력하세요 >>> 체리\n",
        "\n",
        "# 입력 받은 과일들은 ['사과','바나나','체리'] 입니다.\n"
      ],
      "metadata": {
        "id": "SwpfDDTiaxB0"
      },
      "execution_count": null,
      "outputs": []
    },
    {
      "cell_type": "code",
      "source": [
        "\n",
        "num = int(input('몇 개의 과일을 보관할까요 ?'))\n",
        "\n",
        "basket = []\n",
        "\n",
        "for i in range(1,num+1):\n",
        "  fruit = input(f'{i}번째 과일을 입력하세요')\n",
        "  basket.append(fruit)\n",
        "\n",
        "print(f'입력 받은 과일들은 {basket} 입니다.')"
      ],
      "metadata": {
        "colab": {
          "base_uri": "https://localhost:8080/"
        },
        "id": "bKsITeN_bOmV",
        "outputId": "e4751068-f9ee-4288-9392-5a73b435ca8c"
      },
      "execution_count": 33,
      "outputs": [
        {
          "output_type": "stream",
          "name": "stdout",
          "text": [
            "몇 개의 과일을 보관할까요 ?3\n",
            "1번째 과일을 입력하세요사과\n",
            "2번째 과일을 입력하세요바나나\n",
            "3번째 과일을 입력하세요딸기\n",
            "입력 받은 과일들은 ['사과', '바나나', '딸기'] 입니다.\n"
          ]
        }
      ]
    },
    {
      "cell_type": "code",
      "source": [
        "1부터 99 사이의 모든 정수를 대상으로 369게임의 결과를 출력하는 프로그램을 작성하세요\n",
        "\n",
        "1   2   짝    4   5   짝.......8    짝    10\n",
        "11  12  짝...\n",
        "21\n",
        "짝  짝  짝짝  짝  짝\n",
        "41\n",
        "51\n",
        "짝\n",
        "71\n",
        "81\n",
        "짝 짝  짝짝                    짝  짝짝\n"
      ],
      "metadata": {
        "id": "HKNJQe0kfNY8"
      },
      "execution_count": null,
      "outputs": []
    }
  ]
}