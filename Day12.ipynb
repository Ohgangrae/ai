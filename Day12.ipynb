{
  "nbformat": 4,
  "nbformat_minor": 0,
  "metadata": {
    "colab": {
      "name": "Day12.ipynb",
      "provenance": [],
      "collapsed_sections": [],
      "authorship_tag": "ABX9TyNThmJsop59sBPJn0lT+gwj",
      "include_colab_link": true
    },
    "kernelspec": {
      "name": "python3",
      "display_name": "Python 3"
    },
    "language_info": {
      "name": "python"
    }
  },
  "cells": [
    {
      "cell_type": "markdown",
      "metadata": {
        "id": "view-in-github",
        "colab_type": "text"
      },
      "source": [
        "<a href=\"https://colab.research.google.com/github/Ohgangrae/ai/blob/main/Day12.ipynb\" target=\"_parent\"><img src=\"https://colab.research.google.com/assets/colab-badge.svg\" alt=\"Open In Colab\"/></a>"
      ]
    },
    {
      "cell_type": "code",
      "execution_count": 1,
      "metadata": {
        "colab": {
          "base_uri": "https://localhost:8080/"
        },
        "id": "ANj6a5KlLC3M",
        "outputId": "1e20503d-8651-46ce-ecb3-a06aa5644af8"
      },
      "outputs": [
        {
          "output_type": "stream",
          "name": "stdout",
          "text": [
            "3.14\n"
          ]
        }
      ],
      "source": [
        "# Maths\n",
        "\n",
        "num = 3.141592\n",
        "print(round(num,2)) # Display a number rounded to two decimal places."
      ]
    },
    {
      "cell_type": "code",
      "source": [
        "10**2\n",
        "# To the power of ..."
      ],
      "metadata": {
        "colab": {
          "base_uri": "https://localhost:8080/"
        },
        "id": "UaeP_x0JMNt1",
        "outputId": "c8e0bc81-7750-40f8-de03-f40f8b935a17"
      },
      "execution_count": 2,
      "outputs": [
        {
          "output_type": "execute_result",
          "data": {
            "text/plain": [
              "100"
            ]
          },
          "metadata": {},
          "execution_count": 2
        }
      ]
    },
    {
      "cell_type": "code",
      "source": [
        "import math\n",
        "\n",
        "math.sqrt(100)\n",
        "\n",
        "# The square root of a number but you must have the line 'import math' \n",
        "# at the top of your program for this to work. "
      ],
      "metadata": {
        "colab": {
          "base_uri": "https://localhost:8080/"
        },
        "id": "PGmVSqSBMQEs",
        "outputId": "2d8e5eeb-8907-4433-e370-2bcc134585f9"
      },
      "execution_count": 3,
      "outputs": [
        {
          "output_type": "execute_result",
          "data": {
            "text/plain": [
              "10.0"
            ]
          },
          "metadata": {},
          "execution_count": 3
        }
      ]
    },
    {
      "cell_type": "code",
      "source": [
        "math.pi\n",
        "\n",
        "# Gives you pi to decimal places, but you must have the line 'import math'\n",
        "# at the top of your program for this to work."
      ],
      "metadata": {
        "colab": {
          "base_uri": "https://localhost:8080/"
        },
        "id": "oPFHlcCgM2Os",
        "outputId": "5df3477b-6bc9-4202-9ac5-733ad8f58b6c"
      },
      "execution_count": 4,
      "outputs": [
        {
          "output_type": "execute_result",
          "data": {
            "text/plain": [
              "3.141592653589793"
            ]
          },
          "metadata": {},
          "execution_count": 4
        }
      ]
    },
    {
      "cell_type": "code",
      "source": [
        "15 // 2\n",
        "# Whole number division. 15//2 gives the answer 7."
      ],
      "metadata": {
        "colab": {
          "base_uri": "https://localhost:8080/"
        },
        "id": "zBEcHVNrM2MB",
        "outputId": "6a7694f1-a6a0-4a34-d369-8e6c5e8c426a"
      },
      "execution_count": 5,
      "outputs": [
        {
          "output_type": "execute_result",
          "data": {
            "text/plain": [
              "7"
            ]
          },
          "metadata": {},
          "execution_count": 5
        }
      ]
    },
    {
      "cell_type": "code",
      "source": [
        "15 % 2\n",
        "# Finds the remainder. 15 % 2 gives the answer 1.\n"
      ],
      "metadata": {
        "colab": {
          "base_uri": "https://localhost:8080/"
        },
        "id": "3jbrM8Y_M2BE",
        "outputId": "56f31270-4ced-4c2d-95e2-77ad2f3bad4f"
      },
      "execution_count": 9,
      "outputs": [
        {
          "output_type": "execute_result",
          "data": {
            "text/plain": [
              "1"
            ]
          },
          "metadata": {},
          "execution_count": 9
        }
      ]
    },
    {
      "cell_type": "code",
      "source": [
        "# Ask the user to enter an integer that is over 500. Work out the \n",
        "# square root of that number and display it to two decimal places.\n",
        "\n",
        "# (input) 'Enter a number over 500:'\n",
        "\n",
        "import math\n",
        "\n",
        "num = int(input('Enter a number over 500 : '))\n",
        "ans = math.sqrt(num)\n",
        "print(round(ans,2))"
      ],
      "metadata": {
        "colab": {
          "base_uri": "https://localhost:8080/"
        },
        "id": "oeoLMg80NZce",
        "outputId": "955214b6-99c7-4832-c3d8-8ace431f59ed"
      },
      "execution_count": 14,
      "outputs": [
        {
          "output_type": "stream",
          "name": "stdout",
          "text": [
            "Enter a number over 500 : 550\n",
            "23.45\n"
          ]
        }
      ]
    },
    {
      "cell_type": "code",
      "source": [
        "# Ask the user to enter the radius of a circle.\n",
        "# Work out the area of the circle. (pi * radius**2)\n",
        "\n",
        "# (input) 'Enter the radius of the circle : '\n",
        "\n",
        "import math\n",
        "num = int(input('Enter the radius of the circle : '))\n",
        "print(math.pi*num**2)\n"
      ],
      "metadata": {
        "colab": {
          "base_uri": "https://localhost:8080/"
        },
        "id": "_xXmvrvyNi6v",
        "outputId": "ad1954ec-8246-49eb-b797-53eefbce8854"
      },
      "execution_count": 19,
      "outputs": [
        {
          "output_type": "stream",
          "name": "stdout",
          "text": [
            "Enter the radius of the circle : 5\n",
            "78.53981633974483\n"
          ]
        }
      ]
    },
    {
      "cell_type": "code",
      "source": [
        "# Ask the user to enter two numbers. Use whole number division to divide\n",
        "# the first number by the second and also work out the remainder and \n",
        "# display the answer in a user-friendly way ...\n",
        "# if they enter 7 and 2 display'7 divided by 2 is 3 with 1 remaining'\n",
        "\n",
        "# (input) 'Enter a first number :  7\n",
        "# (input) 'Enter a second number : 2\n",
        "\n",
        "# (output) 7 divided by 2 is 3 with 1 remaining\n",
        "\n",
        "n1 = int(input('Enter a number : '))\n",
        "n2 = int(input('Enter a number : '))\n",
        "\n",
        "a = n1 // n2\n",
        "b = n1 % n2 \n",
        "\n",
        "print(f'{n1} divided by {n2} is {a} with {b} remaining')\n"
      ],
      "metadata": {
        "colab": {
          "base_uri": "https://localhost:8080/"
        },
        "id": "wpPnlhq5Ni4w",
        "outputId": "4dff0532-5783-43e0-fea4-80483c6d0cb9"
      },
      "execution_count": 21,
      "outputs": [
        {
          "output_type": "stream",
          "name": "stdout",
          "text": [
            "Enter a number : 7\n",
            "Enter a number : 2\n",
            "7 divided by 2 is 3 with 1 remaining\n"
          ]
        }
      ]
    },
    {
      "cell_type": "code",
      "source": [
        "# Display the following message:\n",
        "      # 1) Square\n",
        "      # 2) Triangle\n",
        "      \n",
        "      # Enter a number :\n",
        "\n",
        "# if the user enters 1, then it should ask them for the length of one of its\n",
        "# sides and display the area. If they select 2, it should ask for the base and\n",
        "# height of the triangle and display the area. If they type in anything else,\n",
        "# it should give them a suitable error message.\n",
        "print('1) Square')\n",
        "print('2) Triangle')\n",
        "print()      \n",
        "no = int(input('Enter a number :'))\n",
        "\n",
        "if no == 1:\n",
        "  side = int(input('Enter the length of one side : '))\n",
        "  area = side * side\n",
        "  print('The area of your chosen shape is', area)\n",
        "elif no == 2:\n",
        "  base = int(input('Enter the length of the base : '))\n",
        "  height = int(input('Enter the height of the triangle : '))\n",
        "  area = (base * height) / 2\n",
        "  print('The area of your chosen shape is', area)\n",
        "else:\n",
        "  print('Incorrent option selected')"
      ],
      "metadata": {
        "colab": {
          "base_uri": "https://localhost:8080/"
        },
        "id": "zbYLaAiWNi2e",
        "outputId": "633d2024-f60d-465b-b44a-40a0853189e9"
      },
      "execution_count": 22,
      "outputs": [
        {
          "output_type": "stream",
          "name": "stdout",
          "text": [
            "1) Square\n",
            "2) Triangle\n",
            "\n",
            "Enter a number :1\n",
            "Enter the length of one side : 2\n",
            "The area of your chosen shape is 4\n"
          ]
        }
      ]
    },
    {
      "cell_type": "code",
      "source": [
        "#########################################\n",
        "# For\n",
        "#########################################\n",
        "\n",
        "# The range function is often used in for loops and lists the starting number,\n",
        "# the ending number and can also include the steps\n",
        "\n",
        "# for i in range(start, stop, step)\n",
        "\n",
        "for i in range(0,5):\n",
        "  print(i)"
      ],
      "metadata": {
        "colab": {
          "base_uri": "https://localhost:8080/"
        },
        "id": "NGXPj5f3Nizy",
        "outputId": "21390df5-e732-4409-d8a2-52bce72468da"
      },
      "execution_count": 23,
      "outputs": [
        {
          "output_type": "stream",
          "name": "stdout",
          "text": [
            "0\n",
            "1\n",
            "2\n",
            "3\n",
            "4\n"
          ]
        }
      ]
    },
    {
      "cell_type": "code",
      "source": [
        "for i in range(0,5,1):\n",
        "  print(i)"
      ],
      "metadata": {
        "colab": {
          "base_uri": "https://localhost:8080/"
        },
        "id": "XDg51FqQNix-",
        "outputId": "e3ba14fe-4863-464d-dfe8-3f721d912816"
      },
      "execution_count": 25,
      "outputs": [
        {
          "output_type": "stream",
          "name": "stdout",
          "text": [
            "0\n",
            "1\n",
            "2\n",
            "3\n",
            "4\n"
          ]
        }
      ]
    },
    {
      "cell_type": "code",
      "source": [
        "for i in range(5):\n",
        "  print(i)"
      ],
      "metadata": {
        "colab": {
          "base_uri": "https://localhost:8080/"
        },
        "id": "d0CXWQmdNivZ",
        "outputId": "30a520e0-4e5c-4eb0-9ab2-30c9cc2e6a54"
      },
      "execution_count": 26,
      "outputs": [
        {
          "output_type": "stream",
          "name": "stdout",
          "text": [
            "0\n",
            "1\n",
            "2\n",
            "3\n",
            "4\n"
          ]
        }
      ]
    },
    {
      "cell_type": "code",
      "source": [
        "for i in range(10,1,-3):\n",
        "  print(i)"
      ],
      "metadata": {
        "colab": {
          "base_uri": "https://localhost:8080/"
        },
        "id": "Q3JsnwZIPJxR",
        "outputId": "1564d861-9867-459d-d02a-3a0be05dcae8"
      },
      "execution_count": 31,
      "outputs": [
        {
          "output_type": "stream",
          "name": "stdout",
          "text": [
            "10\n",
            "7\n",
            "4\n"
          ]
        }
      ]
    },
    {
      "cell_type": "code",
      "source": [
        "no = [0,1,2,3,4]\n",
        "\n",
        "for i in no:\n",
        "  print(i)"
      ],
      "metadata": {
        "colab": {
          "base_uri": "https://localhost:8080/"
        },
        "id": "e0kTRKzNRyY5",
        "outputId": "37e9f8cf-2845-4071-837c-06c158fe9dde"
      },
      "execution_count": 33,
      "outputs": [
        {
          "output_type": "stream",
          "name": "stdout",
          "text": [
            "0\n",
            "1\n",
            "2\n",
            "3\n",
            "4\n"
          ]
        }
      ]
    },
    {
      "cell_type": "code",
      "source": [
        "# Ask the user to enter their name and then display their name three times.\n",
        "\n",
        "# Alter program, so that it will ask the user to enter their name and a number\n",
        "# and then display their name that number of times.\n",
        "\n",
        "name = input('your name??? >>')\n",
        "no = int(input('how many??? >>'))\n",
        "for i in range(no):\n",
        "  print(name)\n"
      ],
      "metadata": {
        "colab": {
          "base_uri": "https://localhost:8080/"
        },
        "id": "aUJrMBUZRyWf",
        "outputId": "4d4ddb73-14e0-4a12-9775-f664e2d91f77"
      },
      "execution_count": 36,
      "outputs": [
        {
          "output_type": "stream",
          "name": "stdout",
          "text": [
            "your name??? >>ohgangrae\n",
            "how many??? >>6\n",
            "ohgangrae\n",
            "ohgangrae\n",
            "ohgangrae\n",
            "ohgangrae\n",
            "ohgangrae\n",
            "ohgangrae\n"
          ]
        }
      ]
    },
    {
      "cell_type": "code",
      "source": [
        "# Ask the user to enter their name and \n",
        "# display each letter in their name on a separate line.\n",
        "\n",
        "name = input('Your name??? >>>')\n",
        "\n",
        "for i in name:\n",
        "  print(i)"
      ],
      "metadata": {
        "colab": {
          "base_uri": "https://localhost:8080/"
        },
        "id": "23WNt2KaRyUH",
        "outputId": "3f4048c6-b4e6-475e-9f5f-68f3c7cfac86"
      },
      "execution_count": 41,
      "outputs": [
        {
          "output_type": "stream",
          "name": "stdout",
          "text": [
            "Your name??? >>>ohgangrae\n",
            "o\n",
            "h\n",
            "g\n",
            "a\n",
            "n\n",
            "g\n",
            "r\n",
            "a\n",
            "e\n"
          ]
        }
      ]
    },
    {
      "cell_type": "code",
      "source": [
        "# Ask for a number below 50 and then count down from 50 to that number,\n",
        "# making sure you show the number they entered in the output.\n",
        "\n",
        "# 50 미만의 수를 입력 받아 50 부터 (거꾸로) 카운 다운하면서 숫자를 출력한다. \n",
        "# 입력한 숫자까지 출력하자\n",
        "\n",
        "\n",
        "num = int(input(\"Enter num (not over 50) \"))\n",
        "for i in range(50,num-1,-1):\n",
        "    print(i)\n",
        "print('you entered',num)\n"
      ],
      "metadata": {
        "colab": {
          "base_uri": "https://localhost:8080/"
        },
        "id": "mJYPmBDrRyRQ",
        "outputId": "e41aab68-33f2-4da3-c846-dbbf1049bac6"
      },
      "execution_count": 48,
      "outputs": [
        {
          "output_type": "stream",
          "name": "stdout",
          "text": [
            "Enter num (not over 50) 40\n",
            "50\n",
            "49\n",
            "48\n",
            "47\n",
            "46\n",
            "45\n",
            "44\n",
            "43\n",
            "42\n",
            "41\n",
            "40\n",
            "you entered 40\n"
          ]
        }
      ]
    },
    {
      "cell_type": "code",
      "source": [
        "# Set a variable called total to 0. Ask the user to enter five numbers and after each \n",
        "# input ask them if they want that number included. \n",
        "# If they do, then add the number to the total.\n",
        "# After they have entered all five numbers, display the total.\n",
        "\n",
        "# total 변수에 0을 설정하세요\n",
        "# 5번 숫자를 입력하라고 반복 요청하고 숫자를 입력할때마다 \n",
        "# 입력한 값을 total 에 더할 것인지 묻는다. 더하길 원하는 답을 하면 total 에 더하고 \n",
        "# 아니면 더하지는 않는다. 5번 숫자를 입력하면 total  출력한다. \n",
        "\n",
        "total = 0\n",
        "for i in range(5):\n",
        "  num = int(input('Enter a number ; '))\n",
        "  ans = input('Do you want this number included? (y/n)')\n",
        "  if ans == 'y':\n",
        "    total = total + num\n",
        "    \n",
        "print(total)"
      ],
      "metadata": {
        "colab": {
          "base_uri": "https://localhost:8080/"
        },
        "id": "TLXhpH8ORyOi",
        "outputId": "56a8b874-ddaa-4d41-d8fd-a6f94c6518a0"
      },
      "execution_count": 52,
      "outputs": [
        {
          "output_type": "stream",
          "name": "stdout",
          "text": [
            "Enter a number ; 1\n",
            "Do you want this number included? (y/n)y\n",
            "Enter a number ; 2\n",
            "Do you want this number included? (y/n)y\n",
            "Enter a number ; 3\n",
            "Do you want this number included? (y/n)n\n",
            "Enter a number ; 4\n",
            "Do you want this number included? (y/n)n\n",
            "Enter a number ; 5\n",
            "Do you want this number included? (y/n)y\n",
            "8\n"
          ]
        }
      ]
    },
    {
      "cell_type": "code",
      "source": [
        "# Ask which direction the user wants to count (up or down).\n",
        "# If they select up, then ask them for the top number and then count from 1 to that number.  \n",
        "# If they select down, ask them to enter a number below 20 and then count down from 20\n",
        "# to that number. If they entered something other than up or down,\n",
        "# display the message 'i dont understand'.\n",
        "\n",
        "# 사용자가 원하는 카운트 방향(위로 또는 아래로)을 묻고\n",
        "# 만약 up을 선택하면,큰 수를 묻고 1부터 그 수까지 출력한다.\n",
        "# 만약 down을 선택하면 20미만의 수를 묻고 20부터 그 수까지를 출력한다. \n",
        "# 업 또는 다운이 아닌 것을 선택하면 'i dont understand'. 를 출력한다. \n",
        "\n",
        "direction = input('Do you wnat to count up or down? (u/d)')\n",
        "\n",
        "if direction == 'u':\n",
        "  num = int(input('What is the top number ? \" '))\n",
        "  for i in range(1, num+1):\n",
        "    print(i)\n",
        "elif direction == 'd':\n",
        "  num = int(input('Enter a number below 20 : '))\n",
        "  for i in range(20, num -1, -1):\n",
        "    print(i)\n",
        "else:\n",
        "  print(\"I don't understand\")\n"
      ],
      "metadata": {
        "colab": {
          "base_uri": "https://localhost:8080/"
        },
        "id": "7Yo4Wp72SLrG",
        "outputId": "7a077b43-966a-4995-f4a0-6e4738a240c4"
      },
      "execution_count": 58,
      "outputs": [
        {
          "output_type": "stream",
          "name": "stdout",
          "text": [
            "Do you wnat to count up or down? (u/d)d\n",
            "Enter a number below 20 : 10\n",
            "20\n",
            "19\n",
            "18\n",
            "17\n",
            "16\n",
            "15\n",
            "14\n",
            "13\n",
            "12\n",
            "11\n",
            "10\n"
          ]
        }
      ]
    },
    {
      "cell_type": "code",
      "source": [
        "# Ask how many people the user wants to invite to a party.\n",
        "# If they enter a number below 10, ask for the names and after each name display\n",
        "# '[name] has been invited'. \n",
        "# If they enter a number which is 10 or higher, display the message 'Too many people'\n",
        "\n",
        "# 파티에 몇 명을 초대할지 묻자.\n",
        "# 만약 10 미만으로 입력하면 그 숫자 만큼 이름을 묻고  '[name] has been invited'.를 출력한다.\n",
        "# 만약 10 이상으로 입력하면 'Too many people' 을 출력한다. \n",
        "\n",
        "no = int(input('How many ??? '))\n",
        "\n",
        "if no < 10:\n",
        "  for i in range(no):\n",
        "    name = input('Name ??? ')\n",
        "    print(name, ' has been invited')\n",
        "else:\n",
        "  print('Too many people')"
      ],
      "metadata": {
        "colab": {
          "base_uri": "https://localhost:8080/"
        },
        "id": "n5d5vc8QSLm9",
        "outputId": "a07a5b63-507c-41ad-c0e7-27afb451a260"
      },
      "execution_count": 64,
      "outputs": [
        {
          "output_type": "stream",
          "name": "stdout",
          "text": [
            "How many ??? 3\n",
            "Name ??? jon\n",
            "jon  has been invited\n",
            "Name ??? oh\n",
            "oh  has been invited\n",
            "Name ??? kim\n",
            "kim  has been invited\n"
          ]
        }
      ]
    },
    {
      "cell_type": "code",
      "source": [
        "###############################################\n",
        "# While\n",
        "\n",
        "# A while loop allows code to be repeted an unknown number of times \n",
        "# as long as a condition is being met.\n",
        "# This may be 100 times, just the once or even never\n",
        "# It is important, therefore, to make sure the correct conditions are in place\n",
        "# to run the loop before it starts.\n",
        "\n",
        "\n",
        "total = 0\n",
        "\n",
        "while total < 100:\n",
        "  num = int(input('Enter a number : '))\n",
        "  total = total + num\n",
        "print('The total is ', total)"
      ],
      "metadata": {
        "colab": {
          "base_uri": "https://localhost:8080/"
        },
        "id": "aa1oqbAaXEla",
        "outputId": "9eebe88b-ad97-404d-a5a5-7c51a2030e01"
      },
      "execution_count": 65,
      "outputs": [
        {
          "output_type": "stream",
          "name": "stdout",
          "text": [
            "Enter a number : 99\n",
            "Enter a number : 3\n",
            "The total is  102\n"
          ]
        }
      ]
    },
    {
      "cell_type": "code",
      "source": [
        "# Set the total to 0 to start with. While the total is 50 or less,\n",
        "# ask the user to input a number. Add that number to the total and \n",
        "# print the message 'The total is....[total]. \n",
        "# Stop the loop when the total is over 50. \n",
        "\n",
        "total = 0\n",
        "\n",
        "while total <= 50:\n",
        "  no = int(input('number ? >>>'))\n",
        "  total += no\n",
        "\n",
        "print('The total is....', total-no) "
      ],
      "metadata": {
        "colab": {
          "base_uri": "https://localhost:8080/"
        },
        "id": "fWBcvIcCXEjg",
        "outputId": "6462f9ed-ec06-49b0-bf32-e9008bacfebf"
      },
      "execution_count": 68,
      "outputs": [
        {
          "output_type": "stream",
          "name": "stdout",
          "text": [
            "number ? >>>34\n",
            "number ? >>>2\n",
            "number ? >>>13\n",
            "number ? >>>23\n",
            "The total is.... 49\n"
          ]
        }
      ]
    }
  ]
}