{
  "nbformat": 4,
  "nbformat_minor": 0,
  "metadata": {
    "colab": {
      "name": "Day2.ipynb",
      "provenance": [],
      "collapsed_sections": [],
      "authorship_tag": "ABX9TyPsnawdHzO5klsLUdoimG7x",
      "include_colab_link": true
    },
    "kernelspec": {
      "name": "python3",
      "display_name": "Python 3"
    },
    "language_info": {
      "name": "python"
    }
  },
  "cells": [
    {
      "cell_type": "markdown",
      "metadata": {
        "id": "view-in-github",
        "colab_type": "text"
      },
      "source": [
        "<a href=\"https://colab.research.google.com/github/Ohgangrae/ai/blob/main/Day2.ipynb\" target=\"_parent\"><img src=\"https://colab.research.google.com/assets/colab-badge.svg\" alt=\"Open In Colab\"/></a>"
      ]
    },
    {
      "cell_type": "code",
      "execution_count": 1,
      "metadata": {
        "colab": {
          "base_uri": "https://localhost:8080/"
        },
        "id": "K3OJ4pbWtxqJ",
        "outputId": "a18904fd-02ec-4471-dff9-a4714025f67a"
      },
      "outputs": [
        {
          "output_type": "stream",
          "name": "stdout",
          "text": [
            "Hello World\n"
          ]
        }
      ],
      "source": [
        "# Review\n",
        "\n",
        "# Comment 주석 - 코드에 대한 설명, 컴퓨터는 읽지 않고 사람만 읽는 내용\n",
        "# 다른 용법으로는 코드를 임시로 실행하지 않고 감추고 에러를 확인하는 용도로도 쓰인다.\n",
        "# 본인이 기록한 내용을 나중에 확인할 때 또는 다른 팀원이 작성한 내용을 파악하기 용이하게 만든다.\n",
        "\n",
        "#전체 드래그 해서 (ctrl + /) (전체 주석 하기)\n",
        "\n",
        "# doc string (주석의 용도로도 쓰이는..)\n",
        "'''\n",
        "작성일 : 2022/01/26\n",
        "담당자 : 홍길동\n",
        "비고 : abcde@naver.com\n",
        "'''\n",
        "\n",
        "\"\"\"\n",
        "작성일 : 2022/01/26\n",
        "담당자 : 홍길동\n",
        "비고 : abcde@naver.com\n",
        "\"\"\"\n",
        "print('Hello World') # 코드의 우측 또는 코드의 윗줄에 적는다.\n"
      ]
    },
    {
      "cell_type": "code",
      "source": [
        "# 변수 Variable\n",
        "# 어떤 값을 저장하는 저장소 (a- 짜리 설명)\n",
        "a = 100\n",
        "print(a)\n",
        "\n",
        "stumath = 350\n",
        "stu_math_sum = 350 # 스네이크 케이스(단어 후 _ 하는 케이스) snake_case\n",
        "StuMathSum = 350 # 캐멀 케이스 CamelCase"
      ],
      "metadata": {
        "colab": {
          "base_uri": "https://localhost:8080/"
        },
        "id": "dpXSNUGFw_Xk",
        "outputId": "f74eb3ca-d9c1-41de-a087-3796a278a943"
      },
      "execution_count": 2,
      "outputs": [
        {
          "output_type": "stream",
          "name": "stdout",
          "text": [
            "100\n"
          ]
        }
      ]
    },
    {
      "cell_type": "code",
      "source": [
        "# 1a = 100 숫자가 먼저 올 수 없다.\n",
        "a1 = 100"
      ],
      "metadata": {
        "id": "bJ5Pi878y0zJ"
      },
      "execution_count": 3,
      "outputs": []
    },
    {
      "cell_type": "code",
      "source": [
        "# _a = 100  (가능)\n"
      ],
      "metadata": {
        "id": "qDGcWgK0zA7-"
      },
      "execution_count": 4,
      "outputs": []
    },
    {
      "cell_type": "code",
      "source": [
        "홍길도 = 55\n",
        "# 한글 변수명 사용이 가능하지만 쓰지 말자"
      ],
      "metadata": {
        "id": "HCWZfpa7zSzh"
      },
      "execution_count": 5,
      "outputs": []
    },
    {
      "cell_type": "code",
      "source": [
        "# 인덱싱 (슬라이싱)\n",
        "\n",
        "s = 'world'\n",
        "print(s[2]) # 파이썬은 인덱스 시작이 '0' 이다.\n",
        "print(s[-1]) # -1은 마지막 인덱스를 가리킨다.\n",
        "print(s[4])\n",
        "\n",
        "ss = '900101-2547389' # 성별을 알 수 있다.\n",
        "print(ss[7])          # 하나만 추출할때는   indexing\n",
        "addr = '서울시 강남구 역삼동 1번지' # 여러개를 추출 할때는 slicing\n",
        "print(addr[4:7])                    # 4이상 7미만, 띄어쓰기도 숫자에 포함"
      ],
      "metadata": {
        "colab": {
          "base_uri": "https://localhost:8080/"
        },
        "id": "hX8OaIKIzbXe",
        "outputId": "5aa80a73-52de-4618-97a0-0aa2ae561ad6"
      },
      "execution_count": 6,
      "outputs": [
        {
          "output_type": "stream",
          "name": "stdout",
          "text": [
            "r\n",
            "d\n",
            "d\n",
            "2\n",
            "강남구\n"
          ]
        }
      ]
    },
    {
      "cell_type": "code",
      "source": [
        "# print()\n",
        "print('좋은 아침입니다.')"
      ],
      "metadata": {
        "colab": {
          "base_uri": "https://localhost:8080/"
        },
        "id": "GBox6-4a1Xuo",
        "outputId": "97959aa0-124e-4df8-d139-349a826c7776"
      },
      "execution_count": 7,
      "outputs": [
        {
          "output_type": "stream",
          "name": "stdout",
          "text": [
            "좋은 아침입니다.\n"
          ]
        }
      ]
    },
    {
      "cell_type": "code",
      "source": [
        "when = '아침'\n",
        "print('좋은',when,'입니다.')\n",
        "print('좋은 %s입니다.' % when)\n",
        "print('좋은 {}입니다.'.format(when))\n",
        "print(f'좋은 {when}입니다.') # *****"
      ],
      "metadata": {
        "colab": {
          "base_uri": "https://localhost:8080/"
        },
        "id": "hoHQ-3yi1t4h",
        "outputId": "2903e769-395b-4752-9a66-bea799c2156c"
      },
      "execution_count": 8,
      "outputs": [
        {
          "output_type": "stream",
          "name": "stdout",
          "text": [
            "좋은 아침 입니다.\n",
            "좋은 아침입니다.\n",
            "좋은 아침입니다.\n",
            "좋은 아침입니다.\n"
          ]
        }
      ]
    },
    {
      "cell_type": "code",
      "source": [
        ""
      ],
      "metadata": {
        "id": "1Mh9CEx519kv"
      },
      "execution_count": 8,
      "outputs": []
    },
    {
      "cell_type": "code",
      "source": [
        "######################################################\n",
        "# 리스트  List,  튜플  Tuple, 딕셔너리  Dict,  셋  Set\n",
        "######################################################\n",
        "# 여러개의 값을 한번에 저장하는 자료형이 필요하다.\n",
        "\n",
        "\n",
        "# 리스트 List   (가장 많이 쓰임)\n",
        "# 지금까지 사용한 숫자 1, 문자1 등 개별적, 독립적인 자료가 아닌\n",
        "# 리스트는 이러한 자료들 여러개를 모아서 사용할 수 있게 해준다.\n",
        "# 리스트에 넣는 자료를 요소 element 라고한다.\n",
        "\n",
        "# 리스트는 []로 구성한다.\n",
        "list = [1,2,3,4,5]\n",
        "print(list)\n",
        "# 리스트는 다양한 자료형의 데이터를 한번에 담을 수 있다.\n",
        "# (but, 하나의 리스트에는 한가지 자료형만 저장하는 것이 오히려 바람직하다.)\n",
        "list = [1,2,3,'대한','민국', True, False]\n",
        "print(list)\n",
        "score = [80,90,70,60]\n",
        "print(score)\n",
        "# 리스트는 인덱싱indexing(1개 뽑는 것) 과 슬라이싱 slicing(여러개 뽑는것) 이 가능하다.\n",
        "print(score[0])   # 파이썬은 0부터 시작한다.\n",
        "print(score[0:2]) # 슬라이싱은 0부터 2미만... 처럼      끝은 미만을 나타낸다.\n",
        "\n",
        "# 리스트는 수정/삭제 가 가능하다. (mutable, 튜플은 immutable)\n",
        "score[0] = 100\n",
        "print(score)\n",
        "score[-1] = 100\n",
        "print(score)\n",
        "#score[4] # indexerror 아주 접하게 될 에러(예외)\n",
        "\n",
        "# 리스트는 연산이 가능하다.\n",
        "list_a = [1,2,3]\n",
        "list_b = [4,5,6]\n",
        "\n",
        "print('list_a = ', list_a)\n",
        "print('list_b = ', list_b)\n",
        "print(list_a + list_b)\n",
        "print(list_a * 3)\n",
        "print(len(list_a))  #(lenth 길이) 갯수를 세는..\n"
      ],
      "metadata": {
        "colab": {
          "base_uri": "https://localhost:8080/"
        },
        "id": "4LQJHv95-CVU",
        "outputId": "0355d792-5941-40b7-f884-109d4ffc64d0"
      },
      "execution_count": 9,
      "outputs": [
        {
          "output_type": "stream",
          "name": "stdout",
          "text": [
            "[1, 2, 3, 4, 5]\n",
            "[1, 2, 3, '대한', '민국', True, False]\n",
            "[80, 90, 70, 60]\n",
            "80\n",
            "[80, 90]\n",
            "[100, 90, 70, 60]\n",
            "[100, 90, 70, 100]\n",
            "list_a =  [1, 2, 3]\n",
            "list_b =  [4, 5, 6]\n",
            "[1, 2, 3, 4, 5, 6]\n",
            "[1, 2, 3, 1, 2, 3, 1, 2, 3]\n",
            "3\n"
          ]
        }
      ]
    },
    {
      "cell_type": "code",
      "source": [
        "# 리스트에 많이 사용되는 함수들...\n",
        "# append() 리스트에 요소를 추가할 때 사용, 끝에만 추가\n",
        "\n",
        "print(score)\n",
        "score.append(60)\n",
        "print(score)\n",
        "score.append(70)\n",
        "print(score)"
      ],
      "metadata": {
        "colab": {
          "base_uri": "https://localhost:8080/"
        },
        "id": "KrC66tTzJTLo",
        "outputId": "92cb77d1-2918-418d-b54e-88af9cecfd90"
      },
      "execution_count": 10,
      "outputs": [
        {
          "output_type": "stream",
          "name": "stdout",
          "text": [
            "[100, 90, 70, 100]\n",
            "[100, 90, 70, 100, 60]\n",
            "[100, 90, 70, 100, 60, 70]\n"
          ]
        }
      ]
    },
    {
      "cell_type": "code",
      "source": [
        "# insert() 리스트에 요소를 추가할 때 사용, 특정 위치를 지정하여 추가\n",
        "\n",
        "list = []\n",
        "list.insert(0, 10)\n",
        "print(list)\n",
        "\n",
        "list.insert(1, 50)\n",
        "print(list)"
      ],
      "metadata": {
        "colab": {
          "base_uri": "https://localhost:8080/"
        },
        "id": "SSSmCa-lJsjM",
        "outputId": "8e0bfad3-a957-4a52-8e67-e4f7fae432bd"
      },
      "execution_count": 11,
      "outputs": [
        {
          "output_type": "stream",
          "name": "stdout",
          "text": [
            "[10]\n",
            "[10, 50]\n"
          ]
        }
      ]
    },
    {
      "cell_type": "code",
      "source": [
        "list_a = [1,2,3]\n",
        "list_a.extend([4,5,6])\n",
        "list_a  # 파괴적 처리"
      ],
      "metadata": {
        "colab": {
          "base_uri": "https://localhost:8080/"
        },
        "id": "5wl99i4LKaAX",
        "outputId": "125474b5-cfca-4bfb-e394-96033b545770"
      },
      "execution_count": 12,
      "outputs": [
        {
          "output_type": "execute_result",
          "data": {
            "text/plain": [
              "[1, 2, 3, 4, 5, 6]"
            ]
          },
          "metadata": {},
          "execution_count": 12
        }
      ]
    },
    {
      "cell_type": "code",
      "source": [
        "list_a = [1,2,3]\n",
        "list_b = [4,5,6]\n",
        "print(list_a + list_b)\n",
        "print(list_a) # 비파괴적 처리\n",
        "\n",
        "# 리스트 연결만으로는 list_a에 어떠한 영향도 주지 않는다. (비파괴적 처리)\n",
        "# 하지만 extend()를 사용하면 list_a에 직접적으로 영향을 주게된다. (파괴적 처리)\n",
        "\n",
        "# 기본적으로 자료를 사용할 때는 비파괴적으로 사용하는 것이 바람직하다.\n",
        "# 가능하면 원본 데이터는 그대로 유지하고 사용하는 것이 선택지가 더 넓다."
      ],
      "metadata": {
        "colab": {
          "base_uri": "https://localhost:8080/"
        },
        "id": "oNm-mwyzKnnA",
        "outputId": "51bc831d-77ff-48bf-9e69-6f64a11f09f0"
      },
      "execution_count": 13,
      "outputs": [
        {
          "output_type": "stream",
          "name": "stdout",
          "text": [
            "[1, 2, 3, 4, 5, 6]\n",
            "[1, 2, 3]\n"
          ]
        }
      ]
    },
    {
      "cell_type": "code",
      "source": [
        "# del() 리스트에서 데이터 삭제\n",
        "\n",
        "list_a = [0,1,2,3,4,5]\n",
        "del list_a[1] # index 값으로 위치값을 삭제\n",
        "print(list_a)\n",
        "\n",
        "del list_a[1:3] # 1부터 3미만 즉 2까지\n",
        "print(list_a)\n",
        "\n",
        "del list_a[:]  #  생략하면 처음 : 생략하면 끝\n",
        "print(list_a)\n",
        "\n",
        "# list_a.clear() 리스트 요소를 전부 한번에 삭제"
      ],
      "metadata": {
        "colab": {
          "base_uri": "https://localhost:8080/"
        },
        "id": "hioK9bftLa7R",
        "outputId": "aa1cab15-ccdf-4bc3-9c53-338709f0d5ba"
      },
      "execution_count": 14,
      "outputs": [
        {
          "output_type": "stream",
          "name": "stdout",
          "text": [
            "[0, 2, 3, 4, 5]\n",
            "[0, 4, 5]\n",
            "[]\n"
          ]
        }
      ]
    },
    {
      "cell_type": "code",
      "source": [
        "# pop() 리스트에서 마지막 위치 데이터 삭제\n",
        "# list_a.pop()\n",
        "\n",
        "# list_a\n"
      ],
      "metadata": {
        "id": "A0HN7vWNNEYo"
      },
      "execution_count": 15,
      "outputs": []
    },
    {
      "cell_type": "code",
      "source": [
        "# list_a.pop(1)\n",
        "# list_a"
      ],
      "metadata": {
        "id": "3Jo43hB2O0TJ"
      },
      "execution_count": 16,
      "outputs": []
    },
    {
      "cell_type": "code",
      "source": [
        "# remove 값으로 삭제 \n",
        "\n",
        "list_c = [1,2,1,2]\n",
        "list_c.remove(2) # remove 는 요소의 값을 찾아 삭제한다. \n",
        "                 # 동일한 값이 여러개 있을때는 하나씩 순차적으로 삭제한다. \n",
        "                 # 리스트에서 중복된 여러개의 값을 제거하려면 반복문을 사용한다. \n",
        "print(list_c)\n",
        "list_c.remove(2)\n",
        "print(list_c)"
      ],
      "metadata": {
        "colab": {
          "base_uri": "https://localhost:8080/"
        },
        "id": "op4cyreAPH5-",
        "outputId": "0eafe17e-2c8d-499d-8040-d442c5e9275e"
      },
      "execution_count": 17,
      "outputs": [
        {
          "output_type": "stream",
          "name": "stdout",
          "text": [
            "[1, 1, 2]\n",
            "[1, 1]\n"
          ]
        }
      ]
    },
    {
      "cell_type": "code",
      "source": [
        "list = [1,2,3,4,5]\n",
        "print(list[0])  # indexing 비파괴적으로 동작한다. \n",
        "print(list)\n",
        "\n",
        "print(list.pop()) #pop은 파괴적으로 동작한다.\n",
        "print(list)"
      ],
      "metadata": {
        "colab": {
          "base_uri": "https://localhost:8080/"
        },
        "id": "zuodkMUPP6bI",
        "outputId": "9d82a0f5-26ba-42e3-b3cd-6a2b0cedea0c"
      },
      "execution_count": 18,
      "outputs": [
        {
          "output_type": "stream",
          "name": "stdout",
          "text": [
            "1\n",
            "[1, 2, 3, 4, 5]\n",
            "5\n",
            "[1, 2, 3, 4]\n"
          ]
        }
      ]
    },
    {
      "cell_type": "code",
      "source": [
        "# in / not in 리스트에 존재하는 요소인지를 확인\n",
        "\n",
        "list = [222,434,65,123,547,876]\n",
        "print(222 in list)\n",
        "print(221 in list)\n",
        "print(221 not in list)\n"
      ],
      "metadata": {
        "colab": {
          "base_uri": "https://localhost:8080/"
        },
        "id": "PnnYtHeAQaH-",
        "outputId": "b00ec03b-ef20-49ae-b3c7-32073182bdb2"
      },
      "execution_count": 19,
      "outputs": [
        {
          "output_type": "stream",
          "name": "stdout",
          "text": [
            "True\n",
            "False\n",
            "True\n"
          ]
        }
      ]
    },
    {
      "cell_type": "code",
      "source": [
        "# 딕셔너리 (java의 map, JS 의 json 과 유사한 자료구조)\n",
        "# 리스트가 인덱스를 기반으로 값을 저장한다면 딕셔너리는 키값을 기반으로 값을 저장한다.\n",
        "\n",
        "# {}를 사용하여 데이터들을 저장한다.\n",
        "# 삽입/삭제 가 가능하다. mutable\n",
        "# 순서가 없으므로 인덱싱과 슬라이싱이 불가능하다.\n",
        "\n",
        "dict = {\n",
        "    \"name\": \"엔드 게임\",\n",
        "    \"no\":1,\n",
        "    \"type\": \"히어로 무비\",\n",
        "    \"price\": 10000\n",
        "}\n",
        "print(dict)\n",
        "dict['name']"
      ],
      "metadata": {
        "colab": {
          "base_uri": "https://localhost:8080/",
          "height": 54
        },
        "id": "eGe-o1DTRk0k",
        "outputId": "9c9239df-ca8d-4996-dcc0-e9db41258034"
      },
      "execution_count": 20,
      "outputs": [
        {
          "output_type": "stream",
          "name": "stdout",
          "text": [
            "{'name': '엔드 게임', 'no': 1, 'type': '히어로 무비', 'price': 10000}\n"
          ]
        },
        {
          "output_type": "execute_result",
          "data": {
            "application/vnd.google.colaboratory.intrinsic+json": {
              "type": "string"
            },
            "text/plain": [
              "'엔드 게임'"
            ]
          },
          "metadata": {},
          "execution_count": 20
        }
      ]
    },
    {
      "cell_type": "code",
      "source": [
        "dict = {\n",
        "    \"감독\":[\"안소니\",\"루소\"],\n",
        "    \"배우\":[\"타노스\",\"토르\",\"헐크\"]\n",
        "}\n",
        "dict[\"감독\"]"
      ],
      "metadata": {
        "colab": {
          "base_uri": "https://localhost:8080/"
        },
        "id": "4iC1FDasmjUb",
        "outputId": "94fa07b0-0264-4c6d-f935-ac705540c620"
      },
      "execution_count": 21,
      "outputs": [
        {
          "output_type": "execute_result",
          "data": {
            "text/plain": [
              "['안소니', '루소']"
            ]
          },
          "metadata": {},
          "execution_count": 21
        }
      ]
    },
    {
      "cell_type": "code",
      "source": [
        "dict = {\n",
        "    'name':'건조 망고',\n",
        "    'type':'절임 과일',\n",
        "    'ingredient':['망고','설탕','색소'],\n",
        "    'origin':'필리핀'\n",
        "}\n",
        "\n",
        "print('name:', dict['name'])\n",
        "print('type:', dict['type'])\n",
        "print('ingredient:', dict['ingredient'])\n",
        "print('origin:', dict['origin'])"
      ],
      "metadata": {
        "colab": {
          "base_uri": "https://localhost:8080/"
        },
        "id": "d9tznettmljJ",
        "outputId": "28992b4c-9d55-4f9f-918c-3096eb085567"
      },
      "execution_count": 22,
      "outputs": [
        {
          "output_type": "stream",
          "name": "stdout",
          "text": [
            "name: 건조 망고\n",
            "type: 절임 과일\n",
            "ingredient: ['망고', '설탕', '색소']\n",
            "origin: 필리핀\n"
          ]
        }
      ]
    },
    {
      "cell_type": "code",
      "source": [
        "dict['name'] = '망고'\n",
        "print('name:', dict['name'])\n",
        "\n",
        "print(dict['ingredient'][0])\n",
        "\n",
        "dict['price'] = 5000\n",
        "\n",
        "print(dict)\n",
        "\n",
        "dict['price'] = 4000\n",
        "\n",
        "print(dict)\n",
        "\n",
        "del dict['price']\n",
        "print(dict)"
      ],
      "metadata": {
        "colab": {
          "base_uri": "https://localhost:8080/"
        },
        "id": "qI_99IzwnE_f",
        "outputId": "020dba1f-e27e-4887-daa4-2a7009796e92"
      },
      "execution_count": 23,
      "outputs": [
        {
          "output_type": "stream",
          "name": "stdout",
          "text": [
            "name: 망고\n",
            "망고\n",
            "{'name': '망고', 'type': '절임 과일', 'ingredient': ['망고', '설탕', '색소'], 'origin': '필리핀', 'price': 5000}\n",
            "{'name': '망고', 'type': '절임 과일', 'ingredient': ['망고', '설탕', '색소'], 'origin': '필리핀', 'price': 4000}\n",
            "{'name': '망고', 'type': '절임 과일', 'ingredient': ['망고', '설탕', '색소'], 'origin': '필리핀'}\n"
          ]
        }
      ]
    },
    {
      "cell_type": "code",
      "source": [
        "dict = {}\n",
        "\n",
        "dict['name'] = '새이름'\n",
        "dict['height'] = 185\n",
        "dict['weight'] = 75\n",
        "\n",
        "print(dict)\n",
        "del dict['weight']\n",
        "print(dict)\n"
      ],
      "metadata": {
        "colab": {
          "base_uri": "https://localhost:8080/"
        },
        "id": "LxC7PyQPojMt",
        "outputId": "d193b381-7635-4963-b955-26c0b4c04319"
      },
      "execution_count": 24,
      "outputs": [
        {
          "output_type": "stream",
          "name": "stdout",
          "text": [
            "{'name': '새이름', 'height': 185, 'weight': 75}\n",
            "{'name': '새이름', 'height': 185}\n"
          ]
        }
      ]
    },
    {
      "cell_type": "code",
      "source": [
        "# dict 자주 등장하는 에러(예외)\n",
        "\n",
        "# KeyError 리스트에서 없는 인덱스에 접근하려고 하면 IndexError 가 발생되는 것처럼\n",
        "#          딕에서도 존재하지 않는 키값을 사용하면 예외 또는 에러를 발생시킨다.\n",
        "dict = {\n",
        "    'name':'건조 망고',\n",
        "    'type':'절임 과일',\n",
        "    'ingredient':['망고','설탕','색소'],\n",
        "    'origin':'필리핀'\n",
        "}\n",
        "\n",
        "# del dict['nane']"
      ],
      "metadata": {
        "id": "HX-vN6WTpK8w"
      },
      "execution_count": 25,
      "outputs": []
    },
    {
      "cell_type": "code",
      "source": [
        "dict = {\n",
        "    'name':'건조 망고',\n",
        "    'type':'절임 과일',\n",
        "    'ingredient':['망고','설탕','색소'],\n",
        "    'origin':'필리핀'\n",
        "}\n",
        "\n",
        "key = input('>삭제를 원하는 데이터의 키값을 입력하세요 : ')\n",
        "\n",
        "if key in dict:\n",
        "  print(dict[key])\n",
        "else:\n",
        "  print('존재하지 않은 키에 접근하려고 합니다.')"
      ],
      "metadata": {
        "colab": {
          "base_uri": "https://localhost:8080/"
        },
        "id": "020R5YKCqJ33",
        "outputId": "fb52e94c-5532-4210-c467-80a918785f80"
      },
      "execution_count": 30,
      "outputs": [
        {
          "output_type": "stream",
          "name": "stdout",
          "text": [
            ">삭제를 원하는 데이터의 키값을 입력하세요 : 123\n",
            "존재하지 않은 키에 접근하려고 합니다.\n"
          ]
        }
      ]
    },
    {
      "cell_type": "code",
      "source": [
        "# 튜플 tuple \n",
        "# () 를 사용하여 작성한다. 튜플은 괄호를 생략할수 있다. \n",
        "# 리스트와 거의 대부분 유사하나, 튜플은 삽입,수정 등이 불가능하다 immutable\n",
        "# 튜플은 1개의 원소로 작성할 때는 ,를 삽입한다. (1,)  (1,2)    [1]\n",
        "# \n",
        "\n",
        "t = (1, 2)\n",
        "print(t)\n",
        "print(type(t))\n",
        "\n",
        "t2 = 3, 4\n",
        "print(t2)\n",
        "print(type(t2))\n",
        "\n",
        "t3 = (5)   # (5)  ==   5\n",
        "print(t3)\n",
        "print(type(3))\n",
        "\n",
        "t4 = 5\n",
        "print(t4)\n",
        "print(type(t4))\n",
        "\n",
        "t5 = (5,)\n",
        "print(t5)\n",
        "print(type(t5))"
      ],
      "metadata": {
        "colab": {
          "base_uri": "https://localhost:8080/"
        },
        "id": "lCVOI65Vtumj",
        "outputId": "5dfff09a-b5bb-4378-ac00-5cc5de391b86"
      },
      "execution_count": 29,
      "outputs": [
        {
          "output_type": "stream",
          "name": "stdout",
          "text": [
            "(1, 2)\n",
            "<class 'tuple'>\n",
            "(3, 4)\n",
            "<class 'tuple'>\n",
            "5\n",
            "<class 'int'>\n",
            "5\n",
            "<class 'int'>\n",
            "(5,)\n",
            "<class 'tuple'>\n"
          ]
        }
      ]
    },
    {
      "cell_type": "code",
      "source": [
        "t = (1,2,3,4,5)\n",
        "# t[0] = 8  튜플은 수정이 불가능하다. immutable\n",
        "del t[0] # 튜플은 삭제가 불가능하다. immutable"
      ],
      "metadata": {
        "colab": {
          "base_uri": "https://localhost:8080/",
          "height": 211
        },
        "id": "tgfLMF8jzGn9",
        "outputId": "e43c41eb-13f5-4a50-eff7-decad3716dbc"
      },
      "execution_count": 31,
      "outputs": [
        {
          "output_type": "error",
          "ename": "TypeError",
          "evalue": "ignored",
          "traceback": [
            "\u001b[0;31m---------------------------------------------------------------------------\u001b[0m",
            "\u001b[0;31mTypeError\u001b[0m                                 Traceback (most recent call last)",
            "\u001b[0;32m<ipython-input-31-1eb5e39569ac>\u001b[0m in \u001b[0;36m<module>\u001b[0;34m()\u001b[0m\n\u001b[1;32m      1\u001b[0m \u001b[0mt\u001b[0m \u001b[0;34m=\u001b[0m \u001b[0;34m(\u001b[0m\u001b[0;36m1\u001b[0m\u001b[0;34m,\u001b[0m\u001b[0;36m2\u001b[0m\u001b[0;34m,\u001b[0m\u001b[0;36m3\u001b[0m\u001b[0;34m,\u001b[0m\u001b[0;36m4\u001b[0m\u001b[0;34m,\u001b[0m\u001b[0;36m5\u001b[0m\u001b[0;34m)\u001b[0m\u001b[0;34m\u001b[0m\u001b[0;34m\u001b[0m\u001b[0m\n\u001b[1;32m      2\u001b[0m \u001b[0;31m# t[0] = 8  튜플은 수정이 불가능하다. immutable\u001b[0m\u001b[0;34m\u001b[0m\u001b[0;34m\u001b[0m\u001b[0;34m\u001b[0m\u001b[0m\n\u001b[0;32m----> 3\u001b[0;31m \u001b[0;32mdel\u001b[0m \u001b[0mt\u001b[0m\u001b[0;34m[\u001b[0m\u001b[0;36m0\u001b[0m\u001b[0;34m]\u001b[0m \u001b[0;31m# 튜플은 삭제가 불가능하다. immutable\u001b[0m\u001b[0;34m\u001b[0m\u001b[0;34m\u001b[0m\u001b[0m\n\u001b[0m",
            "\u001b[0;31mTypeError\u001b[0m: 'tuple' object doesn't support item deletion"
          ]
        }
      ]
    },
    {
      "cell_type": "code",
      "source": [
        "t = (1,2,3,4,5)\n",
        "\n",
        "print(t[1]) # 튜플은 인덱싱이 가능하다. \n",
        "print(t[2:])# 튜플은 슬라이싱이 가능하다. \n"
      ],
      "metadata": {
        "colab": {
          "base_uri": "https://localhost:8080/"
        },
        "id": "wvk34llGzqzn",
        "outputId": "35148cd9-19d8-4391-c235-9d9b4dcaec33"
      },
      "execution_count": 27,
      "outputs": [
        {
          "output_type": "stream",
          "name": "stdout",
          "text": [
            "2\n",
            "(3, 4, 5)\n"
          ]
        }
      ]
    },
    {
      "cell_type": "code",
      "source": [
        "t1 = (1,2,3,4,5)\n",
        "t2 = (6,7,8,9)\n",
        "\n",
        "print(t1 + t2)\n",
        "print(t1)\n",
        "print(t2)\n",
        "\n",
        "print(t1 * 3)\n",
        "\n",
        "# 비 파괴적 연산은 가능하다. "
      ],
      "metadata": {
        "colab": {
          "base_uri": "https://localhost:8080/"
        },
        "id": "of42DRq60HZd",
        "outputId": "ffe3105d-41b9-4586-855c-be5e27b464d4"
      },
      "execution_count": 32,
      "outputs": [
        {
          "output_type": "stream",
          "name": "stdout",
          "text": [
            "(1, 2, 3, 4, 5, 6, 7, 8, 9)\n",
            "(1, 2, 3, 4, 5)\n",
            "(6, 7, 8, 9)\n",
            "(1, 2, 3, 4, 5, 1, 2, 3, 4, 5, 1, 2, 3, 4, 5)\n"
          ]
        }
      ]
    },
    {
      "cell_type": "code",
      "source": [
        "# Set 집합\n",
        "# {} 를 사용하여 작성한다. \n",
        "# 중복을 허용하지 않는다. \n",
        "# 순서가 없다. unordered 리스트나 튜플은 순서가 있기때문에 ordered  인덱싱과 슬라이싱을 통해\n",
        "# 값을 꺼낼수 있지만 딕셔너리와 셋은 순서가 없어 불가능하다. \n",
        "# 중복을 허용하지 않는다는 특성을 활용하여 중복 제거 필터용으로 많이 사용된다. \n",
        "# set자료형에 저장된 값을 꺼내려면 리스트나 튜플로 변환하여 사용한다.\n",
        "set = {1,1,2,2,2,3,4}\n",
        "print(set)\n",
        "\n",
        "print(set[0])"
      ],
      "metadata": {
        "colab": {
          "base_uri": "https://localhost:8080/",
          "height": 229
        },
        "id": "lnlgfcBR1OmG",
        "outputId": "606703c6-21c0-4841-91cc-a8b9b659a88e"
      },
      "execution_count": 43,
      "outputs": [
        {
          "output_type": "stream",
          "name": "stdout",
          "text": [
            "{1, 2, 3, 4}\n"
          ]
        },
        {
          "output_type": "error",
          "ename": "TypeError",
          "evalue": "ignored",
          "traceback": [
            "\u001b[0;31m---------------------------------------------------------------------------\u001b[0m",
            "\u001b[0;31mTypeError\u001b[0m                                 Traceback (most recent call last)",
            "\u001b[0;32m<ipython-input-43-1edf2d9c1afe>\u001b[0m in \u001b[0;36m<module>\u001b[0;34m()\u001b[0m\n\u001b[1;32m      9\u001b[0m \u001b[0mprint\u001b[0m\u001b[0;34m(\u001b[0m\u001b[0mset\u001b[0m\u001b[0;34m)\u001b[0m\u001b[0;34m\u001b[0m\u001b[0;34m\u001b[0m\u001b[0m\n\u001b[1;32m     10\u001b[0m \u001b[0;34m\u001b[0m\u001b[0m\n\u001b[0;32m---> 11\u001b[0;31m \u001b[0mprint\u001b[0m\u001b[0;34m(\u001b[0m\u001b[0mset\u001b[0m\u001b[0;34m[\u001b[0m\u001b[0;36m0\u001b[0m\u001b[0;34m]\u001b[0m\u001b[0;34m)\u001b[0m\u001b[0;34m\u001b[0m\u001b[0;34m\u001b[0m\u001b[0m\n\u001b[0m",
            "\u001b[0;31mTypeError\u001b[0m: 'set' object is not subscriptable"
          ]
        }
      ]
    },
    {
      "cell_type": "code",
      "source": [
        "s1 = set([1,1,1,2,2,3])\n",
        "print(type(s1))\n",
        "print(s1)\n",
        "#print(s1[0])\n",
        "\n",
        "li = list(s1)\n",
        "print(type(li))\n",
        "print(li)\n",
        "li[0]"
      ],
      "metadata": {
        "colab": {
          "base_uri": "https://localhost:8080/",
          "height": 248
        },
        "id": "A1lI-GPz4HNA",
        "outputId": "5cfa6921-499f-4787-eb2a-892f18a6765b"
      },
      "execution_count": 42,
      "outputs": [
        {
          "output_type": "error",
          "ename": "TypeError",
          "evalue": "ignored",
          "traceback": [
            "\u001b[0;31m---------------------------------------------------------------------------\u001b[0m",
            "\u001b[0;31mTypeError\u001b[0m                                 Traceback (most recent call last)",
            "\u001b[0;32m<ipython-input-42-c93b80db62c6>\u001b[0m in \u001b[0;36m<module>\u001b[0;34m()\u001b[0m\n\u001b[0;32m----> 1\u001b[0;31m \u001b[0ms1\u001b[0m \u001b[0;34m=\u001b[0m \u001b[0mset\u001b[0m\u001b[0;34m(\u001b[0m\u001b[0;34m[\u001b[0m\u001b[0;36m1\u001b[0m\u001b[0;34m,\u001b[0m\u001b[0;36m1\u001b[0m\u001b[0;34m,\u001b[0m\u001b[0;36m1\u001b[0m\u001b[0;34m,\u001b[0m\u001b[0;36m2\u001b[0m\u001b[0;34m,\u001b[0m\u001b[0;36m2\u001b[0m\u001b[0;34m,\u001b[0m\u001b[0;36m3\u001b[0m\u001b[0;34m]\u001b[0m\u001b[0;34m)\u001b[0m\u001b[0;34m\u001b[0m\u001b[0;34m\u001b[0m\u001b[0m\n\u001b[0m\u001b[1;32m      2\u001b[0m \u001b[0mprint\u001b[0m\u001b[0;34m(\u001b[0m\u001b[0mtype\u001b[0m\u001b[0;34m(\u001b[0m\u001b[0ms1\u001b[0m\u001b[0;34m)\u001b[0m\u001b[0;34m)\u001b[0m\u001b[0;34m\u001b[0m\u001b[0;34m\u001b[0m\u001b[0m\n\u001b[1;32m      3\u001b[0m \u001b[0mprint\u001b[0m\u001b[0;34m(\u001b[0m\u001b[0ms1\u001b[0m\u001b[0;34m)\u001b[0m\u001b[0;34m\u001b[0m\u001b[0;34m\u001b[0m\u001b[0m\n\u001b[1;32m      4\u001b[0m \u001b[0;31m#print(s1[0])\u001b[0m\u001b[0;34m\u001b[0m\u001b[0;34m\u001b[0m\u001b[0;34m\u001b[0m\u001b[0m\n\u001b[1;32m      5\u001b[0m \u001b[0;34m\u001b[0m\u001b[0m\n",
            "\u001b[0;31mTypeError\u001b[0m: 'set' object is not callable"
          ]
        }
      ]
    },
    {
      "cell_type": "code",
      "source": [
        "# 집합 계산\n",
        "\n",
        "set1 = {1,2,3}\n",
        "set2 = {2,3,4}\n",
        "\n",
        "print(type(set1))\n",
        "print(type(set2))\n",
        "\n",
        "# 양쪽 집합에 모두 공통적으로 포함되는 원소 -> 교집합\n",
        "print(set1 & set2)  \n",
        "print(set1.intersection(set2))\n",
        "\n",
        "# 양쪽 집합의 모든 원소 -> 합집합\n",
        "print(set1 | set2)\n",
        "print(set1.union(set2))\n",
        "\n",
        "# 두개 집합의 차 -> 차집합\n",
        "print(set1 - set2)\n",
        "print(set1.difference(set2))"
      ],
      "metadata": {
        "colab": {
          "base_uri": "https://localhost:8080/"
        },
        "id": "i7GIautZ4xvC",
        "outputId": "a670767a-e6e2-465c-86d6-a367e67bff0d"
      },
      "execution_count": 46,
      "outputs": [
        {
          "output_type": "stream",
          "name": "stdout",
          "text": [
            "<class 'set'>\n",
            "<class 'set'>\n",
            "{2, 3}\n",
            "{2, 3}\n",
            "{1, 2, 3, 4}\n",
            "{1, 2, 3, 4}\n",
            "{1}\n",
            "{1}\n"
          ]
        }
      ]
    },
    {
      "cell_type": "code",
      "source": [
        "# 집합은 삽입 가능 mutable\n",
        "\n",
        "set1 = {1,2,3}\n",
        "print(set1)\n",
        "set1.add(4)\n",
        "print(set1)\n",
        "\n",
        "set1.update([5,6,7,8])\n",
        "print(set1)\n",
        "\n",
        "#집합은 삭제가 가능하다.  mutable\n",
        "#집합은 인덱스 개념이 존재하지 않는다. 따라서 값을 지정하여 직접 삭제 한다. \n",
        "set1.remove(4)\n",
        "print(set1)\n"
      ],
      "metadata": {
        "colab": {
          "base_uri": "https://localhost:8080/"
        },
        "id": "trA3zXiB6tsu",
        "outputId": "ffaede75-123e-4a2e-9c48-61016b5d47db"
      },
      "execution_count": 47,
      "outputs": [
        {
          "output_type": "stream",
          "name": "stdout",
          "text": [
            "{1, 2, 3}\n",
            "{1, 2, 3, 4}\n",
            "{1, 2, 3, 4, 5, 6, 7, 8}\n",
            "{1, 2, 3, 5, 6, 7, 8}\n"
          ]
        }
      ]
    },
    {
      "cell_type": "code",
      "source": [
        "# Q1.  입력) 학번을 입력하세요 >> 31025\n",
        "#      출력) 3학년 10반 25번\n",
        "\n",
        "s = input(\"학번을 입력하세요\")\n",
        "print(f'{s[0]}학년 {s[1:3]}반 {s[3:]}번')"
      ],
      "metadata": {
        "colab": {
          "base_uri": "https://localhost:8080/"
        },
        "id": "Jj1AgUn5AGGP",
        "outputId": "0b3349b5-2b98-49aa-ee6c-57b578b13a6a"
      },
      "execution_count": 53,
      "outputs": [
        {
          "output_type": "stream",
          "name": "stdout",
          "text": [
            "학번을 입력하세요31025\n",
            "3학년 10반 25번\n"
          ]
        }
      ]
    },
    {
      "cell_type": "code",
      "source": [
        ""
      ],
      "metadata": {
        "id": "gjbAC76yCgrQ"
      },
      "execution_count": null,
      "outputs": []
    },
    {
      "cell_type": "code",
      "source": [
        "# Q2. 입력) 차량 번호를 입력하세요 >> 서울2가1234\n",
        "#           차량 번호를 입력하세요 >> 288가1233\n",
        "#     출력) 서울2가1234 의 차량번호 끝 4자리는 1234 입니다.\n",
        "#           288가1233 의 차량번호 끝 4자리는 1234 입니다.  \n",
        "\n",
        "num = input(\"차량 번호를 입력하세요\")\n",
        "print(f'{num} 의 차량번호 끝 4자리는 {num[-4:]} 입니다.')\n",
        "\n"
      ],
      "metadata": {
        "colab": {
          "base_uri": "https://localhost:8080/"
        },
        "id": "F4HzoYS_Ct2x",
        "outputId": "19c72f47-d0da-4aab-afe0-feb66292e470"
      },
      "execution_count": 55,
      "outputs": [
        {
          "output_type": "stream",
          "name": "stdout",
          "text": [
            "차량 번호를 입력하세요서울시 1234\n",
            "서울시 1234 의 차량번호 끝 4자리는 1234 입니다.\n"
          ]
        }
      ]
    },
    {
      "cell_type": "code",
      "source": [
        "# 홀수 갯수의 문자열을 입력 받아\n",
        "# 가운데 글자를 추출하는 프로그램을 구현하시오 \n",
        "# 입력) 문자열을 홀수로 입력하세요 >> austins   7 3\n",
        "# 입력) 문자열을 홀수로 입력하세요 >> abc       3 1\n",
        "\n",
        "# 출력) 문자열의 가운데 글자는 t입니다.\n",
        "# 출력) 문자열의 가운데 글자는 b입니다.\n",
        "\n",
        "# ctx = 'austins'\n",
        "\n",
        "# print(int(len(ctx)/2))\n",
        "# print(len(ctx)//2)  # 몫만 추출\n",
        "# print(len(ctx)%2)   # 나머지만 추출 (홀수 짝수 배수)\n",
        "ctx = input(\"문자열을 홀수로 입력하시오\")\n",
        "\n",
        "anser = (int(len(ctx)/2))\n",
        "print(f'문자열의 가운데 글자는 {ctx[anser]}')\n"
      ],
      "metadata": {
        "colab": {
          "base_uri": "https://localhost:8080/"
        },
        "id": "rHTJIAxeEDFZ",
        "outputId": "c1dfa772-e4b3-4f67-9a6d-3f759104f7da"
      },
      "execution_count": 1,
      "outputs": [
        {
          "output_type": "stream",
          "name": "stdout",
          "text": [
            "문자열을 홀수로 입력하시오abc\n",
            "문자열의 가운데 글자는 b\n"
          ]
        }
      ]
    },
    {
      "cell_type": "code",
      "source": [
        "# [1,2,3,4,5,6,7,8,9] 의 3번째 요소부터 7번째 요소만 추출한 결과에서\n",
        "# 2번째 요소를 출력하는 프로그램을 구현하세요. (한줄로..)\n",
        "\n",
        "li = [1,2,3,4,5,6,7,8,9]\n",
        "print(li[2:7][1])"
      ],
      "metadata": {
        "colab": {
          "base_uri": "https://localhost:8080/"
        },
        "id": "gBOLjvUWHnlY",
        "outputId": "8ee367f8-5b5d-48f4-cb3b-788905ccd7a8"
      },
      "execution_count": 59,
      "outputs": [
        {
          "output_type": "stream",
          "name": "stdout",
          "text": [
            "4\n"
          ]
        }
      ]
    },
    {
      "cell_type": "code",
      "source": [
        "# if\n",
        "\n",
        "# 특정 조건을 만족하는지 여부에 따라 실행되는 코드가 달라져야할 때 사용된다.\n",
        "# 날씨가 맑으면 소풍을 가고 아니면 공부를 한다.\n",
        "\n",
        "# if 조건식:\n",
        "#   만족할때 실행 코드\n",
        "# else\n",
        "#   만족하지 못할때 실행 코드\n",
        "\n",
        "# if 맑으면:\n",
        "#   소풍을 간다.\n",
        "# else:\n",
        "#   공부를 한다.\n",
        "\n",
        "\n",
        "if True:\n",
        "  print('만족')\n",
        "else:\n",
        "  print('불만족')"
      ],
      "metadata": {
        "colab": {
          "base_uri": "https://localhost:8080/"
        },
        "id": "oTdJBKaxNzWu",
        "outputId": "2789f87e-8368-4e1a-c81c-9559fa4b9a4e"
      },
      "execution_count": 2,
      "outputs": [
        {
          "output_type": "stream",
          "name": "stdout",
          "text": [
            "만족\n"
          ]
        }
      ]
    },
    {
      "cell_type": "code",
      "source": [
        "age = int(input('나이를 입력하세요.'))\n",
        "\n",
        "if age >= 18:\n",
        "  print('당신은 성인입니다.')\n",
        "else:\n",
        "  print('당신은 성인이 아닙니다.')"
      ],
      "metadata": {
        "colab": {
          "base_uri": "https://localhost:8080/"
        },
        "id": "pI9erp2mPEoA",
        "outputId": "78ce3c10-f889-47df-b12e-a2db1f3de36a"
      },
      "execution_count": 5,
      "outputs": [
        {
          "output_type": "stream",
          "name": "stdout",
          "text": [
            "나이를 입력하세요.11\n",
            "당신은 성인이 아닙니다.\n"
          ]
        }
      ]
    },
    {
      "cell_type": "code",
      "source": [
        "age = int(input('나이를 입력하세요.'))\n",
        "\n",
        "if age < 10:\n",
        "  print('당신은 유아입니다.')\n",
        "elif age < 20:\n",
        "  print('당신은 10대입니다.')\n",
        "elif age < 30:\n",
        "  print('당신은 20대입니다.')\n",
        "elif age < 40:\n",
        "  print('당신은 30대입니다.')\n",
        "elif age < 50:\n",
        "  print('당신은 40대입니다.')\n",
        "elif age < 60:\n",
        "  print('당신은 50대입니다.')\n",
        "elif age < 70:\n",
        "  print('당신은 60대입니다.')\n",
        "else:\n",
        "  print('당신은 노인입니다.')"
      ],
      "metadata": {
        "colab": {
          "base_uri": "https://localhost:8080/"
        },
        "id": "KJpF7bomQKoc",
        "outputId": "93bbabca-06a7-47fa-c8ba-f246f52d9a1f"
      },
      "execution_count": 15,
      "outputs": [
        {
          "output_type": "stream",
          "name": "stdout",
          "text": [
            "나이를 입력하세요.90\n",
            "당신은 노인입니다.\n"
          ]
        }
      ]
    },
    {
      "cell_type": "code",
      "source": [
        "# 입력) 당신의 점수를 입력하세요 >>> 95\n",
        "  # 출력) 당신의 점수는 95 점이고 학점은 A학점입니다.  \n",
        "  #                     --               -\n",
        "  # 조건)100 점 초과인 점수는 없다. 0점 미만인 점수도 절대 없음\n",
        "  # 100~ 90 A \n",
        "  #  89~ 80 B\n",
        "  #  79~ 70 C\n",
        "  #  69~ 60 D \n",
        "  #  나머지 F\n",
        "\n",
        "\n",
        "\n",
        "score = int(input('당신의 점수를 입력하세요'))\n",
        "\n",
        "if score >= 90:\n",
        "  print(f'당신의 점수는 {score}이고 학점은 A학점입니다.')\n",
        "elif score >= 80:\n",
        "  print(f'당신의 점수는 {score}이고 학점은 B학점입니다.')\n",
        "elif score >= 70:\n",
        "  print(f'당신의 점수는 {score}이고 학점은 C학점입니다.')\n",
        "elif score >= 60:\n",
        "  print(f'당신의 점수는 {score}이고 학점은 D학점입니다.')\n",
        "else:\n",
        "  print(f'당신의 점수는 {score}이고 학점은 f학점입니다.')\n",
        "\n",
        "\n",
        "\n",
        "\n",
        "\n",
        "\n",
        "#   score = int(input(\"당신의 점수를 입력하세요 >> \"))\n",
        "# gr = \"\"\n",
        "# if score >=90:\n",
        "#   gr = \"A\"\n",
        "# elif score >=80:\n",
        "#   gr = \"B\"\n",
        "# elif score >=70:\n",
        "#   gr = \"C\"\n",
        "# elif score >=60:\n",
        "#   gr = \"D\"\n",
        "# else:\n",
        "#   gr = \"F\"\n",
        "\n",
        "# print(f\"당신의 점수는 {score}점 이고 학점은 {gr}학점입니다.\")\n"
      ],
      "metadata": {
        "colab": {
          "base_uri": "https://localhost:8080/"
        },
        "id": "cA6naQ_LRaHV",
        "outputId": "f2610a70-e5a2-4a8a-b9ba-d37ca0bdc2bd"
      },
      "execution_count": 3,
      "outputs": [
        {
          "output_type": "stream",
          "name": "stdout",
          "text": [
            "당신의 점수를 입력하세요34\n",
            "당신의 점수는 34이고 학점은 f학점입니다.\n"
          ]
        }
      ]
    },
    {
      "cell_type": "code",
      "source": [
        "# 임의의 정수를 입력받아서 그 수가 3의 배수인지를 확인하는\n",
        "# 프로그램을 작성하시오 % 홀수 짝수 배수\n",
        "\n",
        "# (입력) 정수를 입력하세요 >>> 14\n",
        "# (출력) 14는 3의 배수가 아닙니다.\n",
        "\n",
        "# (입력) 정수를 입력하세요 >>> 15\n",
        "# (출력) 15는 3의 배수입니다.\n",
        "\n",
        "\n",
        "\n",
        "n = int(input(\"정수를 입력하세요\"))\n",
        "r = \"\"\n",
        "if n%3 !=0:\n",
        "  r = \"가 아닙니다\"\n",
        "else: \n",
        "  r =\"입니다\"\n",
        "\n",
        "print(f\"{n}은 3의 배수{r}\")\n"
      ],
      "metadata": {
        "colab": {
          "base_uri": "https://localhost:8080/"
        },
        "id": "Zac061h1TsoK",
        "outputId": "b71a2466-1dbf-4c53-889b-8da8fc1352c6"
      },
      "execution_count": 4,
      "outputs": [
        {
          "output_type": "stream",
          "name": "stdout",
          "text": [
            "정수를 입력하세요15\n",
            "15은 3의 배수입니다\n"
          ]
        }
      ]
    },
    {
      "cell_type": "code",
      "source": [
        "# 정수 3개를 입력 받아서 그 중에서 가장 큰수를 찾아 출력하는 프로그램\n",
        "\n",
        "# 정수1입력>3\n",
        "# 정수2입력>1\n",
        "# 정수3입력>2\n",
        "\n",
        "# 가장 큰수는 3입니다.\n",
        "\n",
        "n1 = int(input('정수를 입력하세요 >> '))\n",
        "n2 = int(input('정수를 입력하세요 >> '))\n",
        "n3 = int(input('정수를 입력하세요 >> '))\n",
        "max = 0\n",
        "\n",
        "if n1>n2:\n",
        "  max = n1\n",
        "elif n2>n3:\n",
        "  max = n2\n",
        "else:\n",
        "  max = n3\n",
        "\n",
        "print(max)\n"
      ],
      "metadata": {
        "colab": {
          "base_uri": "https://localhost:8080/"
        },
        "id": "oeyEF0bNU8i4",
        "outputId": "d9c88c57-e096-4a21-f3ca-8ec53e0a07a6"
      },
      "execution_count": 11,
      "outputs": [
        {
          "output_type": "stream",
          "name": "stdout",
          "text": [
            "정수를 입력하세요 >> 3\n",
            "정수를 입력하세요 >> 3\n",
            "정수를 입력하세요 >> 4\n",
            "4\n"
          ]
        }
      ]
    },
    {
      "cell_type": "code",
      "source": [
        "n1 = int(input('정수1 입력 >>> '))\n",
        "n2 = int(input('정수2 입력 >>> '))\n",
        "n3 = int(input('정수3 입력 >>> '))\n",
        "\n",
        "if n1 > n2 & n1 > n3 :\n",
        "  best = n1\n",
        "elif n2 > n3 :\n",
        "  best = n2\n",
        "else :\n",
        "  best = n3\n",
        "\n",
        "print(f'가장 큰 수는 {best}입니다.')\n",
        "\n"
      ],
      "metadata": {
        "colab": {
          "base_uri": "https://localhost:8080/"
        },
        "id": "dlPAsihtaDtd",
        "outputId": "baf7a4a2-da92-468a-9223-32d9a003b8e2"
      },
      "execution_count": 12,
      "outputs": [
        {
          "output_type": "stream",
          "name": "stdout",
          "text": [
            "정수1 입력 >>> 3\n",
            "정수2 입력 >>> 4\n",
            "정수3 입력 >>> 5\n",
            "가장 큰 수는 5입니다.\n"
          ]
        }
      ]
    }
  ]
}