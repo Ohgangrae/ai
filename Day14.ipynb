{
  "nbformat": 4,
  "nbformat_minor": 0,
  "metadata": {
    "colab": {
      "name": "Day14.ipynb",
      "provenance": [],
      "authorship_tag": "ABX9TyNXcI2uvXKqu2u/ySSO2GbP",
      "include_colab_link": true
    },
    "kernelspec": {
      "name": "python3",
      "display_name": "Python 3"
    },
    "language_info": {
      "name": "python"
    }
  },
  "cells": [
    {
      "cell_type": "markdown",
      "metadata": {
        "id": "view-in-github",
        "colab_type": "text"
      },
      "source": [
        "<a href=\"https://colab.research.google.com/github/Ohgangrae/ai/blob/main/Day14.ipynb\" target=\"_parent\"><img src=\"https://colab.research.google.com/assets/colab-badge.svg\" alt=\"Open In Colab\"/></a>"
      ]
    },
    {
      "cell_type": "code",
      "execution_count": 35,
      "metadata": {
        "colab": {
          "base_uri": "https://localhost:8080/",
          "height": 248
        },
        "id": "Hrl0QfeiBHUi",
        "outputId": "2bacbbca-e865-49a2-b024-42606f02533e"
      },
      "outputs": [
        {
          "output_type": "stream",
          "name": "stdout",
          "text": [
            "cherry\n",
            "2\n"
          ]
        },
        {
          "output_type": "error",
          "ename": "TypeError",
          "evalue": "ignored",
          "traceback": [
            "\u001b[0;31m---------------------------------------------------------------------------\u001b[0m",
            "\u001b[0;31mTypeError\u001b[0m                                 Traceback (most recent call last)",
            "\u001b[0;32m<ipython-input-35-7f04075fe4f5>\u001b[0m in \u001b[0;36m<module>\u001b[0;34m()\u001b[0m\n\u001b[1;32m     21\u001b[0m \u001b[0mprint\u001b[0m\u001b[0;34m(\u001b[0m\u001b[0mfruit_tuple\u001b[0m\u001b[0;34m[\u001b[0m\u001b[0;36m2\u001b[0m\u001b[0;34m]\u001b[0m\u001b[0;34m)\u001b[0m\u001b[0;34m\u001b[0m\u001b[0;34m\u001b[0m\u001b[0m\n\u001b[1;32m     22\u001b[0m \u001b[0mprint\u001b[0m\u001b[0;34m(\u001b[0m\u001b[0mfruit_tuple\u001b[0m\u001b[0;34m.\u001b[0m\u001b[0mindex\u001b[0m\u001b[0;34m(\u001b[0m\u001b[0;34m'cherry'\u001b[0m\u001b[0;34m)\u001b[0m\u001b[0;34m)\u001b[0m\u001b[0;34m\u001b[0m\u001b[0;34m\u001b[0m\u001b[0m\n\u001b[0;32m---> 23\u001b[0;31m \u001b[0;32mdel\u001b[0m \u001b[0mfruit_tuple\u001b[0m\u001b[0;34m[\u001b[0m\u001b[0;36m1\u001b[0m\u001b[0;34m]\u001b[0m\u001b[0;34m\u001b[0m\u001b[0;34m\u001b[0m\u001b[0m\n\u001b[0m",
            "\u001b[0;31mTypeError\u001b[0m: 'tuple' object doesn't support item deletion"
          ]
        }
      ],
      "source": [
        "# Tuple, List and Dict\n",
        "\n",
        "# There are several ways that collections of data canbe stored as a single item.\n",
        "# There of the simpler ones are:\n",
        "# 1. Tuple\n",
        "# 2. List\n",
        "# 3. Dict\n",
        "# (4). Set\n",
        "\n",
        "# Tuple : Once a tuple is defined you cannot change what is stored in it. (immutable)\n",
        "# ()\n",
        "# List : The contents of a list canbe changed while the program is running and lists\n",
        "#        are one of the most common ways to store a collection of data in Python.\n",
        "#        (mutable)\n",
        "# []\n",
        "# DIct : can also be changed while the program is running. mutable \n",
        "#         Each value is given an index or key you can define to help identify \n",
        "#         each piece of data\n",
        "# {}\n",
        "fruit_tuple = ('apple','banana','cherry','orange')\n",
        "print(fruit_tuple[2])\n",
        "print(fruit_tuple.index('cherry'))\n",
        "del fruit_tuple[1]  "
      ]
    },
    {
      "cell_type": "code",
      "source": [
        "names_list = ['John','Tim','Sam']\n",
        "del names_list[1]\n",
        "names_list"
      ],
      "metadata": {
        "colab": {
          "base_uri": "https://localhost:8080/"
        },
        "id": "CM0V0Ud8G2mg",
        "outputId": "7f0438a4-cdd3-4c56-e28e-422560435e10"
      },
      "execution_count": null,
      "outputs": [
        {
          "output_type": "execute_result",
          "data": {
            "text/plain": [
              "['John', 'Sam']"
            ]
          },
          "metadata": {},
          "execution_count": 10
        }
      ]
    },
    {
      "cell_type": "code",
      "source": [
        "names_list.append(input('Add a name : '))\n",
        "names_list"
      ],
      "metadata": {
        "colab": {
          "base_uri": "https://localhost:8080/"
        },
        "id": "ayCReIyJHV30",
        "outputId": "aa3be1cc-6b5b-47c3-ce2a-09af22e4898d"
      },
      "execution_count": null,
      "outputs": [
        {
          "name": "stdout",
          "output_type": "stream",
          "text": [
            "Add a name : oh\n"
          ]
        },
        {
          "output_type": "execute_result",
          "data": {
            "text/plain": [
              "['John', 'Sam', 'oh']"
            ]
          },
          "metadata": {},
          "execution_count": 11
        }
      ]
    },
    {
      "cell_type": "code",
      "source": [
        "names_list.sort()\n",
        "\n",
        "# Sorts [list] into alphabetical order and saves the list in the new order"
      ],
      "metadata": {
        "id": "K0jaY96vHV1m"
      },
      "execution_count": null,
      "outputs": []
    },
    {
      "cell_type": "code",
      "source": [
        "names_list\n"
      ],
      "metadata": {
        "colab": {
          "base_uri": "https://localhost:8080/"
        },
        "id": "Ek86re9kHVza",
        "outputId": "30b4968a-ff1e-4575-9c76-aa00b87efb43"
      },
      "execution_count": null,
      "outputs": [
        {
          "output_type": "execute_result",
          "data": {
            "text/plain": [
              "['John', 'Sam', 'oh']"
            ]
          },
          "metadata": {},
          "execution_count": 13
        }
      ]
    },
    {
      "cell_type": "code",
      "source": [
        "names_list = ['John', 'Sam', 'Austin']\n",
        "print(sorted(names_list))\n",
        "print(names_list)\n",
        "\n",
        "# Displays names_list in alphabetical order but does not change the order of the \n",
        "# original list."
      ],
      "metadata": {
        "colab": {
          "base_uri": "https://localhost:8080/"
        },
        "id": "3nU0gZJQKOcX",
        "outputId": "c26c902f-00c5-402e-e9f7-1abd9d759396"
      },
      "execution_count": null,
      "outputs": [
        {
          "output_type": "stream",
          "name": "stdout",
          "text": [
            "['Austin', 'John', 'Sam']\n",
            "['John', 'Sam', 'Austin']\n"
          ]
        }
      ]
    },
    {
      "cell_type": "code",
      "source": [
        "color = {1:'red',2:'blue',3:'green'}\n",
        "\n",
        "# Creates a dict called 'color' , where each item is assigned an index of your choosing\n",
        "\n",
        "print(color[2])"
      ],
      "metadata": {
        "colab": {
          "base_uri": "https://localhost:8080/"
        },
        "id": "WN0VLYUNKQid",
        "outputId": "bd9ac036-2704-461a-fb57-2ebce275202d"
      },
      "execution_count": null,
      "outputs": [
        {
          "output_type": "stream",
          "name": "stdout",
          "text": [
            "blue\n"
          ]
        }
      ]
    },
    {
      "cell_type": "code",
      "source": [
        "# Quiz 1\n",
        "\n",
        "# Create a tuple containing the names of five countries and display the whole tuple\n",
        "# Ask the user to enter on of the countries that have been shown to them and then \n",
        "# display the index number (position in the tuple), { NO CHINA }\n",
        "\n",
        "country = ('Korea','USA','UK','Japan','France')\n",
        "\n",
        "print(country)\n",
        "\n",
        "name = input('Please enter one of the countries from above : ')\n",
        "\n",
        "print(f'{name} has index number {country.index(name)}')"
      ],
      "metadata": {
        "colab": {
          "base_uri": "https://localhost:8080/"
        },
        "id": "TwRjptFMHVxR",
        "outputId": "06025834-d303-4919-f285-b7fe93b518ce"
      },
      "execution_count": null,
      "outputs": [
        {
          "output_type": "stream",
          "name": "stdout",
          "text": [
            "('Korea', 'USA', 'UK', 'Japan', 'France')\n",
            "Please enter one of the countries from above : Korea\n",
            "Korea has index number 0\n"
          ]
        }
      ]
    },
    {
      "cell_type": "code",
      "source": [
        "# Add to program above, to ask the user to enter a number and display \n",
        "# the country in that position.\n",
        "\n",
        "country = ('Korea','USA','UK','Japan','France')\n",
        "\n",
        "print(country)\n",
        "\n",
        "num = int(input('Please enter a number between 0 and 4 : '))\n",
        "\n",
        "print(country[num])"
      ],
      "metadata": {
        "colab": {
          "base_uri": "https://localhost:8080/"
        },
        "id": "Lei7zBSUJSFQ",
        "outputId": "6e6a8610-31b5-407c-8ef2-6747efe087fe"
      },
      "execution_count": null,
      "outputs": [
        {
          "output_type": "stream",
          "name": "stdout",
          "text": [
            "('Korea', 'USA', 'UK', 'Japan', 'France')\n",
            "Please enter a number between 0 and 4 : 3\n",
            "Japan\n"
          ]
        }
      ]
    },
    {
      "cell_type": "code",
      "source": [
        "# Create a list of two sports. Ask the user what their favourite sport is \n",
        "# and add this to the end of the list. Sort the list and display it.\n",
        "\n",
        "spo = ['TKD', 'soccer']\n",
        "\n",
        "spo.append(input('What is your favorite sport ? '))\n",
        "spo.sort()\n",
        "print(spo)"
      ],
      "metadata": {
        "colab": {
          "base_uri": "https://localhost:8080/"
        },
        "id": "X5SdbQ1LLAVW",
        "outputId": "d4e9f2ed-33b0-49af-dc5e-09c43ae1fe43"
      },
      "execution_count": null,
      "outputs": [
        {
          "output_type": "stream",
          "name": "stdout",
          "text": [
            "What is your favorite sport ? baseball\n",
            "['TKD', 'baseball', 'soccer']\n"
          ]
        }
      ]
    },
    {
      "cell_type": "code",
      "source": [
        "# Ask the user to enter four of their favourite foods and store them \n",
        "# in a dict so that they are indexed with number starting from 1.\n",
        "# Display the dict in full, showing the index number and the item.\n",
        "# Ask them which they want to get rid of and remove it from the list\n",
        "# Sort the remaining data(values) and display.\n",
        "\n",
        "\n",
        "food_dict = {}\n",
        "food1 = input('Enter a food you like : ')\n",
        "food_dict[1] = food1\n",
        "food2 = input('Enter a food you like : ')\n",
        "food_dict[2] = food2\n",
        "food3 = input('Enter a food you like : ')\n",
        "food_dict[3] = food3\n",
        "food4 = input('Enter a food you like : ')\n",
        "food_dict[4] = food4\n",
        "\n",
        "\n",
        "print(food_dict)\n",
        "dislike = int(input('Which of these do you want to get rid of? '))\n",
        "del food_dict[dislike]\n",
        "print(sorted(food_dict.values()))"
      ],
      "metadata": {
        "colab": {
          "base_uri": "https://localhost:8080/"
        },
        "id": "PmNmc9IRMkX6",
        "outputId": "14d61f14-e74e-4ef6-ab53-ada0f2f3e3e5"
      },
      "execution_count": null,
      "outputs": [
        {
          "output_type": "stream",
          "name": "stdout",
          "text": [
            "Enter a food you like : pizza\n",
            "Enter a food you like : mara\n",
            "Enter a food you like : ham\n",
            "Enter a food you like : ramen\n",
            "{1: 'pizza', 2: 'mara', 3: 'ham', 4: 'ramen'}\n",
            "Which of these do you want to get rid of? 3\n",
            "['mara', 'pizza', 'ramen']\n"
          ]
        }
      ]
    },
    {
      "cell_type": "code",
      "source": [
        "food ={}\n",
        "num = 1\n",
        "for i in range(0,4):\n",
        "    what = input(\"what's your favorite food?\")\n",
        "    food[what] = num\n",
        "    num += 1\n",
        "print(food)\n",
        "what2 = input(\"remove food\")\n",
        "del(food[what2])\n",
        "food2 = sorted(food.items())\n",
        "print(food2)"
      ],
      "metadata": {
        "colab": {
          "base_uri": "https://localhost:8080/"
        },
        "id": "PL966U5IQayt",
        "outputId": "d3df86fd-a00f-4034-8c6c-2e5de6b1ebb1"
      },
      "execution_count": null,
      "outputs": [
        {
          "output_type": "stream",
          "name": "stdout",
          "text": [
            "what's your favorite food?chicken\n",
            "what's your favorite food?maratang\n",
            "what's your favorite food?pizza\n",
            "what's your favorite food?ramen\n",
            "{'chicken': 1, 'maratang': 2, 'pizza': 3, 'ramen': 4}\n",
            "remove foodpizza\n",
            "[('chicken', 1), ('maratang', 2), ('ramen', 4)]\n"
          ]
        }
      ]
    },
    {
      "cell_type": "code",
      "source": [
        "dict={}\n",
        "for i in range(4):\n",
        "    a=input(\"ur fave food? : \")\n",
        "    dict[i]=a\n",
        "print(dict)\n",
        "r=int(input(\"what u wanna remove it? : \"))\n",
        "del dict[r]\n",
        "print(sorted(list(dict.values())))\n"
      ],
      "metadata": {
        "colab": {
          "base_uri": "https://localhost:8080/"
        },
        "id": "b-Rr90lsQl4V",
        "outputId": "ef018e08-c660-499b-904a-2b6e17a26d2b"
      },
      "execution_count": null,
      "outputs": [
        {
          "output_type": "stream",
          "name": "stdout",
          "text": [
            "ur fave food? : pizza\n",
            "ur fave food? : mara\n",
            "ur fave food? : ham\n",
            "ur fave food? : ramen\n",
            "{0: 'pizza', 1: 'mara', 2: 'ham', 3: 'ramen'}\n",
            "what u wanna remove it? : 3\n",
            "['ham', 'mara', 'pizza']\n"
          ]
        }
      ]
    }
  ]
}