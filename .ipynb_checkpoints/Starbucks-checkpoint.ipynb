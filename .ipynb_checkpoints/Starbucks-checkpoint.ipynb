{
 "cells": [
  {
   "cell_type": "code",
   "execution_count": 1,
   "id": "eecdf58d",
   "metadata": {},
   "outputs": [],
   "source": [
    "from selenium import webdriver       # 파이썬으로 브라우저 컨트롤 모듈\n",
    "from bs4 import BeautifulSoup as bs # 클롤링한 데이터 정제 모듈\n",
    "import pandas as pd                      # 데이터 분석 모듈"
   ]
  },
  {
   "cell_type": "code",
   "execution_count": 4,
   "id": "3e782f13",
   "metadata": {},
   "outputs": [
    {
     "name": "stderr",
     "output_type": "stream",
     "text": [
      "C:\\Users\\VIP\\AppData\\Local\\Temp/ipykernel_2832/2198966681.py:1: DeprecationWarning: executable_path has been deprecated, please pass in a Service object\n",
      "  driver = webdriver.Chrome('chromedriver.exe')\n"
     ]
    }
   ],
   "source": [
    "driver = webdriver.Chrome('chromedriver.exe')\n",
    "driver.get('https://www.starbucks.co.kr/store/store_map.do')"
   ]
  },
  {
   "cell_type": "code",
   "execution_count": 7,
   "id": "d581bf50",
   "metadata": {},
   "outputs": [
    {
     "name": "stderr",
     "output_type": "stream",
     "text": [
      "C:\\Users\\VIP\\AppData\\Local\\Temp/ipykernel_2832/2162603177.py:2: DeprecationWarning: find_element_by_* commands are deprecated. Please use find_element() instead\n",
      "  driver.find_element_by_css_selector(area_btn).click()\n"
     ]
    }
   ],
   "source": [
    "area_btn = '#container > div > form > fieldset > div > section > article.find_store_cont > article > header.loca_search > h3 > a'\n",
    "driver.find_element_by_css_selector(area_btn).click()"
   ]
  },
  {
   "cell_type": "code",
   "execution_count": 8,
   "id": "52e95b82",
   "metadata": {},
   "outputs": [
    {
     "name": "stderr",
     "output_type": "stream",
     "text": [
      "C:\\Users\\VIP\\AppData\\Local\\Temp/ipykernel_2832/3501212899.py:2: DeprecationWarning: find_element_by_* commands are deprecated. Please use find_element() instead\n",
      "  driver.find_element_by_css_selector(seoul_btn).click()\n"
     ]
    }
   ],
   "source": [
    "seoul_btn = '#container > div > form > fieldset > div > section > article.find_store_cont > article > article:nth-child(4) > div.loca_step1 > div.loca_step1_cont > ul > li:nth-child(1) > a'\n",
    "driver.find_element_by_css_selector(seoul_btn).click()"
   ]
  },
  {
   "cell_type": "code",
   "execution_count": 9,
   "id": "590f82e5",
   "metadata": {},
   "outputs": [
    {
     "name": "stderr",
     "output_type": "stream",
     "text": [
      "C:\\Users\\VIP\\AppData\\Local\\Temp/ipykernel_2832/2684697461.py:2: DeprecationWarning: find_element_by_* commands are deprecated. Please use find_element() instead\n",
      "  driver.find_element_by_css_selector(all_btn).click()\n"
     ]
    }
   ],
   "source": [
    "all_btn = '#mCSB_2_container > ul > li:nth-child(1) > a'\n",
    "driver.find_element_by_css_selector(all_btn).click()"
   ]
  },
  {
   "cell_type": "code",
   "execution_count": 10,
   "id": "65255cde",
   "metadata": {},
   "outputs": [],
   "source": [
    "html = driver.page_source   # 전체 페이저 소스 읽어오기\n",
    "soup = bs(html)                # bs으로 데이터 정제"
   ]
  },
  {
   "cell_type": "code",
   "execution_count": 19,
   "id": "f3f29126",
   "metadata": {},
   "outputs": [
    {
     "data": {
      "text/plain": [
       "569"
      ]
     },
     "execution_count": 19,
     "metadata": {},
     "output_type": "execute_result"
    }
   ],
   "source": [
    "starbucks_list = soup.select('ul.quickSearchResultBoxSidoGugun > li.quickResultLstCon')                # 서울 전체 스타벅스 목록만 읽어오기\n",
    "\n",
    "len(starbucks_list)"
   ]
  },
  {
   "cell_type": "code",
   "execution_count": 20,
   "id": "8602e7a7",
   "metadata": {},
   "outputs": [
    {
     "data": {
      "text/plain": [
       "<li class=\"quickResultLstCon\" data-code=\"3762\" data-hlytag=\"null\" data-index=\"0\" data-lat=\"37.501087\" data-long=\"127.043069\" data-name=\"역삼아레나빌딩\" data-storecd=\"1509\" style=\"background:#fff\"> <strong data-my_siren_order_store_yn=\"N\" data-name=\"역삼아레나빌딩\" data-store=\"1509\" data-yn=\"N\">역삼아레나빌딩  </strong> <p class=\"result_details\">서울특별시 강남구 언주로 425 (역삼동)<br/>1522-3232</p> <i class=\"pin_general\">리저브 매장 2번</i></li>"
      ]
     },
     "execution_count": 20,
     "metadata": {},
     "output_type": "execute_result"
    }
   ],
   "source": [
    "star = starbucks_list[0]\n",
    "star"
   ]
  },
  {
   "cell_type": "code",
   "execution_count": 22,
   "id": "028fad88",
   "metadata": {},
   "outputs": [],
   "source": [
    "#name = star['data-name']            # 지점명\n",
    "name = star.select('strong')[0].text.strip()\n",
    "lat =  star['data-lat'].strip()             # 위도\n",
    "lng =  star['data-long'].strip()          # 경도\n",
    "\n",
    "addr =  str(star.select('p')[0]).split('<br/>')[0].split('>')[1]    # 주소\n",
    "tel = str(star.select('p')[0]).split('<br/>')[1].split('<')[0]        # 전화번호\n"
   ]
  },
  {
   "cell_type": "code",
   "execution_count": 17,
   "id": "59a35fc9",
   "metadata": {},
   "outputs": [],
   "source": [
    "starbucks = []\n",
    "for star in starbucks_list:\n",
    "    name = star.select('strong')[0].text.strip()\n",
    "    lat =  star['data-lat'].strip()             # 위도\n",
    "    lng =  star['data-long'].strip()          # 경도\n",
    "\n",
    "    addr =  str(star.select('p')[0]).split('<br/>')[0].split('>')[1]    # 주소\n",
    "    tel = str(star.select('p')[0]).split('<br/>')[1].split('<')[0]        # 전화번호\n",
    "\n",
    "    starbucks.append([name, lat, lng, addr, tel])"
   ]
  },
  {
   "cell_type": "code",
   "execution_count": 18,
   "id": "bf2fdc5e",
   "metadata": {},
   "outputs": [],
   "source": [
    "# 데이터 프레임 생성\n",
    "columns = ['매장명','위도','경도','주소','전화번호']\n",
    "seoul_starbucks = pd.DataFrame(starbucks, columns = columns)\n",
    "\n",
    "seoul_starbucks.to_excel('seoul_starbucks.xlsx', index=False)"
   ]
  },
  {
   "cell_type": "code",
   "execution_count": null,
   "id": "359cc2bd",
   "metadata": {},
   "outputs": [],
   "source": []
  }
 ],
 "metadata": {
  "kernelspec": {
   "display_name": "Python 3 (ipykernel)",
   "language": "python",
   "name": "python3"
  },
  "language_info": {
   "codemirror_mode": {
    "name": "ipython",
    "version": 3
   },
   "file_extension": ".py",
   "mimetype": "text/x-python",
   "name": "python",
   "nbconvert_exporter": "python",
   "pygments_lexer": "ipython3",
   "version": "3.9.7"
  }
 },
 "nbformat": 4,
 "nbformat_minor": 5
}
