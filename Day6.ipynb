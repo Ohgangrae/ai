{
  "nbformat": 4,
  "nbformat_minor": 0,
  "metadata": {
    "colab": {
      "name": "Day6.ipynb",
      "provenance": [],
      "collapsed_sections": [],
      "authorship_tag": "ABX9TyNmJ6ew93k/IZjk6cR9R+oZ",
      "include_colab_link": true
    },
    "kernelspec": {
      "name": "python3",
      "display_name": "Python 3"
    },
    "language_info": {
      "name": "python"
    }
  },
  "cells": [
    {
      "cell_type": "markdown",
      "metadata": {
        "id": "view-in-github",
        "colab_type": "text"
      },
      "source": [
        "<a href=\"https://colab.research.google.com/github/Ohgangrae/ai/blob/main/Day6.ipynb\" target=\"_parent\"><img src=\"https://colab.research.google.com/assets/colab-badge.svg\" alt=\"Open In Colab\"/></a>"
      ]
    },
    {
      "cell_type": "code",
      "execution_count": 1,
      "metadata": {
        "colab": {
          "base_uri": "https://localhost:8080/",
          "height": 137
        },
        "id": "Fg4j2WXY_ku4",
        "outputId": "89f54655-0a0c-4177-a81f-0e8cd3ec0889"
      },
      "outputs": [
        {
          "output_type": "error",
          "ename": "SyntaxError",
          "evalue": "ignored",
          "traceback": [
            "\u001b[0;36m  File \u001b[0;32m\"<ipython-input-1-e2221876e5b6>\"\u001b[0;36m, line \u001b[0;32m6\u001b[0m\n\u001b[0;31m    print(\" # 예외를 강제로 발생)\u001b[0m\n\u001b[0m                         ^\u001b[0m\n\u001b[0;31mSyntaxError\u001b[0m\u001b[0;31m:\u001b[0m EOL while scanning string literal\n"
          ]
        }
      ],
      "source": [
        "# 예외 처리 ( 에러 처리, 오류 처리, 버그 처리...)\n",
        "\n",
        "# 프로그램 실행 전에 발생하는 오류 - 구문 오류 syntax error\n",
        "# 프로그램 실행 중에 발생하는 오류 - 런타임 오류 runtime error, 예외 exception\n",
        "\n",
        "print(\" # 예외를 강제로 발생)\n",
        "# EOL End of Line  실행 조차 되지 않는 오류"
      ]
    },
    {
      "cell_type": "code",
      "source": [
        "print(' 프로그램이 시작되었습니다. ')\n",
        "list[0]"
      ],
      "metadata": {
        "colab": {
          "base_uri": "https://localhost:8080/",
          "height": 211
        },
        "id": "-W0KjUHA_w5v",
        "outputId": "a2663539-42da-4965-803d-8d213348f105"
      },
      "execution_count": 2,
      "outputs": [
        {
          "output_type": "stream",
          "name": "stdout",
          "text": [
            " 프로그램이 시작되었습니다. \n"
          ]
        },
        {
          "output_type": "error",
          "ename": "TypeError",
          "evalue": "ignored",
          "traceback": [
            "\u001b[0;31m---------------------------------------------------------------------------\u001b[0m",
            "\u001b[0;31mTypeError\u001b[0m                                 Traceback (most recent call last)",
            "\u001b[0;32m<ipython-input-2-46afa5e5b63f>\u001b[0m in \u001b[0;36m<module>\u001b[0;34m()\u001b[0m\n\u001b[1;32m      1\u001b[0m \u001b[0mprint\u001b[0m\u001b[0;34m(\u001b[0m\u001b[0;34m' 프로그램이 시작되었습니다. '\u001b[0m\u001b[0;34m)\u001b[0m\u001b[0;34m\u001b[0m\u001b[0;34m\u001b[0m\u001b[0m\n\u001b[0;32m----> 2\u001b[0;31m \u001b[0mlist\u001b[0m\u001b[0;34m[\u001b[0m\u001b[0;36m0\u001b[0m\u001b[0;34m]\u001b[0m\u001b[0;34m\u001b[0m\u001b[0;34m\u001b[0m\u001b[0m\n\u001b[0m",
            "\u001b[0;31mTypeError\u001b[0m: 'type' object is not subscriptable"
          ]
        }
      ]
    },
    {
      "cell_type": "code",
      "source": [
        "num_input = int(input('정수 입력 >'))\n",
        "\n",
        "\n",
        "print('원의 반지름 : ', num_input)\n",
        "print('원의 둘레', 2 * 3.14 * num_input)\n",
        "print('원의 넓이', 3.14 * num_input * num_input)"
      ],
      "metadata": {
        "colab": {
          "base_uri": "https://localhost:8080/",
          "height": 266
        },
        "id": "4NLDvXhbDlSE",
        "outputId": "87806d87-489d-42fd-953c-9d5a9c9d8f92"
      },
      "execution_count": 3,
      "outputs": [
        {
          "name": "stdout",
          "output_type": "stream",
          "text": [
            "정수 입력 >3센티\n"
          ]
        },
        {
          "output_type": "error",
          "ename": "ValueError",
          "evalue": "ignored",
          "traceback": [
            "\u001b[0;31m---------------------------------------------------------------------------\u001b[0m",
            "\u001b[0;31mValueError\u001b[0m                                Traceback (most recent call last)",
            "\u001b[0;32m<ipython-input-3-a137dfb32a17>\u001b[0m in \u001b[0;36m<module>\u001b[0;34m()\u001b[0m\n\u001b[0;32m----> 1\u001b[0;31m \u001b[0mnum_input\u001b[0m \u001b[0;34m=\u001b[0m \u001b[0mint\u001b[0m\u001b[0;34m(\u001b[0m\u001b[0minput\u001b[0m\u001b[0;34m(\u001b[0m\u001b[0;34m'정수 입력 >'\u001b[0m\u001b[0;34m)\u001b[0m\u001b[0;34m)\u001b[0m\u001b[0;34m\u001b[0m\u001b[0;34m\u001b[0m\u001b[0m\n\u001b[0m\u001b[1;32m      2\u001b[0m \u001b[0;34m\u001b[0m\u001b[0m\n\u001b[1;32m      3\u001b[0m \u001b[0;34m\u001b[0m\u001b[0m\n\u001b[1;32m      4\u001b[0m \u001b[0mprint\u001b[0m\u001b[0;34m(\u001b[0m\u001b[0;34m'원의 반지름 : '\u001b[0m\u001b[0;34m,\u001b[0m \u001b[0mnum_input\u001b[0m\u001b[0;34m)\u001b[0m\u001b[0;34m\u001b[0m\u001b[0;34m\u001b[0m\u001b[0m\n\u001b[1;32m      5\u001b[0m \u001b[0mprint\u001b[0m\u001b[0;34m(\u001b[0m\u001b[0;34m'원의 둘레'\u001b[0m\u001b[0;34m,\u001b[0m \u001b[0;36m2\u001b[0m \u001b[0;34m*\u001b[0m \u001b[0;36m3.14\u001b[0m \u001b[0;34m*\u001b[0m \u001b[0mnum_input\u001b[0m\u001b[0;34m)\u001b[0m\u001b[0;34m\u001b[0m\u001b[0;34m\u001b[0m\u001b[0m\n",
            "\u001b[0;31mValueError\u001b[0m: invalid literal for int() with base 10: '3센티'"
          ]
        }
      ]
    },
    {
      "cell_type": "code",
      "source": [
        "# if로 예외 처리하기\n",
        "num_input = input('정수 입력 >')\n",
        "\n",
        "if num_input.isdigit():\n",
        "\n",
        "  num_a = int(num_input)\n",
        "\n",
        "  print('원의 반지름 : ', num_a)\n",
        "  print('원의 둘레', 2 * 3.14 * num_a)\n",
        "  print('원의 넓이', 3.14 * num_a * num_a)\n",
        "else:\n",
        "  print('정수를 입력하세요')\n"
      ],
      "metadata": {
        "colab": {
          "base_uri": "https://localhost:8080/"
        },
        "id": "asDKUERiDpYd",
        "outputId": "34a7731d-971f-4947-c915-7243267c6101"
      },
      "execution_count": 4,
      "outputs": [
        {
          "output_type": "stream",
          "name": "stdout",
          "text": [
            "정수 입력 >resdf\n",
            "정수를 입력하세요\n"
          ]
        }
      ]
    },
    {
      "cell_type": "code",
      "source": [
        "# try except 구문\n",
        "\n",
        "try:\n",
        "  num_input = input('정수 입력 >')\n",
        "\n",
        "  num_a = int(num_input)\n",
        "\n",
        "  print('원의 반지름 : ', num_a)\n",
        "  print('원의 둘레', 2 * 3.14 * num_a)\n",
        "  print('원의 넓이', 3.14 * num_a * num_a)\n",
        "  \n",
        "except:\n",
        "  print('정수를 입력하세요')\n"
      ],
      "metadata": {
        "colab": {
          "base_uri": "https://localhost:8080/"
        },
        "id": "NMVbXqDpABi3",
        "outputId": "19ace8a5-3298-48f9-dfa4-b1173dad4e32"
      },
      "execution_count": 5,
      "outputs": [
        {
          "output_type": "stream",
          "name": "stdout",
          "text": [
            "정수 입력 >23\n",
            "원의 반지름 :  23\n",
            "원의 둘레 144.44\n",
            "원의 넓이 1661.06\n"
          ]
        }
      ]
    },
    {
      "cell_type": "code",
      "source": [
        "# 숫자만 추출하는 프로그램\n",
        "\n",
        "list_all = ['52','273','32','스파이','103']\n",
        "\n",
        "list_num = []\n",
        "\n",
        "for i in list_all:\n",
        "  try:\n",
        "    float(i)\n",
        "    list_num.append(i)\n",
        "  except:\n",
        "    pass\n",
        "\n",
        "print(list_num)"
      ],
      "metadata": {
        "colab": {
          "base_uri": "https://localhost:8080/"
        },
        "id": "g9xBEo2PDvZ6",
        "outputId": "af45bea9-7f1d-4e1f-96d7-1de708ed2c18"
      },
      "execution_count": 6,
      "outputs": [
        {
          "output_type": "stream",
          "name": "stdout",
          "text": [
            "['52', '273', '32', '103']\n"
          ]
        }
      ]
    },
    {
      "cell_type": "code",
      "source": [
        "list = ['52','273','32','스파이','103']\n",
        "try:\n",
        "  print(list[5])\n",
        "except:\n",
        "  print('존재하지 않는 인덱스 번호입니다.')"
      ],
      "metadata": {
        "colab": {
          "base_uri": "https://localhost:8080/"
        },
        "id": "yuwkNWTOF2ys",
        "outputId": "0a66e958-32ed-445d-93c4-221c0f24e8bb"
      },
      "execution_count": 7,
      "outputs": [
        {
          "output_type": "stream",
          "name": "stdout",
          "text": [
            "존재하지 않는 인덱스 번호입니다.\n"
          ]
        }
      ]
    },
    {
      "cell_type": "code",
      "source": [
        "try:\n",
        "# 예외가 발생할 가능성이 있는 코드\n",
        "\n",
        "except:\n",
        "# 예외가 발생했을 때 실행할 코드\n",
        "\n",
        "else:\n",
        "# 예외가 발생하지 않았을 때 실행할 코드 "
      ],
      "metadata": {
        "id": "BeW6ccUpF2rb"
      },
      "execution_count": null,
      "outputs": []
    },
    {
      "cell_type": "code",
      "source": [
        "try:\n",
        "  num = int(input('정수를 입력하세요>'))\n",
        "except:\n",
        "  print('정수를 입력하지 않았습니다.')\n",
        "else:\n",
        "  print('입력한 정수는 ', num,'입니다')\n",
        "\n",
        "# else 는 다른 대부분의 언어에서는 없다. else 사용을 권장하지는 않는다. "
      ],
      "metadata": {
        "colab": {
          "base_uri": "https://localhost:8080/"
        },
        "id": "Y4mJFOYqF2hW",
        "outputId": "01ca87f5-9853-4175-9a0a-90a5e36aca17"
      },
      "execution_count": 8,
      "outputs": [
        {
          "output_type": "stream",
          "name": "stdout",
          "text": [
            "정수를 입력하세요>123\n",
            "입력한 정수는  123 입니다\n"
          ]
        }
      ]
    },
    {
      "cell_type": "code",
      "source": [
        "try:\n",
        "# 예외가 발생할 가능성이 있는 코드\n",
        "\n",
        "except:\n",
        "# 예외가 발생했을 때 실행할 코드\n",
        "\n",
        "else:\n",
        "# 예외가 발생하지 않았을 때 실행할 코드 \n",
        "\n",
        "finally:\n",
        "# 항상 실행 시킬 코드\n",
        "\n",
        "# try + except\n",
        "# try + except + else\n",
        "# try + except + finally\n",
        "# try + except + else + finally\n",
        "# try + finally\n"
      ],
      "metadata": {
        "id": "zOX7KblYKDRv"
      },
      "execution_count": null,
      "outputs": []
    },
    {
      "cell_type": "code",
      "source": [
        "try:\n",
        "  num = int(input('정수를 입력하세요>'))\n",
        "except:\n",
        "  print('정수를 입력하지 않았습니다.')\n",
        "else:\n",
        "  print('입력한 정수는 ', num,'입니다')\n",
        "finally:\n",
        "  print('프로그램이 완전히 종료되었습니다.')"
      ],
      "metadata": {
        "colab": {
          "base_uri": "https://localhost:8080/"
        },
        "id": "g-954wD3LfJn",
        "outputId": "a88ef72b-59af-4240-8dfa-96588aba4260"
      },
      "execution_count": 9,
      "outputs": [
        {
          "output_type": "stream",
          "name": "stdout",
          "text": [
            "정수를 입력하세요>1234\n",
            "입력한 정수는  1234 입니다\n",
            "프로그램이 완전히 종료되었습니다.\n"
          ]
        }
      ]
    },
    {
      "cell_type": "code",
      "source": [
        "def test():\n",
        "  print('test()함수의 첫 줄입니다.')\n",
        "  try:\n",
        "    print('try  구문이 실행되었습니다.')\n",
        "    return\n",
        "    print('try 구문의 return 아래입니다.')\n",
        "  except:\n",
        "    print('except구문이 실행되었습니다.')\n",
        "  else:\n",
        "    print('else구문이 실행되었습니다.')\n",
        "  finally:\n",
        "    print('finally 구문이 실행되었습니다.')\n",
        "  print('test()함수의 마지막 줄입니다.')\n",
        "\n",
        "test()"
      ],
      "metadata": {
        "colab": {
          "base_uri": "https://localhost:8080/"
        },
        "id": "JCqMYAauNeGN",
        "outputId": "6b22f3a8-8749-4442-cda5-a839466beeda"
      },
      "execution_count": 10,
      "outputs": [
        {
          "output_type": "stream",
          "name": "stdout",
          "text": [
            "test()함수의 첫 줄입니다.\n",
            "try  구문이 실행되었습니다.\n",
            "finally 구문이 실행되었습니다.\n"
          ]
        }
      ]
    },
    {
      "cell_type": "code",
      "source": [
        "print('프로그램 실행')   ##########\n",
        "\n",
        "while True:\n",
        "  try:\n",
        "    print('try 구문 실행')\n",
        "    break\n",
        "    print('try  구문의 break 아래')\n",
        "  except:\n",
        "    print('except 구문 실행')\n",
        "  finally:\n",
        "    print('finally 구문 실행')\n",
        "  print('while의 마지막 줄')\n",
        "print('프로그램 종료')"
      ],
      "metadata": {
        "colab": {
          "base_uri": "https://localhost:8080/"
        },
        "id": "1eeOdlGZNeD1",
        "outputId": "04d51132-5d73-44c6-bb22-da14a6003822"
      },
      "execution_count": 11,
      "outputs": [
        {
          "output_type": "stream",
          "name": "stdout",
          "text": [
            "프로그램 실행\n",
            "try 구문 실행\n",
            "finally 구문 실행\n",
            "프로그램 종료\n"
          ]
        }
      ]
    },
    {
      "cell_type": "code",
      "source": [
        "while True:\n",
        "  try:\n",
        "    print('try 구문 실행)\n",
        "    break\n",
        "    print('try  구문의 break 아래')\n",
        "  except:\n",
        "    print('except 구문 실행')\n",
        "  finally:\n",
        "    print('finally 구문 실행')\n",
        "  print('while의 마지막 줄')\n",
        "print('프로그램 종료')"
      ],
      "metadata": {
        "colab": {
          "base_uri": "https://localhost:8080/",
          "height": 137
        },
        "id": "RNLyblYCNeBU",
        "outputId": "a76bf326-ab83-4e7f-962a-b034cf8dc33c"
      },
      "execution_count": 12,
      "outputs": [
        {
          "output_type": "error",
          "ename": "SyntaxError",
          "evalue": "ignored",
          "traceback": [
            "\u001b[0;36m  File \u001b[0;32m\"<ipython-input-12-330a17bd3c76>\"\u001b[0;36m, line \u001b[0;32m3\u001b[0m\n\u001b[0;31m    print('try 구문 실행)\u001b[0m\n\u001b[0m                     ^\u001b[0m\n\u001b[0;31mSyntaxError\u001b[0m\u001b[0;31m:\u001b[0m EOL while scanning string literal\n"
          ]
        }
      ]
    },
    {
      "cell_type": "code",
      "source": [
        ""
      ],
      "metadata": {
        "id": "TCasXiroNd2R"
      },
      "execution_count": null,
      "outputs": []
    }
  ]
}