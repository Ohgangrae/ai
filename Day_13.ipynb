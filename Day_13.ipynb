{
  "nbformat": 4,
  "nbformat_minor": 0,
  "metadata": {
    "colab": {
      "name": "Day 13.ipynb",
      "provenance": [],
      "authorship_tag": "ABX9TyMko4D966cbMDBOsJmvZsFL",
      "include_colab_link": true
    },
    "kernelspec": {
      "name": "python3",
      "display_name": "Python 3"
    },
    "language_info": {
      "name": "python"
    }
  },
  "cells": [
    {
      "cell_type": "markdown",
      "metadata": {
        "id": "view-in-github",
        "colab_type": "text"
      },
      "source": [
        "<a href=\"https://colab.research.google.com/github/Ohgangrae/ai/blob/main/Day_13.ipynb\" target=\"_parent\"><img src=\"https://colab.research.google.com/assets/colab-badge.svg\" alt=\"Open In Colab\"/></a>"
      ]
    },
    {
      "cell_type": "code",
      "execution_count": 5,
      "metadata": {
        "colab": {
          "base_uri": "https://localhost:8080/"
        },
        "id": "4LA1u4Xx2LX1",
        "outputId": "5f388a7d-26e9-4a7f-dcda-52e872817ba7"
      },
      "outputs": [
        {
          "output_type": "stream",
          "name": "stdout",
          "text": [
            "number3\n",
            "number2\n",
            "number1\n",
            "number4\n",
            "number5\n",
            "The last number you entered was a 5\n"
          ]
        }
      ],
      "source": [
        "# Ask the user to enter a number. Keep asking until they enter a value over 5\n",
        "# and then display the message \"The last number you entered was a [number]\"\n",
        "# and stop the program.\n",
        "\n",
        "\n",
        "a = 0\n",
        "while a<5 :\n",
        "  a = int(input(\"number\"))\n",
        "print(f\"The last number you entered was a {a}\")\n"
      ]
    },
    {
      "cell_type": "code",
      "source": [
        "a = int(input('Enter a number : '))\n",
        "\n",
        "again = 'y'\n",
        "while again == 'y':\n",
        "  b = int(input('Enter a number : '))\n",
        "  a = a + b\n",
        "  again = input('Do you want to add another number? (y/n)')\n",
        "\n",
        "print('The total is ', a)"
      ],
      "metadata": {
        "colab": {
          "base_uri": "https://localhost:8080/"
        },
        "id": "lswxOskf2LtA",
        "outputId": "1547929c-df81-4f33-b22d-f2ec34c51557"
      },
      "execution_count": 11,
      "outputs": [
        {
          "output_type": "stream",
          "name": "stdout",
          "text": [
            "Enter a number : 2\n",
            "Enter a number : 3\n",
            "Do you want to add another number? (y/n)y\n",
            "Enter a number : 5\n",
            "Do you want to add another number? (y/n)n\n",
            "The total is  10\n"
          ]
        }
      ]
    },
    {
      "cell_type": "code",
      "source": [
        "# Ask for the name of somebody the user wants to invite to a party.\n",
        "# After this, display the message '[name] has been invited' \n",
        "# and add 1 to the count. Then ask if they want to invite somebody else.\n",
        "# Keep repeating this until they no longer want to invite anyone else to the\n",
        "# party and then display how many people they have coming to the party.\n",
        "again = 'y'\n",
        "count = 0\n",
        "\n",
        "while again == 'y':\n",
        "  name = input('Enter a name of somebody you want to invite to the party? : ')\n",
        "  print(name, ' has been invited')\n",
        "  count += 1\n",
        "  again = input('Do you want to invite somebody else? (y/n)')\n",
        "\n",
        "print('You hava', count, 'people coming to your party')\n",
        "\n"
      ],
      "metadata": {
        "colab": {
          "base_uri": "https://localhost:8080/"
        },
        "id": "idLwi1T19Sh9",
        "outputId": "2e41e901-3817-4f56-b429-a47409eb7707"
      },
      "execution_count": 14,
      "outputs": [
        {
          "output_type": "stream",
          "name": "stdout",
          "text": [
            "Enter a name of somebody you want to invite to the party? : oh\n",
            "oh  has been invited\n",
            "Do you want to invite somebody else? (y/n)y\n",
            "Enter a name of somebody you want to invite to the party? : gang\n",
            "gang  has been invited\n",
            "Do you want to invite somebody else? (y/n)y\n",
            "Enter a name of somebody you want to invite to the party? : rae\n",
            "rae  has been invited\n",
            "Do you want to invite somebody else? (y/n)n\n",
            "You hava 3 people coming to your party\n"
          ]
        }
      ]
    },
    {
      "cell_type": "code",
      "source": [
        "# Create a variable called 'compnum' and set the value to 50. \n",
        "# Ask the user to enter a number. \n",
        "# while their guess is not the same as the compnum value,\n",
        "# tell them if their guess is too low or too high and ask them to have another guess.\n",
        "# If they enter the same value as compnum, \n",
        "# display the message 'Well done, you took [count] apptmpts'.\n",
        "\n",
        "compnum = 50\n",
        "\n",
        "num = int(input('Can u guess the number I am thinking of ?'))\n",
        "count = 1\n",
        "while compnum != num:\n",
        "  if num < compnum:\n",
        "    print('Too low')\n",
        "  else:\n",
        "    print('Too high')\n",
        "  count += 1\n",
        "  num = int(input('another guess : '))\n",
        "\n",
        "print('Well done, you took ',count, 'apptmpts')"
      ],
      "metadata": {
        "colab": {
          "base_uri": "https://localhost:8080/"
        },
        "id": "IjJq_39o_v2E",
        "outputId": "436921d5-c1c3-4f40-9a82-eceb4a172b2a"
      },
      "execution_count": 15,
      "outputs": [
        {
          "output_type": "stream",
          "name": "stdout",
          "text": [
            "Can u guess the number I am thinking of ?40\n",
            "Too low\n",
            "another guess : 60\n",
            "Too high\n",
            "another guess : 45\n",
            "Too low\n",
            "another guess : 50\n",
            "Well done, you took  4 apptmpts\n"
          ]
        }
      ]
    },
    {
      "cell_type": "code",
      "source": [
        "# Create a variable called 'compnum' and set the value to 50. \n",
        "# Ask the user to enter a number. \n",
        "# while their guess is not the same as the compnum value,\n",
        "# tell them if their guess is too low or too high and ask them to have another guess.\n",
        "# If they enter the same value as compnum, \n",
        "# display the message 'Well done, you took [count] apptmpts'.\n",
        "import random\n",
        "\n",
        "compnum = random.randrange(1,100)\n",
        "\n",
        "num = int(input('Can u guess the number I am thinking of ?'))\n",
        "count = 1\n",
        "while compnum != num:\n",
        "  if num < compnum:\n",
        "    print('Too low')\n",
        "  else:\n",
        "    print('Too high')\n",
        "  count += 1\n",
        "  num = int(input('another guess : '))\n",
        "\n",
        "print('Well done, you took ',count, 'apptmpts')"
      ],
      "metadata": {
        "colab": {
          "base_uri": "https://localhost:8080/"
        },
        "id": "xIt8jzU8GPGj",
        "outputId": "9b7c41e7-c395-4480-a1bc-17e16665bbbd"
      },
      "execution_count": 17,
      "outputs": [
        {
          "output_type": "stream",
          "name": "stdout",
          "text": [
            "Can u guess the number I am thinking of ?50\n",
            "Too low\n",
            "another guess : 75\n",
            "Too low\n",
            "another guess : 85\n",
            "Too low\n",
            "another guess : 99\n",
            "Too high\n",
            "another guess : 89\n",
            "Too low\n",
            "another guess : 93\n",
            "Too low\n",
            "another guess : 97\n",
            "Too high\n",
            "another guess : 96\n",
            "Well done, you took  8 apptmpts\n"
          ]
        }
      ]
    },
    {
      "cell_type": "code",
      "source": [
        "# Using the song '10 green bottles', display the lines \n",
        "# '10 green bottles' 라는 노래를 이용하여\n",
        "\n",
        "# 'There are [num] green bottles hanging on the wall, \n",
        "# [num] green bottles hanging on the wall, \n",
        "# and if 1 green bottle should accidentally fall'\n",
        "# 라는 가사를 출력하고\n",
        "\n",
        "# Then ask the question 'how many green bottles will be hanging on the wall?'\n",
        "# 남은 병의 갯수는 몇개니 라고 질문한다. \n",
        "# If the user answers correctly, display the message\n",
        "# 질문에 맞는 답을 하면 \n",
        "# 'There will be [num] green bottles hanging on the wall'\n",
        "# 몇개 남은 결과를 출력하고\n",
        "# If they answer incorrectly, display the message \n",
        "# 틀린 답을 입력하면 \n",
        "# 'No, try again' until they get if right.\n",
        "# 다시 시도하셔요 라고 맞출때까지 반복한다. \n",
        "# When the number of green bottles gets down to 0,\n",
        "# 병의 개수가 0이되면 \n",
        "# display the message 'There are no more green bottles hanging on the wall'\n",
        "# 더이상 남은 병은 없습니다. 출력하고 종료한다. \n",
        "\n",
        "\n",
        "num = 10\n",
        "\n",
        "while num > 0 :\n",
        "  print('There are', num, 'green bottles hanging on the wall,')\n",
        "  print(num,' green bottles hanging on the wall,') \n",
        "  print('and if 1 green bottle should accidentally fall')\n",
        "  num -= 1\n",
        "  ans = int(input('How many green bottles will be hanging on the wall?'))\n",
        "  if ans == num:\n",
        "    print('There will be', num, ' green bottles hanging on the wall')\n",
        "  else: \n",
        "    while ans != num:\n",
        "      ans = int(input('No, try again :'))\n",
        "print('There are no more green bottles hanging on the wall45')"
      ],
      "metadata": {
        "colab": {
          "base_uri": "https://localhost:8080/"
        },
        "id": "3OjYC9hXOL-x",
        "outputId": "6dcc3c9c-02f9-4dc6-d679-3f1621171592"
      },
      "execution_count": 20,
      "outputs": [
        {
          "output_type": "stream",
          "name": "stdout",
          "text": [
            "There are 10 green bottles hanging on the wall,\n",
            "10  green bottles hanging on the wall,\n",
            "and if 1 green bottle should accidentally fall\n",
            "How many green bottles will be hanging on the wall?6\n",
            "No, try again :5\n",
            "No, try again :9\n",
            "There are 9 green bottles hanging on the wall,\n",
            "9  green bottles hanging on the wall,\n",
            "and if 1 green bottle should accidentally fall\n",
            "How many green bottles will be hanging on the wall?6\n",
            "No, try again :5\n",
            "No, try again :4\n",
            "No, try again :8\n",
            "There are 8 green bottles hanging on the wall,\n",
            "8  green bottles hanging on the wall,\n",
            "and if 1 green bottle should accidentally fall\n",
            "How many green bottles will be hanging on the wall?7\n",
            "There will be 7  green bottles hanging on the wall\n",
            "There are 7 green bottles hanging on the wall,\n",
            "7  green bottles hanging on the wall,\n",
            "and if 1 green bottle should accidentally fall\n",
            "How many green bottles will be hanging on the wall?6\n",
            "There will be 6  green bottles hanging on the wall\n",
            "There are 6 green bottles hanging on the wall,\n",
            "6  green bottles hanging on the wall,\n",
            "and if 1 green bottle should accidentally fall\n",
            "How many green bottles will be hanging on the wall?5\n",
            "There will be 5  green bottles hanging on the wall\n",
            "There are 5 green bottles hanging on the wall,\n",
            "5  green bottles hanging on the wall,\n",
            "and if 1 green bottle should accidentally fall\n",
            "How many green bottles will be hanging on the wall?4\n",
            "There will be 4  green bottles hanging on the wall\n",
            "There are 4 green bottles hanging on the wall,\n",
            "4  green bottles hanging on the wall,\n",
            "and if 1 green bottle should accidentally fall\n",
            "How many green bottles will be hanging on the wall?3\n",
            "There will be 3  green bottles hanging on the wall\n",
            "There are 3 green bottles hanging on the wall,\n",
            "3  green bottles hanging on the wall,\n",
            "and if 1 green bottle should accidentally fall\n",
            "How many green bottles will be hanging on the wall?2\n",
            "There will be 2  green bottles hanging on the wall\n",
            "There are 2 green bottles hanging on the wall,\n",
            "2  green bottles hanging on the wall,\n",
            "and if 1 green bottle should accidentally fall\n",
            "How many green bottles will be hanging on the wall?1\n",
            "There will be 1  green bottles hanging on the wall\n",
            "There are 1 green bottles hanging on the wall,\n",
            "1  green bottles hanging on the wall,\n",
            "and if 1 green bottle should accidentally fall\n",
            "How many green bottles will be hanging on the wall?0\n",
            "There will be 0  green bottles hanging on the wall\n",
            "There are no more green bottles hanging on the wall45\n"
          ]
        }
      ]
    },
    {
      "cell_type": "code",
      "source": [
        "#########################################################\n",
        "# Random : Python can generate random values\n",
        "\n",
        "# - Random numbers within a specified range. \n",
        "# - A random choice from a range of items that are input. \n",
        "\n",
        "# To use these two options, you will need to import the random module. \n",
        "# You do this by typing import random at the start of your program."
      ],
      "metadata": {
        "id": "Va51ldXWLKmS"
      },
      "execution_count": null,
      "outputs": []
    },
    {
      "cell_type": "code",
      "source": [
        "import random\n",
        "num = random.random()\n",
        "print(num)\n",
        "\n",
        "# random floating number between 0 and 1"
      ],
      "metadata": {
        "colab": {
          "base_uri": "https://localhost:8080/"
        },
        "id": "k58Ozi4XSuII",
        "outputId": "bb8f5307-8e3b-4bee-b555-41b52f16bb6d"
      },
      "execution_count": 21,
      "outputs": [
        {
          "output_type": "stream",
          "name": "stdout",
          "text": [
            "0.685341670337531\n"
          ]
        }
      ]
    },
    {
      "cell_type": "code",
      "source": [
        "num = (random.random()) * 100\n",
        "print(num)"
      ],
      "metadata": {
        "colab": {
          "base_uri": "https://localhost:8080/"
        },
        "id": "kCqfJ3ovSx3I",
        "outputId": "2b59b4d3-f370-4f2f-88b5-775c80af5b83"
      },
      "execution_count": 22,
      "outputs": [
        {
          "output_type": "stream",
          "name": "stdout",
          "text": [
            "32.275138554543744\n"
          ]
        }
      ]
    },
    {
      "cell_type": "code",
      "source": [
        "num = int((random.random()) * 10)\n",
        "print(num)"
      ],
      "metadata": {
        "colab": {
          "base_uri": "https://localhost:8080/"
        },
        "id": "XRVKL1dbSx1K",
        "outputId": "e42d54dc-0b9b-4dfe-fdca-10e9d884a137"
      },
      "execution_count": 24,
      "outputs": [
        {
          "output_type": "stream",
          "name": "stdout",
          "text": [
            "9\n"
          ]
        }
      ]
    },
    {
      "cell_type": "code",
      "source": [
        "# Selects a random whole number between 0 and 9(inclusive)\n",
        "\n",
        "num = random.randint(0,9) #9(inclusive) 9포함\n",
        "print(num)"
      ],
      "metadata": {
        "colab": {
          "base_uri": "https://localhost:8080/"
        },
        "id": "Ty9oRxN8SxzK",
        "outputId": "72d974d8-5cbf-4e10-a5e5-9c483940d7af"
      },
      "execution_count": 28,
      "outputs": [
        {
          "output_type": "stream",
          "name": "stdout",
          "text": [
            "9\n"
          ]
        }
      ]
    },
    {
      "cell_type": "code",
      "source": [
        "# Picks a random number between the numbers 0 and 100(inclusive) in steps of five\n",
        "# it will only pick from 0,5,10,15,20....etc\n",
        "\n",
        "num = random.randrange(0, 100, 5)  # 100(inclusive)\n",
        "print(num)"
      ],
      "metadata": {
        "colab": {
          "base_uri": "https://localhost:8080/"
        },
        "id": "ku5_o24XSxw4",
        "outputId": "d8478784-16b5-445f-dbe4-5beda2c8cef4"
      },
      "execution_count": 30,
      "outputs": [
        {
          "output_type": "stream",
          "name": "stdout",
          "text": [
            "80\n"
          ]
        }
      ]
    },
    {
      "cell_type": "code",
      "source": [
        "# Picks a random value from the options.........\n",
        "\n",
        "color = random.choice(['red','black','blue','green','white'])\n",
        "print(color)"
      ],
      "metadata": {
        "colab": {
          "base_uri": "https://localhost:8080/"
        },
        "id": "QYIKLsx9Sxug",
        "outputId": "e600acca-4a4f-406e-c9db-cbd5cceede3e"
      },
      "execution_count": 32,
      "outputs": [
        {
          "output_type": "stream",
          "name": "stdout",
          "text": [
            "blue\n"
          ]
        }
      ]
    },
    {
      "cell_type": "code",
      "source": [
        "# Randomly choose either heads or tails ( 'h' or 't') \n",
        "# Ask the user to make their choice.\n",
        "# If their choice is the same as the randomly selected value,\n",
        "# display the message ' You Win ', otherwise display 'Bad luck'.\n",
        "# At the end, tell the user if the computer selected heads or tails.\n",
        "\n",
        "import random\n",
        "\n",
        "coin = random.choice(['h','t'])\n",
        "\n",
        "guess = input('Enter (h)eads or (t)ails : ')\n",
        "\n",
        "if coin == guess :\n",
        "  print('You win')\n",
        "else:\n",
        "  print('Bad luck')\n",
        "\n",
        "print(coin)"
      ],
      "metadata": {
        "colab": {
          "base_uri": "https://localhost:8080/"
        },
        "id": "HlYYoF8ZUNti",
        "outputId": "78d32ac7-1217-4183-ef61-4efa9366f333"
      },
      "execution_count": 43,
      "outputs": [
        {
          "output_type": "stream",
          "name": "stdout",
          "text": [
            "Enter (h)eads or (t)ails : h\n",
            "You win\n",
            "h\n"
          ]
        }
      ]
    },
    {
      "cell_type": "code",
      "source": [
        "# Makes a maths quiz that asks five questions \n",
        "# by randomly generating two whole numbers to make the question\n",
        "# ( [num1 + num2] )\n",
        "# Ask the user to enter the answer. \n",
        "# If they get it right add a point to their score.\n",
        "# At the end of the quiz, tell them how many they got correct out of five.\n",
        "\n",
        "# (output) ; 'You scored [score] out of 5'\n",
        "\n",
        "import random\n",
        "\n",
        "score = 0\n",
        "\n",
        "for i in range(5):\n",
        "  num1 = random.randint(1,9)\n",
        "  num2 = random.randint(1,9)\n",
        "\n",
        "  corr = num1 + num2\n",
        "\n",
        "  print(f'{num1} + {num2} = ')\n",
        "  answer = int(input('Your answer : '))\n",
        "  print()\n",
        "  if answer == corr:\n",
        "    score += 1\n",
        "\n",
        "print(f'You scored {score} out of 5')"
      ],
      "metadata": {
        "colab": {
          "base_uri": "https://localhost:8080/"
        },
        "id": "eS9WVAjsUNpw",
        "outputId": "088e2eac-1ae0-422a-bb9e-edb8c55d5208"
      },
      "execution_count": 63,
      "outputs": [
        {
          "output_type": "stream",
          "name": "stdout",
          "text": [
            "1 + 8 = \n",
            "Your answer : 1\n",
            "\n",
            "8 + 3 = \n",
            "Your answer : 11\n",
            "\n",
            "5 + 8 = \n",
            "Your answer : 13\n",
            "\n",
            "8 + 9 = \n",
            "Your answer : 17\n",
            "\n",
            "3 + 8 = \n",
            "Your answer : 12\n",
            "\n",
            "You scored 3 out of 5\n"
          ]
        }
      ]
    },
    {
      "cell_type": "code",
      "source": [
        "import random\n",
        "num1 = random.randint(0,10)\n",
        "num2 = random.randint(0,10)\n",
        "ans = int(input(f\"{num1}+{num2} = What answer?\"))\n",
        "quiz = 1\n",
        "score = 0\n",
        "while quiz < 5:\n",
        "    quiz += 1\n",
        "    num1 = random.randint(0,10)\n",
        "    num2 = random.randint(0,10)\n",
        "    ans = int(input(f\"{num1}+{num2} = What answer?\"))\n",
        "    if ans == (num1 + num2):\n",
        "        score += 1\n",
        "print(score)\n"
      ],
      "metadata": {
        "colab": {
          "base_uri": "https://localhost:8080/"
        },
        "id": "j-thkb3obfAX",
        "outputId": "ed922b62-91ef-412b-f348-2f632215f4da"
      },
      "execution_count": 78,
      "outputs": [
        {
          "output_type": "stream",
          "name": "stdout",
          "text": [
            "1+0 = What answer?1\n",
            "2+4 = What answer?6\n",
            "3+9 = What answer?12\n",
            "0+1 = What answer?1\n",
            "4+6 = What answer?2\n",
            "3\n"
          ]
        }
      ]
    },
    {
      "cell_type": "code",
      "source": [
        "import random\n",
        "\n",
        "color = random.choice(['red','black','blue','green','white'])\n",
        "yc = input('red, black, blue, green, white : ')\n",
        "\n",
        "\n",
        "if color == yc:\n",
        "  print('goodgood')\n",
        "elif 'blue' == yc:\n",
        "  print('summer color')\n",
        "elif 'red' == yc:\n",
        "  print('hotHot')\n",
        "elif 'black' == yc:\n",
        "  print('blackblack')\n",
        "elif 'green' == yc:\n",
        "  print('greengreen')\n",
        "elif 'white' == yc:\n",
        "  print('whitewhite')\n",
        "else:\n",
        "  print('You are probably feeling BLUE right now')\n",
        "\n",
        "\n",
        "\n"
      ],
      "metadata": {
        "colab": {
          "base_uri": "https://localhost:8080/"
        },
        "id": "7SMbeicjbeuf",
        "outputId": "c762ec50-e2f5-4f2a-cb5c-4997f2f82706"
      },
      "execution_count": 90,
      "outputs": [
        {
          "output_type": "stream",
          "name": "stdout",
          "text": [
            "red, black, blue, green, white : red\n",
            "hotHot\n"
          ]
        }
      ]
    }
  ]
}