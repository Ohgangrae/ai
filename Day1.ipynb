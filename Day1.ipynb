{
  "nbformat": 4,
  "nbformat_minor": 0,
  "metadata": {
    "colab": {
      "name": "Untitled0.ipynb",
      "provenance": [],
      "authorship_tag": "ABX9TyNsoHPNZX/nuNXeFcvJRKpm",
      "include_colab_link": true
    },
    "kernelspec": {
      "name": "python3",
      "display_name": "Python 3"
    },
    "language_info": {
      "name": "python"
    }
  },
  "cells": [
    {
      "cell_type": "markdown",
      "metadata": {
        "id": "view-in-github",
        "colab_type": "text"
      },
      "source": [
        "<a href=\"https://colab.research.google.com/github/Ohgangrae/ai/blob/main/Day1.ipynb\" target=\"_parent\"><img src=\"https://colab.research.google.com/assets/colab-badge.svg\" alt=\"Open In Colab\"/></a>"
      ]
    },
    {
      "cell_type": "code",
      "execution_count": 1,
      "metadata": {
        "colab": {
          "base_uri": "https://localhost:8080/"
        },
        "id": "fsrzkDypxOmv",
        "outputId": "d24baa3d-87c5-40a2-f2dd-fcee0531f223"
      },
      "outputs": [
        {
          "output_type": "stream",
          "name": "stdout",
          "text": [
            "Hello World\n"
          ]
        }
      ],
      "source": [
        "print('Hello World')"
      ]
    },
    {
      "cell_type": "code",
      "source": [
        "'''\n",
        "작성자 : 오강래\n",
        "'''\n"
      ],
      "metadata": {
        "colab": {
          "base_uri": "https://localhost:8080/",
          "height": 35
        },
        "id": "eBq83APF52hY",
        "outputId": "dfaa6014-6a8c-4c2b-ca6f-86bee68c75c4"
      },
      "execution_count": 2,
      "outputs": [
        {
          "output_type": "execute_result",
          "data": {
            "application/vnd.google.colaboratory.intrinsic+json": {
              "type": "string"
            },
            "text/plain": [
              "'\\n작성자 : 오강래\\n'"
            ]
          },
          "metadata": {},
          "execution_count": 2
        }
      ]
    },
    {
      "cell_type": "code",
      "source": [
        "#작성자 : 오강래"
      ],
      "metadata": {
        "id": "n4KoLhBs5_LF"
      },
      "execution_count": 3,
      "outputs": []
    },
    {
      "cell_type": "code",
      "source": [
        "# ㅇㄹㅇㄹㅇㄹ\n",
        "# ㅇㄹㅇㄹㅇㄹ\n",
        "# ㅇㄹㅇㄹㅇㄹ\n",
        "\n",
        "#주석붙이는 위치\n",
        " \n",
        "print(\"Hello World\")"
      ],
      "metadata": {
        "colab": {
          "base_uri": "https://localhost:8080/"
        },
        "id": "BHvli8Ss6T1e",
        "outputId": "8f5d8a30-0595-48b0-cc77-6618b231d4fc"
      },
      "execution_count": 4,
      "outputs": [
        {
          "output_type": "stream",
          "name": "stdout",
          "text": [
            "Hello World\n"
          ]
        }
      ]
    },
    {
      "cell_type": "code",
      "source": [
        "name = 'Alice'\n",
        "age = 25\n",
        "address = '''우편번호 12345\n",
        "서울시 영등포구 여의도동\n",
        "서울빌딩 501호'''\n",
        "boyfriend = None\n",
        "height = 168.5\n",
        "\n",
        "print(name)\n",
        "print(age)\n",
        "print(address)\n",
        "print(boyfriend)\n",
        "print(height)\n"
      ],
      "metadata": {
        "colab": {
          "base_uri": "https://localhost:8080/"
        },
        "id": "EMaxoq2vCqwG",
        "outputId": "25cfad22-c39b-40df-9a32-0d33eeb45004"
      },
      "execution_count": 5,
      "outputs": [
        {
          "output_type": "stream",
          "name": "stdout",
          "text": [
            "Alice\n",
            "25\n",
            "우편번호 12345\n",
            "서울시 영등포구 여의도동\n",
            "서울빌딩 501호\n",
            "None\n",
            "168.5\n"
          ]
        }
      ]
    },
    {
      "cell_type": "code",
      "source": [
        "a = int(1.9)\n",
        "print(a)\n",
        "\n",
        "b = int(True)\n",
        "print(b)\n",
        "\n",
        "b = int(False)\n",
        "print(b)\n",
        "\n",
        "c = int(False)\n",
        "print(c)"
      ],
      "metadata": {
        "colab": {
          "base_uri": "https://localhost:8080/"
        },
        "id": "uQOzFzNwEOe5",
        "outputId": "8f12fecc-1d5a-4fed-b19c-04d598e1032b"
      },
      "execution_count": 10,
      "outputs": [
        {
          "output_type": "stream",
          "name": "stdout",
          "text": [
            "1\n",
            "1\n",
            "0\n",
            "0\n"
          ]
        }
      ]
    },
    {
      "cell_type": "code",
      "source": [
        "a = 100\n",
        "b = '100'\n",
        "print(type(a))\n",
        "print(type(b))\n",
        "\n",
        "print(a)\n",
        "print(b)\n",
        "print(a==b)\n",
        "\n",
        "c = int(b)\n",
        "print(type(c))\n",
        "print(a==c)"
      ],
      "metadata": {
        "colab": {
          "base_uri": "https://localhost:8080/"
        },
        "id": "lmWvwYS7FTB4",
        "outputId": "73e59597-3172-48aa-8da8-7ff237989101"
      },
      "execution_count": 12,
      "outputs": [
        {
          "output_type": "stream",
          "name": "stdout",
          "text": [
            "<class 'int'>\n",
            "<class 'str'>\n",
            "100\n",
            "100\n",
            "False\n",
            "<class 'int'>\n",
            "True\n"
          ]
        }
      ]
    },
    {
      "cell_type": "code",
      "source": [
        "#실수 float\n",
        "\n",
        "a = float(1)\n",
        "print(a)\n",
        "\n",
        "b = float(True)\n",
        "print(b)\n",
        "\n",
        "c = float('3.14')\n",
        "print(c)\n",
        "print(type(c))\n",
        "\n",
        "d = float('100')\n",
        "print(d)"
      ],
      "metadata": {
        "colab": {
          "base_uri": "https://localhost:8080/"
        },
        "id": "HagJjVMGGZlF",
        "outputId": "75779119-2d7d-48cb-9009-8fccf1c83732"
      },
      "execution_count": 16,
      "outputs": [
        {
          "output_type": "stream",
          "name": "stdout",
          "text": [
            "1.0\n",
            "1.0\n",
            "3.14\n",
            "<class 'float'>\n",
            "100.0\n"
          ]
        }
      ]
    },
    {
      "cell_type": "code",
      "source": [
        "a = bool(0)\n",
        "print(a)\n",
        "\n",
        "b = bool()\n",
        "print(b)"
      ],
      "metadata": {
        "colab": {
          "base_uri": "https://localhost:8080/"
        },
        "id": "tXAysDoWarp_",
        "outputId": "50ae5932-2299-4a61-d820-3435d35b8d8b"
      },
      "execution_count": 18,
      "outputs": [
        {
          "output_type": "stream",
          "name": "stdout",
          "text": [
            "False\n",
            "False\n"
          ]
        }
      ]
    },
    {
      "cell_type": "code",
      "source": [
        "#문자열 String\n",
        "\n",
        "a = '대한민국'\n",
        "a = \"대한민국\"\n",
        "\n",
        "b = str(100)\n",
        "print(b)\n",
        "print(type(b))\n",
        "\n",
        "c = str(True)\n",
        "print(c)\n",
        "print(type(c))"
      ],
      "metadata": {
        "colab": {
          "base_uri": "https://localhost:8080/"
        },
        "id": "DJ5NBIa6bfLb",
        "outputId": "0bdbcb14-d90a-4193-8f10-dbc1faccfe4d"
      },
      "execution_count": 20,
      "outputs": [
        {
          "output_type": "stream",
          "name": "stdout",
          "text": [
            "100\n",
            "<class 'str'>\n",
            "True\n",
            "<class 'str'>\n"
          ]
        }
      ]
    },
    {
      "cell_type": "code",
      "source": [
        "# 문자열 인덱싱\n",
        "\n",
        "\n",
        "# hello 파이썬은 0에서 시작한다.\n",
        "\n",
        "s = 'Hello'\n",
        "print(s[4])\n",
        "\n",
        "print(s[-1])\n",
        "print(s[-5] == s[0])\n",
        "\n",
        "\n",
        "ss = \"990211-1005432\"\n",
        "print(ss[7])\n"
      ],
      "metadata": {
        "colab": {
          "base_uri": "https://localhost:8080/"
        },
        "id": "V0-iaY9Rch5g",
        "outputId": "2df4ab31-9eb3-4e91-9ba9-b853a124cd3a"
      },
      "execution_count": 26,
      "outputs": [
        {
          "output_type": "stream",
          "name": "stdout",
          "text": [
            "o\n",
            "o\n",
            "True\n",
            "1\n",
            "99\n"
          ]
        }
      ]
    },
    {
      "cell_type": "code",
      "source": [
        "ss = \"990211-1005432\"\n",
        "\n",
        "print(ss[0:2]) # 0 번째 부터 2번째 미만까지.. [start:stop:step]\n",
        "print(ss[0:2]) # step 은 생략 가능...\n",
        "print(ss[0:10:2])"
      ],
      "metadata": {
        "colab": {
          "base_uri": "https://localhost:8080/"
        },
        "id": "UGxzKgDdfpxi",
        "outputId": "9efd69d8-3c0f-4eae-99ac-129b571c4c3a"
      },
      "execution_count": 28,
      "outputs": [
        {
          "output_type": "stream",
          "name": "stdout",
          "text": [
            "99\n",
            "99\n",
            "901-0\n"
          ]
        }
      ]
    },
    {
      "cell_type": "code",
      "source": [
        "# print\n",
        " print('Hello 'world'')"
      ],
      "metadata": {
        "colab": {
          "base_uri": "https://localhost:8080/",
          "height": 137
        },
        "id": "EHY5XAyrgYtL",
        "outputId": "d21cd0d5-11d0-46ca-dfab-da7cfb59cafc"
      },
      "execution_count": 29,
      "outputs": [
        {
          "output_type": "error",
          "ename": "IndentationError",
          "evalue": "ignored",
          "traceback": [
            "\u001b[0;36m  File \u001b[0;32m\"<ipython-input-29-fee9d645a07b>\"\u001b[0;36m, line \u001b[0;32m2\u001b[0m\n\u001b[0;31m    print('Hello 'world'')\u001b[0m\n\u001b[0m    ^\u001b[0m\n\u001b[0;31mIndentationError\u001b[0m\u001b[0;31m:\u001b[0m unexpected indent\n"
          ]
        }
      ]
    },
    {
      "cell_type": "code",
      "source": [
        "print(\"Hello 'World'\")"
      ],
      "metadata": {
        "colab": {
          "base_uri": "https://localhost:8080/"
        },
        "id": "48WsO333hevb",
        "outputId": "690ec097-524d-4808-efd3-ca06335ed26a"
      },
      "execution_count": 30,
      "outputs": [
        {
          "output_type": "stream",
          "name": "stdout",
          "text": [
            "Hello 'World'\n"
          ]
        }
      ]
    },
    {
      "cell_type": "code",
      "source": [
        "print('Hello \\'World\\'')\n",
        "print(\"Hello \\\"World\\\"\")\n",
        "print('Hello \\\"World\\\"')\n",
        "# \\뒤에는 문자로 인식  한다고 생각하면 편함"
      ],
      "metadata": {
        "colab": {
          "base_uri": "https://localhost:8080/"
        },
        "id": "qI3ixBD7hkPf",
        "outputId": "f8aa0e81-e9d2-477f-e5cf-7c791566f79d"
      },
      "execution_count": 32,
      "outputs": [
        {
          "output_type": "stream",
          "name": "stdout",
          "text": [
            "Hello 'World'\n",
            "Hello \"World\"\n"
          ]
        }
      ]
    },
    {
      "cell_type": "code",
      "source": [
        "print('Hello \\n\"World\"')"
      ],
      "metadata": {
        "colab": {
          "base_uri": "https://localhost:8080/"
        },
        "id": "foWJBZQPiO0F",
        "outputId": "e4929eda-cb1c-4058-c469-6856ee538944"
      },
      "execution_count": 33,
      "outputs": [
        {
          "output_type": "stream",
          "name": "stdout",
          "text": [
            "Hello \n",
            "\"World\"\n"
          ]
        }
      ]
    },
    {
      "cell_type": "code",
      "source": [
        "print(\"이름 \\n전화\")"
      ],
      "metadata": {
        "colab": {
          "base_uri": "https://localhost:8080/"
        },
        "id": "uiF88NqTip8q",
        "outputId": "d157f320-0842-4251-96da-74e056bf37aa"
      },
      "execution_count": 34,
      "outputs": [
        {
          "output_type": "stream",
          "name": "stdout",
          "text": [
            "이름 \n",
            "전화\n"
          ]
        }
      ]
    },
    {
      "cell_type": "code",
      "source": [
        "print('이름\\t연락처')\n",
        "print('홍길동\\t010-2345-5678')"
      ],
      "metadata": {
        "colab": {
          "base_uri": "https://localhost:8080/"
        },
        "id": "6373woRCivmA",
        "outputId": "206fcb4a-0450-42a0-96e2-f015d42f3523"
      },
      "execution_count": 36,
      "outputs": [
        {
          "output_type": "stream",
          "name": "stdout",
          "text": [
            "이름\t연락처\n",
            "홍길동\t010-2345-5678\n"
          ]
        }
      ]
    },
    {
      "cell_type": "code",
      "source": [
        "print('재미있는 ','파이썬')"
      ],
      "metadata": {
        "colab": {
          "base_uri": "https://localhost:8080/"
        },
        "id": "ZVw0tL0EjfdK",
        "outputId": "db18f4ee-7e09-4b57-aabf-6baa31d7e134"
      },
      "execution_count": 37,
      "outputs": [
        {
          "output_type": "stream",
          "name": "stdout",
          "text": [
            "재미있는  파이썬\n"
          ]
        }
      ]
    },
    {
      "cell_type": "code",
      "source": [
        "print('평점', end=':')\n",
        "print('5점')"
      ],
      "metadata": {
        "colab": {
          "base_uri": "https://localhost:8080/"
        },
        "id": "OqA6Gnlpj2GU",
        "outputId": "660c8321-c0e5-46ca-b24d-364548e18a98"
      },
      "execution_count": 39,
      "outputs": [
        {
          "output_type": "stream",
          "name": "stdout",
          "text": [
            "평점:5점\n"
          ]
        }
      ]
    },
    {
      "cell_type": "code",
      "source": [
        "print('국어','영어','수학')\n",
        "print('국어','영어','수학', sep = '/')\n",
        "print('국어','영어','수학', sep = ', ')\n",
        "print('국어','영어','수학', sep = '\\n')\n",
        "print('\\n국어\\n영어\\n수학')"
      ],
      "metadata": {
        "colab": {
          "base_uri": "https://localhost:8080/"
        },
        "id": "aIbwKuYAoxUm",
        "outputId": "d4b29a85-ae4c-400c-963c-bb433bae38f4"
      },
      "execution_count": 45,
      "outputs": [
        {
          "output_type": "stream",
          "name": "stdout",
          "text": [
            "국어 영어 수학\n",
            "국어/영어/수학\n",
            "국어, 영어, 수학\n",
            "국어\n",
            "영어\n",
            "수학\n",
            "\n",
            "국어\n",
            "영어\n",
            "수학\n"
          ]
        }
      ]
    },
    {
      "cell_type": "code",
      "source": [
        "# %연산자\n",
        "\n",
        "print(10)\n",
        "print('%d' % 10) # %d decimal 정수\n",
        "print('%f' % 3.14) # %f float 실수\n",
        "print('%s' % '학생') # %s string 문자열\n",
        "\n",
        "print('%d 을 입력하세요' % 10)\n",
        "print('원주율은 %f 입니다.' %3.14)\n",
        "print('원주율은 %s 입니다.' %3.14)\n",
        "std = \"대학생\"\n",
        "print('저는 %s입니다.' % std)\n",
        "print('저는', std,'입니다.')"
      ],
      "metadata": {
        "colab": {
          "base_uri": "https://localhost:8080/"
        },
        "id": "VM9exWs3qfsF",
        "outputId": "e78da1e6-8694-4996-e79d-2e20f5d50d70"
      },
      "execution_count": 50,
      "outputs": [
        {
          "output_type": "stream",
          "name": "stdout",
          "text": [
            "10\n",
            "10\n",
            "3.140000\n",
            "학생\n",
            "10 을 입력하세요\n",
            "원주율은 3.140000 입니다.\n",
            "원주율은 3.14 입니다.\n",
            "저는 대학생입니다.\n",
            "저는 대학생 입니다.\n"
          ]
        }
      ]
    },
    {
      "cell_type": "code",
      "source": [
        "print(\"%d\" % 1)\n",
        "print(\"%5d\" % 1)\n",
        "print(\"%-5d\" % 1)\n",
        "print(\"%5d\" % 11)\n",
        "print(\"%-5d\" % 11)"
      ],
      "metadata": {
        "colab": {
          "base_uri": "https://localhost:8080/"
        },
        "id": "d-KX-QZctaiv",
        "outputId": "8a00fcd8-0fb0-4e2f-c846-25e9e6ebff80"
      },
      "execution_count": 52,
      "outputs": [
        {
          "output_type": "stream",
          "name": "stdout",
          "text": [
            "1\n",
            "    1\n",
            "1    \n",
            "   11\n",
            "11   \n"
          ]
        }
      ]
    },
    {
      "cell_type": "code",
      "source": [
        "print('원주율은 %f 입니다.' %3.14)\n",
        "print('원주율은 %5.1f 입니다.' %3.14)\n",
        "print('원주율은 %-5.1f 입니다.' %3.14)\n",
        "print('원주율은 %.2f 입니다.' %3.14)"
      ],
      "metadata": {
        "colab": {
          "base_uri": "https://localhost:8080/"
        },
        "id": "jbsR2_weuA-6",
        "outputId": "d4369180-db78-43c3-ffae-8f8384e53131"
      },
      "execution_count": 57,
      "outputs": [
        {
          "output_type": "stream",
          "name": "stdout",
          "text": [
            "원주율은 3.140000 입니다.\n",
            "원주율은   3.1 입니다.\n",
            "원주율은 3.1   입니다.\n",
            "원주율은 3.14 입니다.\n"
          ]
        }
      ]
    },
    {
      "cell_type": "code",
      "source": [
        "name = 'kai'\n",
        "print('내 이름은 %s입니다.' %name)\n"
      ],
      "metadata": {
        "colab": {
          "base_uri": "https://localhost:8080/"
        },
        "id": "B5ByQgo7vMEU",
        "outputId": "02cf0199-bdf3-4ad7-eb91-99240cfc4d40"
      },
      "execution_count": 58,
      "outputs": [
        {
          "output_type": "stream",
          "name": "stdout",
          "text": [
            "내 이름은 kai입니다.\n"
          ]
        }
      ]
    },
    {
      "cell_type": "code",
      "source": [
        "height = 185.5\n",
        "print('내 키는 %.1f입니다.' %height)\n",
        "print('내 키는 %s입니다.' %height)\n",
        "print('내 키는 %s이고 이름은 %s입니다.' %(height, name))\n",
        "print('내 키는 {}이고 이름은 {}입니다.' .format(height, name))\n"
      ],
      "metadata": {
        "colab": {
          "base_uri": "https://localhost:8080/"
        },
        "id": "-JGAYBO8vb48",
        "outputId": "1c3fc75b-0c01-4fea-e171-392853c69a66"
      },
      "execution_count": 64,
      "outputs": [
        {
          "output_type": "stream",
          "name": "stdout",
          "text": [
            "내 키는 185.5입니다.\n",
            "내 키는 185.5입니다.\n",
            "내 키는 185.5이고 이름은 kai입니다.\n",
            "내 키는 185.5이고 이름은 kai입니다.\n"
          ]
        }
      ]
    },
    {
      "cell_type": "code",
      "source": [
        "# format()\n",
        "\n",
        "zipcode = '06236'\n",
        "print('우편번호 : %s' % zipcode)\n",
        "print('우편번호 : {}'.format(zipcode))"
      ],
      "metadata": {
        "colab": {
          "base_uri": "https://localhost:8080/"
        },
        "id": "Qy6IYAXIv5gE",
        "outputId": "8ee5d861-d959-46d6-c4ae-acc7f59e5937"
      },
      "execution_count": 62,
      "outputs": [
        {
          "output_type": "stream",
          "name": "stdout",
          "text": [
            "우편번호 : 06236\n",
            "우편번호 : 06236\n"
          ]
        }
      ]
    },
    {
      "cell_type": "code",
      "source": [
        "print('My name is {}. I\\'m {} years old.'.format('James', 25))\n",
        "print('My name is {1}. I\\'m {0} years old.'.format(25, 'James'))\n",
        "print('My name is {name}. I\\'m {age} years old.'.format(age=25, name='James'))"
      ],
      "metadata": {
        "colab": {
          "base_uri": "https://localhost:8080/"
        },
        "id": "qJeJfX5_2Hr7",
        "outputId": "20d76b7f-27ca-4a98-999e-283a28a286cb"
      },
      "execution_count": 69,
      "outputs": [
        {
          "output_type": "stream",
          "name": "stdout",
          "text": [
            "My name is James. I'm 25 years old.\n",
            "My name is James. I'm 25 years old.\n",
            "My name is James. I'm 25 years old.\n"
          ]
        }
      ]
    },
    {
      "cell_type": "code",
      "source": [
        "# f-strings\n",
        "# 파이썬 3.6 이후 부터 사용 가능\n",
        "\n",
        "\n",
        "who = 'you'\n",
        "how = 'happy'\n",
        "print(f'{who} make me {how}')"
      ],
      "metadata": {
        "colab": {
          "base_uri": "https://localhost:8080/"
        },
        "id": "4tIeAV3X24C8",
        "outputId": "8fed15ac-b720-4116-cea3-6b399bd45c18"
      },
      "execution_count": 71,
      "outputs": [
        {
          "output_type": "stream",
          "name": "stdout",
          "text": [
            "you make me happy\n"
          ]
        }
      ]
    },
    {
      "cell_type": "code",
      "source": [
        "age = 25\n",
        "print(f'내년에는 {age+1} 입니다.')"
      ],
      "metadata": {
        "colab": {
          "base_uri": "https://localhost:8080/"
        },
        "id": "Val2F_uK3ryd",
        "outputId": "e169c544-9b25-40f1-cfcc-444c4b556c3e"
      },
      "execution_count": 72,
      "outputs": [
        {
          "output_type": "stream",
          "name": "stdout",
          "text": [
            "내년에는 26 입니다.\n"
          ]
        }
      ]
    },
    {
      "cell_type": "code",
      "source": [
        "##################\n",
        "# 입력 input()\n",
        "##################\n",
        "\n",
        "n = input()\n",
        "print(f'당신이 입력한 내용은 {n} 입니다.')\n",
        "print('당신이 입력한 내용은', n, '입니다.')"
      ],
      "metadata": {
        "colab": {
          "base_uri": "https://localhost:8080/"
        },
        "id": "mbktCvm24Xqj",
        "outputId": "63ba5ba9-a840-479a-e321-e0d32abc93a0"
      },
      "execution_count": 74,
      "outputs": [
        {
          "output_type": "stream",
          "name": "stdout",
          "text": [
            "123\n",
            "당신이 입력한 내용은 123 입니다.\n",
            "당신이 입력한 내용은 123 입니다.\n"
          ]
        }
      ]
    },
    {
      "cell_type": "code",
      "source": [
        "n = input('당신의 나이를 입력하세요')\n",
        "print(f'당신의 나이는 {n} 입니다.')\n",
        "print('당신의 나이는', n, '입니다.')"
      ],
      "metadata": {
        "colab": {
          "base_uri": "https://localhost:8080/"
        },
        "id": "8AOal4kE5YNw",
        "outputId": "c5e97209-351f-4cb2-b8a8-4f2076ae7f8b"
      },
      "execution_count": 79,
      "outputs": [
        {
          "output_type": "stream",
          "name": "stdout",
          "text": [
            "당신의 나이를 입력하세요23\n",
            "당신의 나이는 23 입니다.\n",
            "당신의 나이는 23 입니다.\n"
          ]
        }
      ]
    },
    {
      "cell_type": "code",
      "source": [
        "name = input('당신의 이름을 입력하세요')\n",
        "age = input('당신의 나이를 입력하세요')\n",
        "print(f'당신의 이름은 {name}이고 나이는 {age} 입니다.')\n",
        "\n"
      ],
      "metadata": {
        "colab": {
          "base_uri": "https://localhost:8080/"
        },
        "id": "XvTaOqgC5saD",
        "outputId": "72a4f12d-70bd-4cfd-f829-4fbdf7d01a36"
      },
      "execution_count": 82,
      "outputs": [
        {
          "output_type": "stream",
          "name": "stdout",
          "text": [
            "당신의 이름과 나이를 입력하세요오강래\n",
            "당신의 이름과 나이를 입력하세요25\n",
            "당신의 이름은 오강래이고 나이는 25 입니다.\n"
          ]
        }
      ]
    },
    {
      "cell_type": "code",
      "source": [
        "name = input('당신의 이름을 입력하세요')\n",
        "age = int(input('당신의 나이를 입력하세요'))\n",
        "\n",
        "# 1 기본\n",
        "print('당신의 이름은', name, '이고 나이는', age, '입니다.')\n",
        "# 2 f-string\n",
        "print(f'당신의 이름은 {name} 이고 나이는 {age} 입니다.')\n",
        "# 3 format()\n",
        "print('당신의 이름은 {} 이고 나이는 {} 입니다.'.format(name, age))\n",
        "# 4 % 연산자\n",
        "print('당신의 이름은 %s 이고 나이는 %s 입니다.' % (name, age))\n",
        "\n",
        "print(name, type(name))\n",
        "print(age, type(age))"
      ],
      "metadata": {
        "colab": {
          "base_uri": "https://localhost:8080/"
        },
        "id": "BRexXC0n7L5G",
        "outputId": "2d41a952-0564-4cae-9129-f3d158d9c0b4"
      },
      "execution_count": 90,
      "outputs": [
        {
          "output_type": "stream",
          "name": "stdout",
          "text": [
            "당신의 이름을 입력하세요오강래\n",
            "당신의 나이를 입력하세요26\n",
            "당신의 이름은 오강래 이고 나이는 26 입니다.\n",
            "당신의 이름은 오강래 이고 나이는 26 입니다.\n",
            "당신의 이름은 오강래 이고 나이는 26 입니다.\n",
            "당신의 이름은 오강래 이고 나이는 26 입니다.\n",
            "오강래 <class 'str'>\n",
            "26 <class 'int'>\n"
          ]
        }
      ]
    },
    {
      "cell_type": "code",
      "source": [
        "# 50000원짜리 물건을 할부로 구입하고\n",
        "# 매달 내는 금액을 계산하는 프로그램을 작성해보자.\n",
        "# 할부 개월은 입력을 받아서 계산한다.\n",
        "# 할부 개월 입력 :\n",
        "# ? 개월 동안 매달 내는 금액은 ? 입니다.\n",
        "\n",
        "month = int(input('할부 개월 입력 : '))\n",
        "value = (50000/month)\n",
        "# 1 기본\n",
        "print(month ,'개월 동안 매달 내는 금액은',value ,'입니다.')\n",
        "\n",
        "# 2 f-string\n",
        "print(f'{month}개월 동안 매달 내는 금액은 {value}입니다.')\n",
        "\n",
        "# 3 format()\n",
        "print('{}개월 동안 매달 내는 금액은 {} 입니다.'.format(month, value))\n",
        "# 4 % 연산자\n",
        "print('%s개월 동안 매달 내는 금액은 %s 입니다.'%(month, value))\n"
      ],
      "metadata": {
        "colab": {
          "base_uri": "https://localhost:8080/"
        },
        "id": "QNYm4wPF91c0",
        "outputId": "77bf7015-65f6-4321-9d7e-30b0c941852e"
      },
      "execution_count": 99,
      "outputs": [
        {
          "output_type": "stream",
          "name": "stdout",
          "text": [
            "할부 개월 입력 : 2\n",
            "2 개월 동안 매달 내는 금액은 25000.0 입니다.\n",
            "2개월 동안 매달 내는 금액은 25000.0입니다.\n",
            "2개월 동안 매달 내는 금액은 25000.0 입니다.\n",
            "2개월 동안 매달 내는 금액은 25000.0 입니다.\n"
          ]
        }
      ]
    },
    {
      "cell_type": "code",
      "source": [
        "# 더 좋은 방법!!!!!\n",
        "\n",
        "# 50000원짜리 물건을 할부로 구입하고\n",
        "# 매달 내는 금액을 계산하는 프로그램을 작성해보자.\n",
        "# 할부 개월은 입력을 받아서 계산한다.\n",
        "# 할부 개월 입력 :\n",
        "# ? 개월 동안 매달 내는 금액은 ? 입니다.\n",
        "\n",
        "month = int(input('할부 개월 입력 : '))\n",
        "sum = 50000\n",
        "value = round(sum/month,2)\n",
        "# 1 기본\n",
        "print(month ,'개월 동안 매달 내는 금액은',value ,'입니다.')\n",
        "\n",
        "# 2 f-string\n",
        "print(f'{month}개월 동안 매달 내는 금액은 {value}입니다.')\n",
        "\n",
        "# 3 format()\n",
        "print('{}개월 동안 매달 내는 금액은 {} 입니다.'.format(month, value))\n",
        "# 4 % 연산자\n",
        "print('%s개월 동안 매달 내는 금액은 %s 입니다.'%(month, value))"
      ],
      "metadata": {
        "colab": {
          "base_uri": "https://localhost:8080/"
        },
        "id": "J_uR1PLPEboe",
        "outputId": "d9e46aa5-fbc7-4b13-ddeb-e3035c964eb9"
      },
      "execution_count": 103,
      "outputs": [
        {
          "output_type": "stream",
          "name": "stdout",
          "text": [
            "할부 개월 입력 : 3\n",
            "3 개월 동안 매달 내는 금액은 16666.67 입니다.\n",
            "3개월 동안 매달 내는 금액은 16666.67입니다.\n",
            "3개월 동안 매달 내는 금액은 16666.67 입니다.\n",
            "3개월 동안 매달 내는 금액은 16666.67 입니다.\n"
          ]
        }
      ]
    },
    {
      "cell_type": "code",
      "source": [
        "# 사용자로 부터 2개의 실수를 입력받아 합계를 구하는 프로그램을 작성하세요\n",
        "\n",
        "# 실수 1 :\n",
        "# 실수 2:\n",
        "# ?과 ?의 합계는 ?입니다.\n",
        "\n",
        "\n",
        "\n",
        "\n"
      ],
      "metadata": {
        "id": "7BRQoqzlFdgq"
      },
      "execution_count": null,
      "outputs": []
    }
  ]
}