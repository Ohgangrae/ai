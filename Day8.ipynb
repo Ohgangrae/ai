{
  "nbformat": 4,
  "nbformat_minor": 0,
  "metadata": {
    "colab": {
      "name": "Day8.ipynb",
      "provenance": [],
      "collapsed_sections": [],
      "authorship_tag": "ABX9TyOr2TpPCSVLfTivlAvUnPLa",
      "include_colab_link": true
    },
    "kernelspec": {
      "name": "python3",
      "display_name": "Python 3"
    },
    "language_info": {
      "name": "python"
    }
  },
  "cells": [
    {
      "cell_type": "markdown",
      "metadata": {
        "id": "view-in-github",
        "colab_type": "text"
      },
      "source": [
        "<a href=\"https://colab.research.google.com/github/Ohgangrae/ai/blob/main/Day8.ipynb\" target=\"_parent\"><img src=\"https://colab.research.google.com/assets/colab-badge.svg\" alt=\"Open In Colab\"/></a>"
      ]
    },
    {
      "cell_type": "code",
      "execution_count": 3,
      "metadata": {
        "colab": {
          "base_uri": "https://localhost:8080/"
        },
        "id": "d4ffsHQd8I1P",
        "outputId": "dc87571d-4cd9-4438-edc1-5b94de934dfe"
      },
      "outputs": [
        {
          "output_type": "stream",
          "name": "stdout",
          "text": [
            "이름\t\t총점\t\t평균\n",
            "슈가\t\t368\t\t92.0\n",
            "진\t\t372\t\t93.0\n",
            "카리\t\t386\t\t96.5\n"
          ]
        }
      ],
      "source": [
        "# 클래스와 객체\n",
        "\n",
        "# C언어를 제외한 대부분의 언어는 객체 지향 프로그래밍 Object Oriented Programming : OOP 언어이다. \n",
        "# 객체지향 언어는 클래스를 기반으로 객체를 만들고 그 객체들을 우선으로 생각해서 프로그래밍 하는것을 철학으로 한다. \n",
        "\n",
        "# 객체\n",
        "\n",
        "students = [\n",
        "            {'name':'슈가', 'korean':87, 'math':98, 'eng':88, 'sci':95},\n",
        "            {'name':'진', 'korean':90, 'math':99, 'eng':86, 'sci':97},\n",
        "            {'name':'카리', 'korean':99, 'math': 89, 'eng':99, 'sci':99}\n",
        "]\n",
        "\n",
        "print('이름','총점','평균', sep='\\t\\t')\n",
        "\n",
        "for student in students:\n",
        "  # 학생들의 점수의 총합과 평균을 구하다\n",
        "  score_sum = student['korean'] + student['math'] + student['eng'] + student['sci']\n",
        "  score_avg = score_sum / 4\n",
        "\n",
        "  print(student['name'], score_sum, score_avg, sep='\\t\\t')\n",
        "\n",
        "# 딕셔너리로 학생 한명한명을 표현하고 이를 리스트로 묶어서 학생 전체를 표현했다.  \n",
        "# 여러가지 속성을 가질 수 있는 대상을 '객체'object 라고 부른다. \n",
        "# 그런데... 딕셔너리로 객체를 하나하나 만들면 복잡하고 귀찮다. 키를 모르면 사용하기도 어렵다. \n",
        "\n",
        "# 함수형태로 변형해보자."
      ]
    },
    {
      "cell_type": "code",
      "source": [
        "# 딕셔너리로 리턴하는 함수\n",
        "def create_student(name, korean, math, eng, sci):\n",
        "  return {\n",
        "      'name':name,\n",
        "      'korean':korean,\n",
        "      'math':math,\n",
        "      'eng':eng,\n",
        "      'sci':sci\n",
        "  }\n",
        "\n",
        "  # 학생들 리스트\n",
        "students = [\n",
        "            create_student('슈가', 87, 98, 88, 95),\n",
        "            create_student('진', 90, 99, 86, 97),\n",
        "            create_student('카리', 99, 89, 99, 99)\n",
        "]\n",
        "\n",
        "# 한명씩 반복\n",
        "print('이름','총점','평균', sep='\\t\\t')\n",
        "for student in students:\n",
        "  # 학생들의 점수의 총합과 평균을 구하다\n",
        "  score_sum = student['korean'] + student['math'] + student['eng'] + student['sci']\n",
        "  score_avg = score_sum / 4\n",
        "\n",
        "  print(student['name'], score_sum, score_avg, sep='\\t\\t')"
      ],
      "metadata": {
        "colab": {
          "base_uri": "https://localhost:8080/"
        },
        "id": "3mKHbwECHHjL",
        "outputId": "defb3c47-07a3-41d6-f616-84c317053e46"
      },
      "execution_count": 2,
      "outputs": [
        {
          "output_type": "stream",
          "name": "stdout",
          "text": [
            "이름\t\t총점\t\t평균\n",
            "슈가\t\t368\t\t92.0\n",
            "진\t\t372\t\t93.0\n",
            "카리\t\t386\t\t96.5\n"
          ]
        }
      ]
    },
    {
      "cell_type": "code",
      "source": [
        "# 실행 결과는 이전과 동일하다. 그럼 조금 더 변형해보자 .\n",
        "# 현재 총점과 평균을 구하는 처리는 학생을 대상으로만 이루어진다. 따라서 학생을 매개변수로 받는 형태의 함수로\n",
        "# 만들면 코드가 좀 더 균형잡히게 된다. \n",
        "\n",
        "\n",
        "# 딕셔너리로 리턴하는 함수\n",
        "def create_student(name, korean, math, eng, sci):\n",
        "  return {\n",
        "      'name':name,\n",
        "      'korean':korean,\n",
        "      'math':math,\n",
        "      'eng':eng,\n",
        "      'sci':sci\n",
        "  }\n",
        "\n",
        "# 학생들의 점수를 처리하는 부분들도 함수로 만들자. \n",
        "\n",
        "def student_get_sum(student):\n",
        "  return student['korean'] + student['math'] + student['eng'] + student['sci']\n",
        "\n",
        "def student_get_avg(student):\n",
        "  return student_get_sum(student) / 4\n",
        "\n",
        "def student_to_string(student):\n",
        "  return '{}\\t\\t{}\\t\\t{}'.format(student['name'], student_get_sum(student), student_get_avg(student))\n",
        "\n",
        "# 학생 리스트 선언\n",
        "\n",
        "students = [\n",
        "            create_student('슈가', 87, 98, 88, 95),\n",
        "            create_student('진', 90, 99, 86, 97),\n",
        "            create_student('카리', 99, 89, 99, 99)\n",
        "]\n",
        "\n",
        "print('이름','총점','평균', sep='\\t\\t')\n",
        "for student in students:\n",
        "  print(student_to_string(student))\n",
        "\n",
        "\n",
        "  # 실행 결과가 이전과 같지만 코드가 분리되고 있다. 학생이라는 객체와 관련된 기능이 위로 올라갔고\n",
        "  # 이 객체들을 사용하는 처리들은 아래로 내려갔다. 이렇게 하면 '학생 객체와 관련된 기능'를\n",
        "  # 별도의 모듈로 빼서 관리할수도 있다. \n",
        "\n",
        "  # 객체와 관련된 코드를 분리할수 있게 하는 것이 객체 지향 프로그래밍의 핵심이다. \n",
        "  # 클래스라는 구조를 사용하면 위와 같은 형태의 코드를 좀 더 쉽고 편하게 구현할 수 있다. "
      ],
      "metadata": {
        "colab": {
          "base_uri": "https://localhost:8080/"
        },
        "id": "yLTXVLjEJ25_",
        "outputId": "83585445-d26b-45f7-f4ae-5e792684e5c6"
      },
      "execution_count": 4,
      "outputs": [
        {
          "output_type": "stream",
          "name": "stdout",
          "text": [
            "이름\t\t총점\t\t평균\n",
            "슈가\t\t368\t\t92.0\n",
            "진\t\t372\t\t93.0\n",
            "카리\t\t386\t\t96.5\n"
          ]
        }
      ]
    },
    {
      "cell_type": "code",
      "source": [
        "# 클래스 선언\n",
        "class Student:\n",
        "  # 생성자 constructor\n",
        "  def __init__(self, name, korean, math, eng, sci):\n",
        "    self.name = name\n",
        "    self.korean = korean\n",
        "    self.math = math\n",
        "    self.eng  = eng \n",
        "    self.sci = sci\n",
        "\n",
        "# 학생 리스트\n",
        "\n",
        "students = [\n",
        "            Student('슈가', 87, 98, 88, 95),\n",
        "            Student('진', 90, 99, 86, 97),\n",
        "            Student('카리', 99, 89, 99, 99)\n",
        "]\n",
        "students[0].name\n",
        "students[1].name\n",
        "students[1].math"
      ],
      "metadata": {
        "colab": {
          "base_uri": "https://localhost:8080/"
        },
        "id": "l-KQbESkO-vt",
        "outputId": "a11e8d8d-9e45-41a7-b162-e17579852540"
      },
      "execution_count": 5,
      "outputs": [
        {
          "output_type": "execute_result",
          "data": {
            "text/plain": [
              "99"
            ]
          },
          "metadata": {},
          "execution_count": 5
        }
      ]
    },
    {
      "cell_type": "code",
      "source": [
        "# method 매서드\n",
        "# 클래스가 가지고 있는 함수를 매서드라고 부른다. \n",
        "# 매서드는 첫번째 매개변수로 self를 넣어야 한다. \n",
        "\n",
        "\n",
        "class Student:\n",
        "  # 생성자 constructor\n",
        "  def __init__(self, name, korean, math, eng, sci):\n",
        "    self.name = name\n",
        "    self.korean = korean\n",
        "    self.math = math\n",
        "    self.eng  = eng \n",
        "    self.sci = sci\n",
        "\n",
        "  def get_sum(self):\n",
        "    return self.korean + self.math + self.eng + self.sci\n",
        "\n",
        "  def get_avg(self):\n",
        "    return self.get_sum() / 4\n",
        "\n",
        "  def to_string(self):\n",
        "    return '{}\\t\\t{}\\t\\t{}'.format(self.name, self.get_sum(), self.get_avg())\n",
        "\n",
        "\n",
        "# 학생 리스트\n",
        "\n",
        "students = [\n",
        "            Student('슈가', 87, 98, 88, 95),\n",
        "            Student('진', 90, 99, 86, 97),\n",
        "            Student('카리', 99, 89, 99, 99)\n",
        "]\n",
        "\n",
        "print('이름','총점','평균', sep='\\t\\t')\n",
        "for student in students:\n",
        "  print(student.to_string())\n",
        "\n",
        "  # 어떤 객체가 가지고 있는 어떤 함수(기능)를 명확하게 이해할 수 있으므로 매우 편리하다. "
      ],
      "metadata": {
        "colab": {
          "base_uri": "https://localhost:8080/"
        },
        "id": "iWrB2J94PBGD",
        "outputId": "7059f3a4-393f-4571-d8a0-d8f8a6e15c6b"
      },
      "execution_count": 6,
      "outputs": [
        {
          "output_type": "stream",
          "name": "stdout",
          "text": [
            "이름\t\t총점\t\t평균\n",
            "슈가\t\t368\t\t92.0\n",
            "진\t\t372\t\t93.0\n",
            "카리\t\t386\t\t96.5\n"
          ]
        }
      ]
    },
    {
      "cell_type": "code",
      "source": [
        "# method 매서드\n",
        "# 클래스가 가지고 있는 함수를 매서드라고 부른다. \n",
        "# 매서드는 첫번째 매개변수로 self를 넣어야 한다. \n",
        "\n",
        "\n",
        "class Student:\n",
        "  # 생성자 constructor\n",
        "  def __init__(self, name, korean, math, eng, sci):\n",
        "    self.name = name\n",
        "    self.korean = korean\n",
        "    self.math = math\n",
        "    self.eng  = eng \n",
        "    self.sci = sci\n",
        "\n",
        "  def get_sum(self):\n",
        "    return self.korean + self.math + self.eng + self.sci\n",
        "\n",
        "  def get_avg(self):\n",
        "    return self.get_sum() / 4\n",
        "\n",
        "  def to_string(self):\n",
        "    return '{}\\t\\t{}\\t\\t{}'.format(self.name, self.get_sum(), self.get_avg())\n",
        "\n",
        "\n",
        "# 학생 리스트\n",
        "\n",
        "students = [\n",
        "            Student('슈가', 87, 98, 88, 95),\n",
        "            Student('진', 90, 99, 86, 97),\n",
        "            Student('카리', 99, 89, 99, 99)\n",
        "]\n",
        "\n",
        "print('이름','총점','평균', sep='\\t\\t')\n",
        "for student in students:\n",
        "  print(student.to_string())\n",
        "\n",
        "  # 어떤 객체가 가지고 있는 어떤 함수(기능)를 명확하게 이해할 수 있으므로 매우 편리하다. "
      ],
      "metadata": {
        "colab": {
          "base_uri": "https://localhost:8080/"
        },
        "id": "XymAyJmtUw80",
        "outputId": "989ee4bb-abe6-49db-f752-8e721a94621b"
      },
      "execution_count": 7,
      "outputs": [
        {
          "output_type": "stream",
          "name": "stdout",
          "text": [
            "이름\t\t총점\t\t평균\n",
            "슈가\t\t368\t\t92.0\n",
            "진\t\t372\t\t93.0\n",
            "카리\t\t386\t\t96.5\n"
          ]
        }
      ]
    },
    {
      "cell_type": "code",
      "source": [
        "result1 = 0\n",
        "result2 = 0\n",
        " \n",
        "# add함수는 입력받은 값을 이전에 계산한 값에 더한후 돌려주는 함수\n",
        "def add1(num):\n",
        "  global result1\n",
        "  result1 += num\n",
        "  return result1\n",
        "\n",
        "def add2(num):\n",
        "  global result2\n",
        "  result2 += num\n",
        "  return result2\n",
        "\n",
        "print(add1(3))\n",
        "print(add1(5))\n",
        "\n",
        "print(add2(2))\n",
        "print(add2(4))"
      ],
      "metadata": {
        "colab": {
          "base_uri": "https://localhost:8080/"
        },
        "id": "tRa7P0izU1iD",
        "outputId": "a12655b0-5ba2-4345-fdb9-63fb6fb6e1b9"
      },
      "execution_count": 8,
      "outputs": [
        {
          "output_type": "stream",
          "name": "stdout",
          "text": [
            "3\n",
            "8\n",
            "2\n",
            "6\n"
          ]
        }
      ]
    },
    {
      "cell_type": "code",
      "source": [
        "class Cal:\n",
        "  #생성자\n",
        "  def __init__(self):\n",
        "    self.result = 0\n",
        "\n",
        "  def add(self,num):\n",
        "    self.result += num\n",
        "    return self.result\n",
        "\n",
        "  def sub(self,num):\n",
        "    self.result -= num\n",
        "    return self.result\n",
        "\n",
        "cal1 = Cal()\n",
        "cal2 = Cal()\n",
        "\n",
        "print(cal1.add(3))\n",
        "print(cal1.add(4))\n",
        "\n",
        "print(cal2.add(5))\n",
        "print(cal2.add(6))"
      ],
      "metadata": {
        "colab": {
          "base_uri": "https://localhost:8080/"
        },
        "id": "vzaN6w3KU3cI",
        "outputId": "937021b2-b9ee-4c8f-c0b0-686f0c5e2686"
      },
      "execution_count": 9,
      "outputs": [
        {
          "output_type": "stream",
          "name": "stdout",
          "text": [
            "3\n",
            "7\n",
            "5\n",
            "11\n"
          ]
        }
      ]
    },
    {
      "cell_type": "code",
      "source": [
        "class FourCal:\n",
        "  def setdata(self, first, second):\n",
        "    self.first = first\n",
        "    self.second = second\n",
        "\n",
        "  def add(self):\n",
        "    result = self.first + self.second\n",
        "    return result\n",
        "\n",
        "  def sub(self):\n",
        "    result = self.first - self.second\n",
        "    return result\n",
        "\n",
        "  def mul(self):\n",
        "    result = self.first * self.second\n",
        "    return result\n",
        "\n",
        "  def div(self):\n",
        "    result = self.first / self.second\n",
        "    return result\n",
        "\n",
        "a = FourCal()\n",
        "# a.setdata(4,2)\n",
        "print(a.add())\n",
        "\n",
        "print(a.mul()) \n",
        "\n",
        "print(a.div())\n",
        "\n"
      ],
      "metadata": {
        "colab": {
          "base_uri": "https://localhost:8080/",
          "height": 376
        },
        "id": "zkYGPhe4i3hu",
        "outputId": "2eceac10-2d7a-4d41-bcf8-3383cd3cfbb5"
      },
      "execution_count": 19,
      "outputs": [
        {
          "output_type": "error",
          "ename": "AttributeError",
          "evalue": "ignored",
          "traceback": [
            "\u001b[0;31m---------------------------------------------------------------------------\u001b[0m",
            "\u001b[0;31mAttributeError\u001b[0m                            Traceback (most recent call last)",
            "\u001b[0;32m<ipython-input-19-8c37023998d3>\u001b[0m in \u001b[0;36m<module>\u001b[0;34m()\u001b[0m\n\u001b[1;32m     22\u001b[0m \u001b[0ma\u001b[0m \u001b[0;34m=\u001b[0m \u001b[0mFourCal\u001b[0m\u001b[0;34m(\u001b[0m\u001b[0;34m)\u001b[0m\u001b[0;34m\u001b[0m\u001b[0;34m\u001b[0m\u001b[0m\n\u001b[1;32m     23\u001b[0m \u001b[0;31m# a.setdata(4,2)\u001b[0m\u001b[0;34m\u001b[0m\u001b[0;34m\u001b[0m\u001b[0;34m\u001b[0m\u001b[0m\n\u001b[0;32m---> 24\u001b[0;31m \u001b[0mprint\u001b[0m\u001b[0;34m(\u001b[0m\u001b[0ma\u001b[0m\u001b[0;34m.\u001b[0m\u001b[0madd\u001b[0m\u001b[0;34m(\u001b[0m\u001b[0;34m)\u001b[0m\u001b[0;34m)\u001b[0m\u001b[0;34m\u001b[0m\u001b[0;34m\u001b[0m\u001b[0m\n\u001b[0m\u001b[1;32m     25\u001b[0m \u001b[0;34m\u001b[0m\u001b[0m\n\u001b[1;32m     26\u001b[0m \u001b[0mprint\u001b[0m\u001b[0;34m(\u001b[0m\u001b[0ma\u001b[0m\u001b[0;34m.\u001b[0m\u001b[0mmul\u001b[0m\u001b[0;34m(\u001b[0m\u001b[0;34m)\u001b[0m\u001b[0;34m)\u001b[0m\u001b[0;34m\u001b[0m\u001b[0;34m\u001b[0m\u001b[0m\n",
            "\u001b[0;32m<ipython-input-19-8c37023998d3>\u001b[0m in \u001b[0;36madd\u001b[0;34m(self)\u001b[0m\n\u001b[1;32m      5\u001b[0m \u001b[0;34m\u001b[0m\u001b[0m\n\u001b[1;32m      6\u001b[0m   \u001b[0;32mdef\u001b[0m \u001b[0madd\u001b[0m\u001b[0;34m(\u001b[0m\u001b[0mself\u001b[0m\u001b[0;34m)\u001b[0m\u001b[0;34m:\u001b[0m\u001b[0;34m\u001b[0m\u001b[0;34m\u001b[0m\u001b[0m\n\u001b[0;32m----> 7\u001b[0;31m     \u001b[0mresult\u001b[0m \u001b[0;34m=\u001b[0m \u001b[0mself\u001b[0m\u001b[0;34m.\u001b[0m\u001b[0mfirst\u001b[0m \u001b[0;34m+\u001b[0m \u001b[0mself\u001b[0m\u001b[0;34m.\u001b[0m\u001b[0msecond\u001b[0m\u001b[0;34m\u001b[0m\u001b[0;34m\u001b[0m\u001b[0m\n\u001b[0m\u001b[1;32m      8\u001b[0m     \u001b[0;32mreturn\u001b[0m \u001b[0mresult\u001b[0m\u001b[0;34m\u001b[0m\u001b[0;34m\u001b[0m\u001b[0m\n\u001b[1;32m      9\u001b[0m \u001b[0;34m\u001b[0m\u001b[0m\n",
            "\u001b[0;31mAttributeError\u001b[0m: 'FourCal' object has no attribute 'first'"
          ]
        }
      ]
    },
    {
      "cell_type": "code",
      "source": [
        "# 생성자 constructor 객체가 생성될 때 자동으로 호출되는 메서드를 의미한다.\n",
        "\n",
        "class FourCal:\n",
        "  # 생성자\n",
        "  def __init__(self, first, second):\n",
        "    self.first = first\n",
        "    self.second = second\n",
        "\n",
        "  # def setdata(self, first, second):\n",
        "  #   self.first = first\n",
        "  #   self.second = second\n",
        "\n",
        "  def add(self):\n",
        "    result = self.first + self.second\n",
        "    return result\n",
        "\n",
        "  def sub(self):\n",
        "    result = self.first - self.second\n",
        "    return result\n",
        "\n",
        "  def mul(self):\n",
        "    result = self.first * self.second\n",
        "    return result\n",
        "\n",
        "  def div(self):\n",
        "    result = self.first / self.second\n",
        "    return result\n",
        "\n",
        "a = FourCal(4,2)\n",
        "# a.setdata(4,2)\n",
        "print(a.add())\n",
        "\n",
        "print(a.mul()) \n",
        "\n",
        "print(a.div())\n",
        "\n"
      ],
      "metadata": {
        "colab": {
          "base_uri": "https://localhost:8080/"
        },
        "id": "s2zyLkwxi6e_",
        "outputId": "5a74f7fb-67a0-452f-bce6-59262d9c14ef"
      },
      "execution_count": 11,
      "outputs": [
        {
          "output_type": "stream",
          "name": "stdout",
          "text": [
            "6\n",
            "8\n",
            "2.0\n"
          ]
        }
      ]
    },
    {
      "cell_type": "code",
      "source": [
        "# 상속  inheritance - 어떤 클래스를 만들때 다른 클래스의 기능을 물려받아 사용한다. \n",
        "\n",
        "class MoreFourCal(FourCal):\n",
        "  pass\n",
        "\n",
        "a = MoreFourCal(4,2)\n",
        "a.add()"
      ],
      "metadata": {
        "colab": {
          "base_uri": "https://localhost:8080/"
        },
        "id": "cdn64gK6i9K-",
        "outputId": "1695a578-9c33-42c1-d031-9e3b3c6388cb"
      },
      "execution_count": 12,
      "outputs": [
        {
          "output_type": "execute_result",
          "data": {
            "text/plain": [
              "6"
            ]
          },
          "metadata": {},
          "execution_count": 12
        }
      ]
    },
    {
      "cell_type": "code",
      "source": [
        "class MoreFourCal(FourCal):\n",
        "  def pow(self):\n",
        "    result = self.first ** self.second\n",
        "    return result\n",
        "\n",
        "a = MoreFourCal(4,2)\n",
        "a.pow()"
      ],
      "metadata": {
        "colab": {
          "base_uri": "https://localhost:8080/"
        },
        "id": "N-mBHuHsi-m3",
        "outputId": "3424a090-b598-459f-dc8b-988bb6656eea"
      },
      "execution_count": 13,
      "outputs": [
        {
          "output_type": "execute_result",
          "data": {
            "text/plain": [
              "16"
            ]
          },
          "metadata": {},
          "execution_count": 13
        }
      ]
    },
    {
      "cell_type": "code",
      "source": [
        "# 매서드 오버라이딩 method overriding\n",
        "\n",
        "a = FourCal(4,0)\n",
        "a.div()"
      ],
      "metadata": {
        "colab": {
          "base_uri": "https://localhost:8080/",
          "height": 339
        },
        "id": "uenC3-Vpi_9O",
        "outputId": "db790b00-d0d8-41c7-91da-76c050085476"
      },
      "execution_count": 14,
      "outputs": [
        {
          "output_type": "error",
          "ename": "ZeroDivisionError",
          "evalue": "ignored",
          "traceback": [
            "\u001b[0;31m---------------------------------------------------------------------------\u001b[0m",
            "\u001b[0;31mZeroDivisionError\u001b[0m                         Traceback (most recent call last)",
            "\u001b[0;32m<ipython-input-14-bd67d1e22c1a>\u001b[0m in \u001b[0;36m<module>\u001b[0;34m()\u001b[0m\n\u001b[1;32m      2\u001b[0m \u001b[0;34m\u001b[0m\u001b[0m\n\u001b[1;32m      3\u001b[0m \u001b[0ma\u001b[0m \u001b[0;34m=\u001b[0m \u001b[0mFourCal\u001b[0m\u001b[0;34m(\u001b[0m\u001b[0;36m4\u001b[0m\u001b[0;34m,\u001b[0m\u001b[0;36m0\u001b[0m\u001b[0;34m)\u001b[0m\u001b[0;34m\u001b[0m\u001b[0;34m\u001b[0m\u001b[0m\n\u001b[0;32m----> 4\u001b[0;31m \u001b[0ma\u001b[0m\u001b[0;34m.\u001b[0m\u001b[0mdiv\u001b[0m\u001b[0;34m(\u001b[0m\u001b[0;34m)\u001b[0m\u001b[0;34m\u001b[0m\u001b[0;34m\u001b[0m\u001b[0m\n\u001b[0m",
            "\u001b[0;32m<ipython-input-11-8c80aee01bcf>\u001b[0m in \u001b[0;36mdiv\u001b[0;34m(self)\u001b[0m\n\u001b[1;32m     24\u001b[0m \u001b[0;34m\u001b[0m\u001b[0m\n\u001b[1;32m     25\u001b[0m   \u001b[0;32mdef\u001b[0m \u001b[0mdiv\u001b[0m\u001b[0;34m(\u001b[0m\u001b[0mself\u001b[0m\u001b[0;34m)\u001b[0m\u001b[0;34m:\u001b[0m\u001b[0;34m\u001b[0m\u001b[0;34m\u001b[0m\u001b[0m\n\u001b[0;32m---> 26\u001b[0;31m     \u001b[0mresult\u001b[0m \u001b[0;34m=\u001b[0m \u001b[0mself\u001b[0m\u001b[0;34m.\u001b[0m\u001b[0mfirst\u001b[0m \u001b[0;34m/\u001b[0m \u001b[0mself\u001b[0m\u001b[0;34m.\u001b[0m\u001b[0msecond\u001b[0m\u001b[0;34m\u001b[0m\u001b[0;34m\u001b[0m\u001b[0m\n\u001b[0m\u001b[1;32m     27\u001b[0m     \u001b[0;32mreturn\u001b[0m \u001b[0mresult\u001b[0m\u001b[0;34m\u001b[0m\u001b[0;34m\u001b[0m\u001b[0m\n\u001b[1;32m     28\u001b[0m \u001b[0;34m\u001b[0m\u001b[0m\n",
            "\u001b[0;31mZeroDivisionError\u001b[0m: division by zero"
          ]
        }
      ]
    },
    {
      "cell_type": "code",
      "source": [
        "class SafeFourCal(FourCal):\n",
        "  def div(self):\n",
        "    if self.second == 0:\n",
        "      return 0\n",
        "    else:\n",
        "      return self.first / self.second\n",
        "\n",
        "a = SafeFourCal(4,0)     \n",
        "a.div()"
      ],
      "metadata": {
        "colab": {
          "base_uri": "https://localhost:8080/"
        },
        "id": "lPlkc81DjBuy",
        "outputId": "2bef6594-855c-40be-8303-fc2d2c6b3d4d"
      },
      "execution_count": 15,
      "outputs": [
        {
          "output_type": "execute_result",
          "data": {
            "text/plain": [
              "0"
            ]
          },
          "metadata": {},
          "execution_count": 15
        }
      ]
    },
    {
      "cell_type": "code",
      "source": [
        "# 클래스 변수\n",
        "\n",
        "# 객체변수는 다른 객체들에 영향받지 않고 독립적으로 그 값을 유지한다는 점을 \n",
        "# 이미 알아보았다.\n",
        "# 이번에는 객체변수와는 성격이 다른 클래스 변수에 대해 알아보자.\n",
        "\n",
        "class Family:\n",
        "  lastname = '김'  # 클래스 변수 선언\n",
        "\n",
        "Family.lastname\n",
        "\n",
        "a = Family()\n",
        "b = Family()\n",
        "\n",
        "print(a.lastname)\n",
        "print(b.lastname)\n",
        "\n",
        "Family.lastname = \"박\"\n",
        "\n",
        "print(a.lastname)\n",
        "print(b.lastname)"
      ],
      "metadata": {
        "colab": {
          "base_uri": "https://localhost:8080/"
        },
        "id": "A88cRHGvjDIs",
        "outputId": "285712b4-91aa-4f30-f3ca-947d46e90b05"
      },
      "execution_count": 20,
      "outputs": [
        {
          "output_type": "stream",
          "name": "stdout",
          "text": [
            "김\n",
            "김\n",
            "박\n",
            "박\n"
          ]
        }
      ]
    }
  ]
}